{
 "cells": [
  {
   "cell_type": "markdown",
   "metadata": {},
   "source": [
    "# Running a Vanilla Variational Autoencoder on the MIMIC-III Dataset"
   ]
  },
  {
   "cell_type": "code",
   "execution_count": 3,
   "metadata": {},
   "outputs": [],
   "source": [
    "# Adapted from https://github.com/keras-team/keras/blob/master/examples/variational_autoencoder.py\n",
    "import numpy as np\n",
    "import pandas as pd\n",
    "import matplotlib.pyplot as plt\n",
    "\n",
    "import os\n",
    "os.environ[\"KERAS_BACKEND\"] = \"tensorflow\"  # Rather than Torch, for example\n",
    "\n",
    "import keras\n",
    "from keras.layers import Input, Dense, Lambda, Layer, Add, Multiply\n",
    "from keras.models import Model, Sequential\n",
    "from keras.objectives import binary_crossentropy\n",
    "from keras.callbacks import LearningRateScheduler\n",
    "from keras.callbacks import EarlyStopping\n",
    "import keras.backend as K\n",
    "import random\n",
    "import scipy\n",
    "from scipy.stats import norm\n",
    "from scipy.stats import multivariate_normal\n",
    "import sklearn\n",
    "from sklearn import model_selection\n",
    "import tensorflow as tf"
   ]
  },
  {
   "cell_type": "markdown",
   "metadata": {},
   "source": [
    "### Reading in the Data"
   ]
  },
  {
   "cell_type": "code",
   "execution_count": 10,
   "metadata": {},
   "outputs": [
    {
     "data": {
      "text/html": [
       "<div>\n",
       "<style scoped>\n",
       "    .dataframe tbody tr th:only-of-type {\n",
       "        vertical-align: middle;\n",
       "    }\n",
       "\n",
       "    .dataframe tbody tr th {\n",
       "        vertical-align: top;\n",
       "    }\n",
       "\n",
       "    .dataframe thead th {\n",
       "        text-align: right;\n",
       "    }\n",
       "</style>\n",
       "<table border=\"1\" class=\"dataframe\">\n",
       "  <thead>\n",
       "    <tr style=\"text-align: right;\">\n",
       "      <th></th>\n",
       "      <th>hosp_exp_flag</th>\n",
       "      <th>icu_exp_flag</th>\n",
       "      <th>day_28_flag</th>\n",
       "      <th>chf_flag</th>\n",
       "      <th>afib_flag</th>\n",
       "      <th>renal_flag</th>\n",
       "      <th>liver_flag</th>\n",
       "      <th>copd_flag</th>\n",
       "      <th>cad_flag</th>\n",
       "      <th>stroke_flag</th>\n",
       "      <th>malignancy_flag</th>\n",
       "      <th>respfail_flag</th>\n",
       "      <th>endocarditis_flag</th>\n",
       "      <th>ards_flag</th>\n",
       "      <th>pneumonia_flag</th>\n",
       "    </tr>\n",
       "  </thead>\n",
       "  <tbody>\n",
       "    <tr>\n",
       "      <th>0</th>\n",
       "      <td>0</td>\n",
       "      <td>0</td>\n",
       "      <td>0</td>\n",
       "      <td>1</td>\n",
       "      <td>1</td>\n",
       "      <td>1</td>\n",
       "      <td>0</td>\n",
       "      <td>0</td>\n",
       "      <td>0</td>\n",
       "      <td>0</td>\n",
       "      <td>0</td>\n",
       "      <td>0</td>\n",
       "      <td>0</td>\n",
       "      <td>0</td>\n",
       "      <td>0</td>\n",
       "    </tr>\n",
       "    <tr>\n",
       "      <th>1</th>\n",
       "      <td>0</td>\n",
       "      <td>0</td>\n",
       "      <td>0</td>\n",
       "      <td>0</td>\n",
       "      <td>0</td>\n",
       "      <td>0</td>\n",
       "      <td>0</td>\n",
       "      <td>0</td>\n",
       "      <td>0</td>\n",
       "      <td>0</td>\n",
       "      <td>0</td>\n",
       "      <td>0</td>\n",
       "      <td>0</td>\n",
       "      <td>0</td>\n",
       "      <td>0</td>\n",
       "    </tr>\n",
       "    <tr>\n",
       "      <th>2</th>\n",
       "      <td>0</td>\n",
       "      <td>0</td>\n",
       "      <td>0</td>\n",
       "      <td>0</td>\n",
       "      <td>0</td>\n",
       "      <td>0</td>\n",
       "      <td>0</td>\n",
       "      <td>0</td>\n",
       "      <td>0</td>\n",
       "      <td>0</td>\n",
       "      <td>1</td>\n",
       "      <td>1</td>\n",
       "      <td>0</td>\n",
       "      <td>0</td>\n",
       "      <td>0</td>\n",
       "    </tr>\n",
       "    <tr>\n",
       "      <th>3</th>\n",
       "      <td>0</td>\n",
       "      <td>0</td>\n",
       "      <td>0</td>\n",
       "      <td>0</td>\n",
       "      <td>1</td>\n",
       "      <td>0</td>\n",
       "      <td>0</td>\n",
       "      <td>0</td>\n",
       "      <td>1</td>\n",
       "      <td>0</td>\n",
       "      <td>0</td>\n",
       "      <td>0</td>\n",
       "      <td>0</td>\n",
       "      <td>0</td>\n",
       "      <td>0</td>\n",
       "    </tr>\n",
       "    <tr>\n",
       "      <th>4</th>\n",
       "      <td>0</td>\n",
       "      <td>0</td>\n",
       "      <td>0</td>\n",
       "      <td>0</td>\n",
       "      <td>0</td>\n",
       "      <td>0</td>\n",
       "      <td>0</td>\n",
       "      <td>0</td>\n",
       "      <td>0</td>\n",
       "      <td>0</td>\n",
       "      <td>0</td>\n",
       "      <td>0</td>\n",
       "      <td>0</td>\n",
       "      <td>0</td>\n",
       "      <td>0</td>\n",
       "    </tr>\n",
       "  </tbody>\n",
       "</table>\n",
       "</div>"
      ],
      "text/plain": [
       "   hosp_exp_flag  icu_exp_flag  day_28_flag  chf_flag  afib_flag  renal_flag  \\\n",
       "0              0             0            0         1          1           1   \n",
       "1              0             0            0         0          0           0   \n",
       "2              0             0            0         0          0           0   \n",
       "3              0             0            0         0          1           0   \n",
       "4              0             0            0         0          0           0   \n",
       "\n",
       "   liver_flag  copd_flag  cad_flag  stroke_flag  malignancy_flag  \\\n",
       "0           0          0         0            0                0   \n",
       "1           0          0         0            0                0   \n",
       "2           0          0         0            0                1   \n",
       "3           0          0         1            0                0   \n",
       "4           0          0         0            0                0   \n",
       "\n",
       "   respfail_flag  endocarditis_flag  ards_flag  pneumonia_flag  \n",
       "0              0                  0          0               0  \n",
       "1              0                  0          0               0  \n",
       "2              1                  0          0               0  \n",
       "3              0                  0          0               0  \n",
       "4              0                  0          0               0  "
      ]
     },
     "execution_count": 10,
     "metadata": {},
     "output_type": "execute_result"
    }
   ],
   "source": [
    "# Read in the data, make sure it's numeric\n",
    "#X = pd.read_csv(\"../milestone_cohort_fixed.csv\")\n",
    "#X = X.iloc[:,5:] # We don't include the patient, hospital, or ICU stay ID's because they're meaningless in this context\n",
    "X = pd.read_csv(\"../aline_imputed.csv\")\n",
    "#X.head()\n",
    "'''\n",
    "X = aline_data.drop(['Unnamed: 0','y'], axis=1)\n",
    "Y = pd.DataFrame(aline_data['y'])aline_data = pd.read_csv('../aline_imputed.csv')\n",
    "aline_data.iloc[:,4:].columns.values\n",
    "colnames = aline_data.iloc[:,4:].columns.values\n",
    "aline_data = aline_data.drop(['Unnamed: 0','Unnamed: 0.1','subject_id', 'hadm_id', 'icustay_id'], axis=1)\n",
    "aline_data.head()\n",
    "'''\n",
    "X.columns.values\n",
    "X.columns.values[:-15]"
   ]
  },
  {
   "cell_type": "markdown",
   "metadata": {},
   "source": [
    "### Splitting into a train/test fold"
   ]
  },
  {
   "cell_type": "code",
   "execution_count": 3,
   "metadata": {},
   "outputs": [
    {
     "name": "stderr",
     "output_type": "stream",
     "text": [
      "/home/ubuntu/anaconda3/lib/python3.6/site-packages/sklearn/model_selection/_split.py:2026: FutureWarning: From version 0.21, test_size will always complement train_size unless both are specified.\n",
      "  FutureWarning)\n"
     ]
    }
   ],
   "source": [
    "# Set the train/test size\n",
    "X_train, X_test = sklearn.model_selection.train_test_split(X, train_size=0.8)\n",
    "\n",
    "X_train, Y_train = X_train.iloc[:, :-15], X_train.iloc[:,-15:]\n",
    "X_test, Y_test = X_test.iloc[:, :-15], X_test.iloc[:,-15:]\n",
    "\n",
    "\n",
    "# Convert your inputs to numpy arrays (Keras doesn't play nice with pandas dataframes)\n",
    "#Y_train, Y_test = pd.DataFrame(X_train.iloc[:,-1]), pd.DataFrame(X_test.iloc[:,-1])\n",
    "#X_train, X_test = X_train.iloc[:,:-1], X_test.iloc[:,:-1]\n",
    "  \n",
    "#X_train, Y_train = np.array(X_train), np.array(Y_train)\n",
    "#X_test, Y_test = np.array(X_test), np.array(Y_test)"
   ]
  },
  {
   "cell_type": "markdown",
   "metadata": {},
   "source": [
    "### Training a decoder, generator and decoder+generator VAE on the dataset"
   ]
  },
  {
   "cell_type": "code",
   "execution_count": 4,
   "metadata": {},
   "outputs": [],
   "source": [
    "def evaluate_vae_model(X_train, X_test, latent_dimensions, intermediate_dimensions):\n",
    "    \n",
    "    #Hyperparameters of interest\n",
    "    intermediate_dim = intermediate_dimensions\n",
    "    latent_dim = latent_dimensions\n",
    "    \n",
    "    # Other hyperparameters\n",
    "    original_dim = X_test.shape[1]  # Calculated automatically\n",
    "    batch_size = X_test.shape[0]  # This might affect the learning rate, but shouldn't affect the overall model outcome\n",
    "    n_epochs = 10  # Not as important when we use the early stopping method (as we do in this method)\n",
    "    epsilon_std = 1.0  # This shouldn't significantly change the model performance, as the z_log_sigma will adjust to accommodate\n",
    "    \n",
    "    # The Encoder, from the original data to the latent dimensions\n",
    "    inputs = Input(shape=(original_dim,))\n",
    "    hidden = Dense(intermediate_dim, activation='relu')(inputs)\n",
    "    z_mean = Dense(latent_dim, activation='linear')(hidden)\n",
    "    z_log_sigma = Dense(latent_dim, activation='linear')(hidden)\n",
    "    \n",
    "    # The sampler\n",
    "    def sample_z(args):\n",
    "        z_mean, z_log_sigma = args\n",
    "        eps = K.random_normal(shape=(K.shape(inputs)[0], latent_dim),\n",
    "                             mean=0., stddev=1.)\n",
    "        return z_mean + K.exp(z_log_sigma / 2) * eps  # Element-wise product of SD with gaussian noise, + mean vector\n",
    "\n",
    "    z = Lambda(sample_z, output_shape=(latent_dim,))([z_mean, z_log_sigma])\n",
    "    \n",
    "    # The Decoder\n",
    "    decoder_h = Dense(intermediate_dim, activation='relu')  # We don't specify the inputs because we'll use...\n",
    "    decoder_mean = Dense(original_dim, activation='linear')  # ...the same layers again for the generator model below\n",
    "    decoder_log_sigma = Dense(original_dim, activation='linear')\n",
    "    h_decoded = decoder_h(z)\n",
    "    output_decoded_mean = decoder_mean(h_decoded)  # Our output is a mean vector (point estimate) and...\n",
    "    output_decoded_log_sigma = decoder_log_sigma(h_decoded)  # ...a log_sigma, or log_variance vector...\n",
    "                                                            # which quantifies our certainty about the point estimate\n",
    "        \n",
    "    # The end-to-end autoencoder\n",
    "    vae = Model(inputs, output_decoded_mean)\n",
    "\n",
    "    # An encoder, from inputs to the latent space\n",
    "    encoder = Model(inputs, z_mean)\n",
    "\n",
    "    # A generator, from the latent space to the reconstructed inputs\n",
    "    generator_input = Input(shape=(latent_dim,))\n",
    "    generator_h_decoded = decoder_h(generator_input)\n",
    "    generator_output_decoded_mean = decoder_mean(generator_h_decoded)\n",
    "    generator_output_decoded_log_sigma = decoder_log_sigma(generator_h_decoded)\n",
    "    generator = Model(generator_input, [generator_output_decoded_mean, generator_output_decoded_log_sigma])\n",
    "    \n",
    "    def vae_loss(y_true, y_pred):\n",
    "        \"\"\" Calculate loss = reconstruction loss + KL loss for each data in minibatch \"\"\"\n",
    "        # -E[log P(X|z)]    \n",
    "        reconstruction_loss = neg_log_likelihood(y_true, y_pred)\n",
    "\n",
    "        # D_KL(Q(z|X) || P(z|X)); calculate in closed form as both dist. are Gaussian\n",
    "        kl_loss = KL_divergence_loss(y_true, y_pred)\n",
    "\n",
    "        return reconstruction_loss + kl_loss\n",
    "\n",
    "    def neg_log_likelihood(y_true, y_pred):\n",
    "        \"\"\" Calculate a proper negative log-likelihood where NLL = -log p(y_pred | mu=y_true, sigma=output_decoded_log_sigma)\"\"\"\n",
    "        negative_log_likelihood = (1./2.) * \\\n",
    "                        (\n",
    "                            K.int_shape(inputs)[1] * K.log(2. * np.pi) + \\\n",
    "                            K.sum(output_decoded_log_sigma, axis=-1, keepdims=True) + \\\n",
    "                            K.sum(\n",
    "                                K.square(y_true - y_pred) * (1. / K.exp(output_decoded_log_sigma)), \n",
    "                                axis=-1, keepdims=True\n",
    "                            )\n",
    "                        )\n",
    "        return negative_log_likelihood\n",
    "    \n",
    "    # An alternative loss function... should give similar results as the above, but isn't a proper NLL per-se\n",
    "    def squared_difference_loss(y_true, y_pred):\n",
    "        \"\"\" Calculate a naive reconstruction loss, i.e. ||y_true - y_pred||^2 \"\"\"\n",
    "        return K.sum(K.square(y_true - y_pred), axis=-1)  # TODO! This isn't strictly speaking the NLL, but it's a half decent approximation for now\n",
    "\n",
    "    def KL_divergence_loss(y_true, y_pred):\n",
    "        \"\"\" Calculate the KL Divergence portion of the loss, i.e. D_KL(Q(z|X) || P(z|X)) \"\"\"\n",
    "        return 0.5 * K.sum(K.exp(z_log_sigma) + K.square(z_mean) - 1. - z_log_sigma, axis=-1)\n",
    "\n",
    "    vae.compile(optimizer='rmsprop', \n",
    "                loss=vae_loss, \n",
    "                metrics=[squared_difference_loss, \n",
    "                         KL_divergence_loss, \n",
    "                         neg_log_likelihood\n",
    "                        ]\n",
    "               )\n",
    "\n",
    "    # define an early stopping callback criterion so that we don't overfit\n",
    "    earlystop = keras.callbacks.EarlyStopping(monitor='val_loss',  # The quantity to be monitored\n",
    "                                             min_delta=0.0001,  # Minimum change in the monitored quantity in order to qualify\n",
    "                                                                # as an improvement (if an absolute change of less than min_delta occurs,\n",
    "                                                                # will not count as no improvement)\n",
    "                                             patience=10,  # The number of epochs with no improvement after which training will be stopped\n",
    "                                             verbose=0,  # Verbosity mode\n",
    "                                             mode='min')  # Training will stop when the quantity monitored has stopped decreasing\n",
    "    \n",
    "    callbacks_list = [earlystop]\n",
    "    \n",
    "    history = vae.fit(X_train,\n",
    "                      X_train,\n",
    "                      shuffle=True,\n",
    "                      epochs=n_epochs,\n",
    "                      verbose=1,\n",
    "                      batch_size=batch_size,\n",
    "                      callbacks=callbacks_list,\n",
    "                      validation_split=0.3)\n",
    "    \n",
    "    X_test_encoded = encoder.predict(X_test)  # We take our test data directly from data-space to latent variable\n",
    "    X_test_decoded_mean, X_test_decoded_log_sigma = generator.predict(X_test_encoded)  # space to calculate the\n",
    "    # marginal log likelihood of the data under our fully-trained model (i.e. we don't add noise)\n",
    "    test_nll = (1./2.) * \\\n",
    "               (\n",
    "                   X_test.shape[1] * np.log(2. * np.pi) + \\\n",
    "                   np.sum(X_test_decoded_log_sigma, axis=-1, keepdims=True) + \\\n",
    "                   np.sum(\n",
    "                       np.square(X_test - X_test_decoded_mean) * (1. / np.exp(X_test_decoded_log_sigma)), \n",
    "                       axis=-1, keepdims=True\n",
    "                   )\n",
    "               )\n",
    "    \n",
    "    return np.mean(test_nll), vae, encoder, generator, history"
   ]
  },
  {
   "cell_type": "code",
   "execution_count": null,
   "metadata": {},
   "outputs": [],
   "source": []
  },
  {
   "cell_type": "code",
   "execution_count": 5,
   "metadata": {
    "scrolled": true
   },
   "outputs": [
    {
     "name": "stdout",
     "output_type": "stream",
     "text": [
      "Train on 29507 samples, validate on 12647 samples\n",
      "Epoch 1/10\n",
      "29507/29507 [==============================] - 7s 236us/step - loss: 35.4058 - squared_difference_loss: 24.7958 - KL_divergence_loss: 1.4841 - neg_log_likelihood: 33.9217 - val_loss: 34.2383 - val_squared_difference_loss: 23.3723 - val_KL_divergence_loss: 1.2323 - val_neg_log_likelihood: 33.0060\n",
      "Epoch 2/10\n",
      "29507/29507 [==============================] - 7s 230us/step - loss: 34.0826 - squared_difference_loss: 23.2368 - KL_divergence_loss: 1.1957 - neg_log_likelihood: 32.8869 - val_loss: 33.5272 - val_squared_difference_loss: 22.5912 - val_KL_divergence_loss: 1.0731 - val_neg_log_likelihood: 32.4542\n",
      "Epoch 3/10\n",
      "29507/29507 [==============================] - 7s 230us/step - loss: 33.3731 - squared_difference_loss: 22.5519 - KL_divergence_loss: 1.0577 - neg_log_likelihood: 32.3155 - val_loss: 33.1362 - val_squared_difference_loss: 22.1698 - val_KL_divergence_loss: 0.9784 - val_neg_log_likelihood: 32.1578\n",
      "Epoch 4/10\n",
      "29507/29507 [==============================] - 7s 230us/step - loss: 32.9834 - squared_difference_loss: 22.1430 - KL_divergence_loss: 0.9687 - neg_log_likelihood: 32.0147 - val_loss: 32.8293 - val_squared_difference_loss: 21.8328 - val_KL_divergence_loss: 0.9051 - val_neg_log_likelihood: 31.9242\n",
      "Epoch 5/10\n",
      "29507/29507 [==============================] - 7s 230us/step - loss: 32.7000 - squared_difference_loss: 21.8530 - KL_divergence_loss: 0.9001 - neg_log_likelihood: 31.7999 - val_loss: 32.5628 - val_squared_difference_loss: 21.5597 - val_KL_divergence_loss: 0.8488 - val_neg_log_likelihood: 31.7140\n",
      "Epoch 6/10\n",
      "29507/29507 [==============================] - 7s 230us/step - loss: 32.4740 - squared_difference_loss: 21.6167 - KL_divergence_loss: 0.8461 - neg_log_likelihood: 31.6278 - val_loss: 32.3804 - val_squared_difference_loss: 21.3653 - val_KL_divergence_loss: 0.8074 - val_neg_log_likelihood: 31.5730\n",
      "Epoch 7/10\n",
      "29507/29507 [==============================] - 7s 230us/step - loss: 32.2772 - squared_difference_loss: 21.4080 - KL_divergence_loss: 0.8070 - neg_log_likelihood: 31.4702 - val_loss: 32.1826 - val_squared_difference_loss: 21.2045 - val_KL_divergence_loss: 0.7730 - val_neg_log_likelihood: 31.4096\n",
      "Epoch 8/10\n",
      "29507/29507 [==============================] - 7s 230us/step - loss: 32.1259 - squared_difference_loss: 21.2329 - KL_divergence_loss: 0.7748 - neg_log_likelihood: 31.3511 - val_loss: 32.0435 - val_squared_difference_loss: 21.0466 - val_KL_divergence_loss: 0.7493 - val_neg_log_likelihood: 31.2942\n",
      "Epoch 9/10\n",
      "29507/29507 [==============================] - 7s 230us/step - loss: 31.9538 - squared_difference_loss: 21.0884 - KL_divergence_loss: 0.7510 - neg_log_likelihood: 31.2027 - val_loss: 31.9122 - val_squared_difference_loss: 20.8957 - val_KL_divergence_loss: 0.7332 - val_neg_log_likelihood: 31.1790\n",
      "Epoch 10/10\n",
      "29507/29507 [==============================] - 7s 230us/step - loss: 31.8350 - squared_difference_loss: 20.9539 - KL_divergence_loss: 0.7362 - neg_log_likelihood: 31.0988 - val_loss: 31.7972 - val_squared_difference_loss: 20.7792 - val_KL_divergence_loss: 0.7228 - val_neg_log_likelihood: 31.0744\n"
     ]
    }
   ],
   "source": [
    "n_z = 4 # Number of units in the latent variable representation\n",
    "n_h = 50 # Number of hidden units in encoder/decoder\n",
    "test_err, vae, encoder, generator, history = evaluate_vae_model(X_train, X_test, n_z, n_h)"
   ]
  },
  {
   "cell_type": "markdown",
   "metadata": {},
   "source": [
    "### Plot the Train Loss & Validation Loss vs. Number of Epochs to see our model's performance"
   ]
  },
  {
   "cell_type": "code",
   "execution_count": 6,
   "metadata": {
    "scrolled": false
   },
   "outputs": [
    {
     "data": {
      "image/png": "[encoded data removed]",
      "text/plain": [
       "<matplotlib.figure.Figure at 0x7f57eb062e80>"
      ]
     },
     "metadata": {},
     "output_type": "display_data"
    }
   ],
   "source": [
    "fig, ax = plt.subplots(figsize=(10,8))\n",
    "\n",
    "ax.plot(history.history['loss'][5:], label='Train Loss')\n",
    "ax.plot(history.history['val_loss'][5:], label='Validation Loss')\n",
    "\n",
    "ax.legend()\n",
    "\n",
    "\n",
    "ax.set_ylabel('NELBO')\n",
    "ax.set_xlabel('# epochs')\n",
    "\n",
    "plt.title('VAE Loss vs. # of Epochs')\n",
    "plt.show()"
   ]
  },
  {
   "cell_type": "code",
   "execution_count": 10,
   "metadata": {},
   "outputs": [
    {
     "data": {
      "text/plain": [
       "(42154, 23)"
      ]
     },
     "execution_count": 10,
     "metadata": {},
     "output_type": "execute_result"
    }
   ],
   "source": [
    "X_train.shape"
   ]
  },
  {
   "cell_type": "markdown",
   "metadata": {},
   "source": [
    "### Examining the relationship between the latent variables and the original variables"
   ]
  },
  {
   "cell_type": "code",
   "execution_count": 12,
   "metadata": {},
   "outputs": [],
   "source": [
    "names = list(X.columns[-1])\n",
    "n_examples = 20000\n",
    "\n",
    "old_pats = X_train[:n_examples]\n",
    "zvals = encoder.predict(old_pats)\n",
    "# get some known patients.\n",
    "min_z = -3\n",
    "max_z = 3\n",
    "skip = 1\n",
    "\n",
    "latent_vars = {}\n",
    "latent_var_spectra = {}\n",
    "\n",
    "for i in range(n_z):  # For each latent variable...\n",
    "    latent_name = \"z\" + str(i)\n",
    "    latent_vars[latent_name] = {}\n",
    "    latent_var_spectra[latent_name] = np.zeros(len(names))\n",
    "    layer = latent_vars[latent_name]\n",
    "    for z in range(min_z, max_z, skip):  # ...fix the value of the latent variable (for a suite of values)\n",
    "        zvals[:, i] = z\n",
    "        new_pats = generator.predict(zvals)  # new_pats[0] is mu_x, new_pats[1] is sigma^2_x\n",
    "        new_z = np.ones(n_examples) * z\n",
    "        if \"x\" in layer:\n",
    "            layer[\"x\"] = np.concatenate((layer[\"x\"], new_pats[0]))\n",
    "        else:\n",
    "            layer[\"x\"] = new_pats[0]\n",
    "        if \"z\" in layer:\n",
    "            layer[\"z\"] = np.concatenate((layer[\"z\"], new_z), axis=0)\n",
    "        else:\n",
    "            layer[\"z\"] = new_z\n",
    "    # Take the correlation between the latent variable and all other original data variables,\n",
    "    # we'll call this the latent variable's \"fingerprint\" or \"spectrum\" and we want to compare the different latent vars\n",
    "    for j, real_varname in enumerate(names):\n",
    "        latent_var_spectra[latent_name][j] = np.corrcoef(latent_vars[latent_name]['z'], latent_vars[latent_name]['x'][:, j])[0, 1]"
   ]
  },
  {
   "cell_type": "code",
   "execution_count": 13,
   "metadata": {},
   "outputs": [
    {
     "data": {
      "text/plain": [
       "array([-3., -3., -3., ...,  2.,  2.,  2.])"
      ]
     },
     "execution_count": 13,
     "metadata": {},
     "output_type": "execute_result"
    }
   ],
   "source": [
    "latent_vars[latent_name]['z']"
   ]
  },
  {
   "cell_type": "markdown",
   "metadata": {},
   "source": [
    "## Graph VAE latent outputs for a subset of patients X_test, add colors for output variable"
   ]
  },
  {
   "cell_type": "code",
   "execution_count": 21,
   "metadata": {},
   "outputs": [
    {
     "data": {
      "image/png": "[encoded data removed]",
      "text/plain": [
       "<matplotlib.figure.Figure at 0x7f56ec42a390>"
      ]
     },
     "metadata": {},
     "output_type": "display_data"
    },
    {
     "name": "stdout",
     "output_type": "stream",
     "text": [
      "i is 499\n",
      "scatter plot drawn\n"
     ]
    }
   ],
   "source": [
    "import sys\n",
    "n_points = 500\n",
    "sys.path.append(\"/home/ubuntu/cs230_project/GMVAE_Experiments\")\n",
    "from utils import plot_labeled_data\n",
    "import sklearn.manifold\n",
    "latent_test = encoder.predict(X_train[:n_points])\n",
    "plot_labeled_data(latent_test, Y_test[:n_points], 'tsne_vanilla_vae.png', True, perplexity=40)"
   ]
  },
  {
   "cell_type": "markdown",
   "metadata": {},
   "source": [
    "### Calculate the top n absolute value correlations for each latent variable"
   ]
  },
  {
   "cell_type": "code",
   "execution_count": 47,
   "metadata": {},
   "outputs": [
    {
     "name": "stdout",
     "output_type": "stream",
     "text": [
      "\n",
      "Top 3 associated variables for Latent Variable z0:\n",
      "('meanINR', -0.9457284188237034)\n",
      "('meanGlucose', -0.9105119403918847)\n",
      "('meanRR', -0.9095597697246494)\n",
      "\n",
      "Top 3 associated variables for Latent Variable z1:\n",
      "('meanPaCO2', 0.9746191870080979)\n",
      "('meanPT', 0.9721602502444235)\n",
      "('meanPTT', -0.9677026909447062)\n",
      "\n",
      "Top 3 associated variables for Latent Variable z2:\n",
      "('meanPaCO2', 0.992347349480292)\n",
      "('meanSodium', 0.9752490626782149)\n",
      "('meanHemoglobin', 0.9662847545127996)\n",
      "\n",
      "Top 3 associated variables for Latent Variable z3:\n",
      "('meanGlucose', 0.9994284636121923)\n",
      "('meanBUN', -0.9970111330437409)\n",
      "('meanSodium', -0.9938741672665865)\n"
     ]
    }
   ],
   "source": [
    "n = 3\n",
    "for i in range(n_z):\n",
    "    latent_name = \"z\" + str(i)\n",
    "    print('\\nTop {} associated variables for Latent Variable {}:'.format(n, latent_name))\n",
    "    top_n_associated_indxs = np.argsort(np.abs(latent_var_spectra[latent_name]))[::-1][:n]\n",
    "    for association in zip(np.array(names)[top_n_associated_indxs], \n",
    "                           latent_var_spectra[latent_name][top_n_associated_indxs]):\n",
    "        print(association)"
   ]
  },
  {
   "cell_type": "markdown",
   "metadata": {},
   "source": [
    "### Plot the correlation 'spectra' for each latent variable vs. the original variables"
   ]
  },
  {
   "cell_type": "code",
   "execution_count": 9,
   "metadata": {},
   "outputs": [
    {
     "data": {
      "image/png": "[encoded data removed]",
      "text/plain": [
       "<matplotlib.figure.Figure at 0x7f5c75c9ec18>"
      ]
     },
     "metadata": {},
     "output_type": "display_data"
    }
   ],
   "source": [
    "for i in range(n_z):  # For each latent variable...\n",
    "    plt.plot(latent_var_spectra[\"z\" + str(i)], label=\"z\" + str(i))\n",
    "plt.xlabel('Original Variable Index')\n",
    "plt.ylabel('Correlation with Latent Variable')\n",
    "plt.title('Latent Variable Correlations')\n",
    "plt.legend(loc='upper right')\n",
    "plt.show()"
   ]
  },
  {
   "cell_type": "markdown",
   "metadata": {},
   "source": [
    "### Plot the relationship between the latent variables and the original variables across all samples (see milestone for figures)"
   ]
  },
  {
   "cell_type": "code",
   "execution_count": 10,
   "metadata": {
    "scrolled": true
   },
   "outputs": [
    {
     "ename": "KeyboardInterrupt",
     "evalue": "",
     "output_type": "error",
     "traceback": [
      "\u001b[0;31m---------------------------------------------------------------------------\u001b[0m",
      "\u001b[0;31mKeyboardInterrupt\u001b[0m                         Traceback (most recent call last)",
      "\u001b[0;32m<ipython-input-10-756b685df9de>\u001b[0m in \u001b[0;36m<module>\u001b[0;34m()\u001b[0m\n\u001b[1;32m     14\u001b[0m         \u001b[0mplt\u001b[0m\u001b[0;34m.\u001b[0m\u001b[0mxlabel\u001b[0m\u001b[0;34m(\u001b[0m\u001b[0mlatent_varname\u001b[0m\u001b[0;34m)\u001b[0m\u001b[0;34m\u001b[0m\u001b[0m\n\u001b[1;32m     15\u001b[0m         \u001b[0mplt\u001b[0m\u001b[0;34m.\u001b[0m\u001b[0mylabel\u001b[0m\u001b[0;34m(\u001b[0m\u001b[0mreal_varname\u001b[0m\u001b[0;34m)\u001b[0m\u001b[0;34m\u001b[0m\u001b[0m\n\u001b[0;32m---> 16\u001b[0;31m         \u001b[0mplt\u001b[0m\u001b[0;34m.\u001b[0m\u001b[0msavefig\u001b[0m\u001b[0;34m(\u001b[0m\u001b[0;34m\"figures/title\"\u001b[0m\u001b[0;34m+\u001b[0m\u001b[0;34m\".png\"\u001b[0m\u001b[0;34m)\u001b[0m\u001b[0;34m\u001b[0m\u001b[0m\n\u001b[0m",
      "\u001b[0;32m~/anaconda3/lib/python3.6/site-packages/matplotlib/pyplot.py\u001b[0m in \u001b[0;36msavefig\u001b[0;34m(*args, **kwargs)\u001b[0m\n\u001b[1;32m    699\u001b[0m \u001b[0;32mdef\u001b[0m \u001b[0msavefig\u001b[0m\u001b[0;34m(\u001b[0m\u001b[0;34m*\u001b[0m\u001b[0margs\u001b[0m\u001b[0;34m,\u001b[0m \u001b[0;34m**\u001b[0m\u001b[0mkwargs\u001b[0m\u001b[0;34m)\u001b[0m\u001b[0;34m:\u001b[0m\u001b[0;34m\u001b[0m\u001b[0m\n\u001b[1;32m    700\u001b[0m     \u001b[0mfig\u001b[0m \u001b[0;34m=\u001b[0m \u001b[0mgcf\u001b[0m\u001b[0;34m(\u001b[0m\u001b[0;34m)\u001b[0m\u001b[0;34m\u001b[0m\u001b[0m\n\u001b[0;32m--> 701\u001b[0;31m     \u001b[0mres\u001b[0m \u001b[0;34m=\u001b[0m \u001b[0mfig\u001b[0m\u001b[0;34m.\u001b[0m\u001b[0msavefig\u001b[0m\u001b[0;34m(\u001b[0m\u001b[0;34m*\u001b[0m\u001b[0margs\u001b[0m\u001b[0;34m,\u001b[0m \u001b[0;34m**\u001b[0m\u001b[0mkwargs\u001b[0m\u001b[0;34m)\u001b[0m\u001b[0;34m\u001b[0m\u001b[0m\n\u001b[0m\u001b[1;32m    702\u001b[0m     \u001b[0mfig\u001b[0m\u001b[0;34m.\u001b[0m\u001b[0mcanvas\u001b[0m\u001b[0;34m.\u001b[0m\u001b[0mdraw_idle\u001b[0m\u001b[0;34m(\u001b[0m\u001b[0;34m)\u001b[0m   \u001b[0;31m# need this if 'transparent=True' to reset colors\u001b[0m\u001b[0;34m\u001b[0m\u001b[0m\n\u001b[1;32m    703\u001b[0m     \u001b[0;32mreturn\u001b[0m \u001b[0mres\u001b[0m\u001b[0;34m\u001b[0m\u001b[0m\n",
      "\u001b[0;32m~/anaconda3/lib/python3.6/site-packages/matplotlib/figure.py\u001b[0m in \u001b[0;36msavefig\u001b[0;34m(self, fname, **kwargs)\u001b[0m\n\u001b[1;32m   1832\u001b[0m             \u001b[0mself\u001b[0m\u001b[0;34m.\u001b[0m\u001b[0mset_frameon\u001b[0m\u001b[0;34m(\u001b[0m\u001b[0mframeon\u001b[0m\u001b[0;34m)\u001b[0m\u001b[0;34m\u001b[0m\u001b[0m\n\u001b[1;32m   1833\u001b[0m \u001b[0;34m\u001b[0m\u001b[0m\n\u001b[0;32m-> 1834\u001b[0;31m         \u001b[0mself\u001b[0m\u001b[0;34m.\u001b[0m\u001b[0mcanvas\u001b[0m\u001b[0;34m.\u001b[0m\u001b[0mprint_figure\u001b[0m\u001b[0;34m(\u001b[0m\u001b[0mfname\u001b[0m\u001b[0;34m,\u001b[0m \u001b[0;34m**\u001b[0m\u001b[0mkwargs\u001b[0m\u001b[0;34m)\u001b[0m\u001b[0;34m\u001b[0m\u001b[0m\n\u001b[0m\u001b[1;32m   1835\u001b[0m \u001b[0;34m\u001b[0m\u001b[0m\n\u001b[1;32m   1836\u001b[0m         \u001b[0;32mif\u001b[0m \u001b[0mframeon\u001b[0m\u001b[0;34m:\u001b[0m\u001b[0;34m\u001b[0m\u001b[0m\n",
      "\u001b[0;32m~/anaconda3/lib/python3.6/site-packages/matplotlib/backend_bases.py\u001b[0m in \u001b[0;36mprint_figure\u001b[0;34m(self, filename, dpi, facecolor, edgecolor, orientation, format, **kwargs)\u001b[0m\n\u001b[1;32m   2265\u001b[0m                 \u001b[0morientation\u001b[0m\u001b[0;34m=\u001b[0m\u001b[0morientation\u001b[0m\u001b[0;34m,\u001b[0m\u001b[0;34m\u001b[0m\u001b[0m\n\u001b[1;32m   2266\u001b[0m                 \u001b[0mbbox_inches_restore\u001b[0m\u001b[0;34m=\u001b[0m\u001b[0m_bbox_inches_restore\u001b[0m\u001b[0;34m,\u001b[0m\u001b[0;34m\u001b[0m\u001b[0m\n\u001b[0;32m-> 2267\u001b[0;31m                 **kwargs)\n\u001b[0m\u001b[1;32m   2268\u001b[0m         \u001b[0;32mfinally\u001b[0m\u001b[0;34m:\u001b[0m\u001b[0;34m\u001b[0m\u001b[0m\n\u001b[1;32m   2269\u001b[0m             \u001b[0;32mif\u001b[0m \u001b[0mbbox_inches\u001b[0m \u001b[0;32mand\u001b[0m \u001b[0mrestore_bbox\u001b[0m\u001b[0;34m:\u001b[0m\u001b[0;34m\u001b[0m\u001b[0m\n",
      "\u001b[0;32m~/anaconda3/lib/python3.6/site-packages/matplotlib/backends/backend_agg.py\u001b[0m in \u001b[0;36mprint_png\u001b[0;34m(self, filename_or_obj, *args, **kwargs)\u001b[0m\n\u001b[1;32m    505\u001b[0m \u001b[0;34m\u001b[0m\u001b[0m\n\u001b[1;32m    506\u001b[0m     \u001b[0;32mdef\u001b[0m \u001b[0mprint_png\u001b[0m\u001b[0;34m(\u001b[0m\u001b[0mself\u001b[0m\u001b[0;34m,\u001b[0m \u001b[0mfilename_or_obj\u001b[0m\u001b[0;34m,\u001b[0m \u001b[0;34m*\u001b[0m\u001b[0margs\u001b[0m\u001b[0;34m,\u001b[0m \u001b[0;34m**\u001b[0m\u001b[0mkwargs\u001b[0m\u001b[0;34m)\u001b[0m\u001b[0;34m:\u001b[0m\u001b[0;34m\u001b[0m\u001b[0m\n\u001b[0;32m--> 507\u001b[0;31m         \u001b[0mFigureCanvasAgg\u001b[0m\u001b[0;34m.\u001b[0m\u001b[0mdraw\u001b[0m\u001b[0;34m(\u001b[0m\u001b[0mself\u001b[0m\u001b[0;34m)\u001b[0m\u001b[0;34m\u001b[0m\u001b[0m\n\u001b[0m\u001b[1;32m    508\u001b[0m         \u001b[0mrenderer\u001b[0m \u001b[0;34m=\u001b[0m \u001b[0mself\u001b[0m\u001b[0;34m.\u001b[0m\u001b[0mget_renderer\u001b[0m\u001b[0;34m(\u001b[0m\u001b[0;34m)\u001b[0m\u001b[0;34m\u001b[0m\u001b[0m\n\u001b[1;32m    509\u001b[0m         \u001b[0moriginal_dpi\u001b[0m \u001b[0;34m=\u001b[0m \u001b[0mrenderer\u001b[0m\u001b[0;34m.\u001b[0m\u001b[0mdpi\u001b[0m\u001b[0;34m\u001b[0m\u001b[0m\n",
      "\u001b[0;32m~/anaconda3/lib/python3.6/site-packages/matplotlib/backends/backend_agg.py\u001b[0m in \u001b[0;36mdraw\u001b[0;34m(self)\u001b[0m\n\u001b[1;32m    428\u001b[0m             \u001b[0;31m# if toolbar:\u001b[0m\u001b[0;34m\u001b[0m\u001b[0;34m\u001b[0m\u001b[0m\n\u001b[1;32m    429\u001b[0m             \u001b[0;31m#     toolbar.set_cursor(cursors.WAIT)\u001b[0m\u001b[0;34m\u001b[0m\u001b[0;34m\u001b[0m\u001b[0m\n\u001b[0;32m--> 430\u001b[0;31m             \u001b[0mself\u001b[0m\u001b[0;34m.\u001b[0m\u001b[0mfigure\u001b[0m\u001b[0;34m.\u001b[0m\u001b[0mdraw\u001b[0m\u001b[0;34m(\u001b[0m\u001b[0mself\u001b[0m\u001b[0;34m.\u001b[0m\u001b[0mrenderer\u001b[0m\u001b[0;34m)\u001b[0m\u001b[0;34m\u001b[0m\u001b[0m\n\u001b[0m\u001b[1;32m    431\u001b[0m         \u001b[0;32mfinally\u001b[0m\u001b[0;34m:\u001b[0m\u001b[0;34m\u001b[0m\u001b[0m\n\u001b[1;32m    432\u001b[0m             \u001b[0;31m# if toolbar:\u001b[0m\u001b[0;34m\u001b[0m\u001b[0;34m\u001b[0m\u001b[0m\n",
      "\u001b[0;32m~/anaconda3/lib/python3.6/site-packages/matplotlib/artist.py\u001b[0m in \u001b[0;36mdraw_wrapper\u001b[0;34m(artist, renderer, *args, **kwargs)\u001b[0m\n\u001b[1;32m     53\u001b[0m                 \u001b[0mrenderer\u001b[0m\u001b[0;34m.\u001b[0m\u001b[0mstart_filter\u001b[0m\u001b[0;34m(\u001b[0m\u001b[0;34m)\u001b[0m\u001b[0;34m\u001b[0m\u001b[0m\n\u001b[1;32m     54\u001b[0m \u001b[0;34m\u001b[0m\u001b[0m\n\u001b[0;32m---> 55\u001b[0;31m             \u001b[0;32mreturn\u001b[0m \u001b[0mdraw\u001b[0m\u001b[0;34m(\u001b[0m\u001b[0martist\u001b[0m\u001b[0;34m,\u001b[0m \u001b[0mrenderer\u001b[0m\u001b[0;34m,\u001b[0m \u001b[0;34m*\u001b[0m\u001b[0margs\u001b[0m\u001b[0;34m,\u001b[0m \u001b[0;34m**\u001b[0m\u001b[0mkwargs\u001b[0m\u001b[0;34m)\u001b[0m\u001b[0;34m\u001b[0m\u001b[0m\n\u001b[0m\u001b[1;32m     56\u001b[0m         \u001b[0;32mfinally\u001b[0m\u001b[0;34m:\u001b[0m\u001b[0;34m\u001b[0m\u001b[0m\n\u001b[1;32m     57\u001b[0m             \u001b[0;32mif\u001b[0m \u001b[0martist\u001b[0m\u001b[0;34m.\u001b[0m\u001b[0mget_agg_filter\u001b[0m\u001b[0;34m(\u001b[0m\u001b[0;34m)\u001b[0m \u001b[0;32mis\u001b[0m \u001b[0;32mnot\u001b[0m \u001b[0;32mNone\u001b[0m\u001b[0;34m:\u001b[0m\u001b[0;34m\u001b[0m\u001b[0m\n",
      "\u001b[0;32m~/anaconda3/lib/python3.6/site-packages/matplotlib/figure.py\u001b[0m in \u001b[0;36mdraw\u001b[0;34m(self, renderer)\u001b[0m\n\u001b[1;32m   1297\u001b[0m \u001b[0;34m\u001b[0m\u001b[0m\n\u001b[1;32m   1298\u001b[0m             mimage._draw_list_compositing_images(\n\u001b[0;32m-> 1299\u001b[0;31m                 renderer, self, artists, self.suppressComposite)\n\u001b[0m\u001b[1;32m   1300\u001b[0m \u001b[0;34m\u001b[0m\u001b[0m\n\u001b[1;32m   1301\u001b[0m             \u001b[0mrenderer\u001b[0m\u001b[0;34m.\u001b[0m\u001b[0mclose_group\u001b[0m\u001b[0;34m(\u001b[0m\u001b[0;34m'figure'\u001b[0m\u001b[0;34m)\u001b[0m\u001b[0;34m\u001b[0m\u001b[0m\n",
      "\u001b[0;32m~/anaconda3/lib/python3.6/site-packages/matplotlib/image.py\u001b[0m in \u001b[0;36m_draw_list_compositing_images\u001b[0;34m(renderer, parent, artists, suppress_composite)\u001b[0m\n\u001b[1;32m    136\u001b[0m     \u001b[0;32mif\u001b[0m \u001b[0mnot_composite\u001b[0m \u001b[0;32mor\u001b[0m \u001b[0;32mnot\u001b[0m \u001b[0mhas_images\u001b[0m\u001b[0;34m:\u001b[0m\u001b[0;34m\u001b[0m\u001b[0m\n\u001b[1;32m    137\u001b[0m         \u001b[0;32mfor\u001b[0m \u001b[0ma\u001b[0m \u001b[0;32min\u001b[0m \u001b[0martists\u001b[0m\u001b[0;34m:\u001b[0m\u001b[0;34m\u001b[0m\u001b[0m\n\u001b[0;32m--> 138\u001b[0;31m             \u001b[0ma\u001b[0m\u001b[0;34m.\u001b[0m\u001b[0mdraw\u001b[0m\u001b[0;34m(\u001b[0m\u001b[0mrenderer\u001b[0m\u001b[0;34m)\u001b[0m\u001b[0;34m\u001b[0m\u001b[0m\n\u001b[0m\u001b[1;32m    139\u001b[0m     \u001b[0;32melse\u001b[0m\u001b[0;34m:\u001b[0m\u001b[0;34m\u001b[0m\u001b[0m\n\u001b[1;32m    140\u001b[0m         \u001b[0;31m# Composite any adjacent images together\u001b[0m\u001b[0;34m\u001b[0m\u001b[0;34m\u001b[0m\u001b[0m\n",
      "\u001b[0;32m~/anaconda3/lib/python3.6/site-packages/matplotlib/artist.py\u001b[0m in \u001b[0;36mdraw_wrapper\u001b[0;34m(artist, renderer, *args, **kwargs)\u001b[0m\n\u001b[1;32m     53\u001b[0m                 \u001b[0mrenderer\u001b[0m\u001b[0;34m.\u001b[0m\u001b[0mstart_filter\u001b[0m\u001b[0;34m(\u001b[0m\u001b[0;34m)\u001b[0m\u001b[0;34m\u001b[0m\u001b[0m\n\u001b[1;32m     54\u001b[0m \u001b[0;34m\u001b[0m\u001b[0m\n\u001b[0;32m---> 55\u001b[0;31m             \u001b[0;32mreturn\u001b[0m \u001b[0mdraw\u001b[0m\u001b[0;34m(\u001b[0m\u001b[0martist\u001b[0m\u001b[0;34m,\u001b[0m \u001b[0mrenderer\u001b[0m\u001b[0;34m,\u001b[0m \u001b[0;34m*\u001b[0m\u001b[0margs\u001b[0m\u001b[0;34m,\u001b[0m \u001b[0;34m**\u001b[0m\u001b[0mkwargs\u001b[0m\u001b[0;34m)\u001b[0m\u001b[0;34m\u001b[0m\u001b[0m\n\u001b[0m\u001b[1;32m     56\u001b[0m         \u001b[0;32mfinally\u001b[0m\u001b[0;34m:\u001b[0m\u001b[0;34m\u001b[0m\u001b[0m\n\u001b[1;32m     57\u001b[0m             \u001b[0;32mif\u001b[0m \u001b[0martist\u001b[0m\u001b[0;34m.\u001b[0m\u001b[0mget_agg_filter\u001b[0m\u001b[0;34m(\u001b[0m\u001b[0;34m)\u001b[0m \u001b[0;32mis\u001b[0m \u001b[0;32mnot\u001b[0m \u001b[0;32mNone\u001b[0m\u001b[0;34m:\u001b[0m\u001b[0;34m\u001b[0m\u001b[0m\n",
      "\u001b[0;32m~/anaconda3/lib/python3.6/site-packages/matplotlib/axes/_base.py\u001b[0m in \u001b[0;36mdraw\u001b[0;34m(self, renderer, inframe)\u001b[0m\n\u001b[1;32m   2435\u001b[0m             \u001b[0mrenderer\u001b[0m\u001b[0;34m.\u001b[0m\u001b[0mstop_rasterizing\u001b[0m\u001b[0;34m(\u001b[0m\u001b[0;34m)\u001b[0m\u001b[0;34m\u001b[0m\u001b[0m\n\u001b[1;32m   2436\u001b[0m \u001b[0;34m\u001b[0m\u001b[0m\n\u001b[0;32m-> 2437\u001b[0;31m         \u001b[0mmimage\u001b[0m\u001b[0;34m.\u001b[0m\u001b[0m_draw_list_compositing_images\u001b[0m\u001b[0;34m(\u001b[0m\u001b[0mrenderer\u001b[0m\u001b[0;34m,\u001b[0m \u001b[0mself\u001b[0m\u001b[0;34m,\u001b[0m \u001b[0martists\u001b[0m\u001b[0;34m)\u001b[0m\u001b[0;34m\u001b[0m\u001b[0m\n\u001b[0m\u001b[1;32m   2438\u001b[0m \u001b[0;34m\u001b[0m\u001b[0m\n\u001b[1;32m   2439\u001b[0m         \u001b[0mrenderer\u001b[0m\u001b[0;34m.\u001b[0m\u001b[0mclose_group\u001b[0m\u001b[0;34m(\u001b[0m\u001b[0;34m'axes'\u001b[0m\u001b[0;34m)\u001b[0m\u001b[0;34m\u001b[0m\u001b[0m\n",
      "\u001b[0;32m~/anaconda3/lib/python3.6/site-packages/matplotlib/image.py\u001b[0m in \u001b[0;36m_draw_list_compositing_images\u001b[0;34m(renderer, parent, artists, suppress_composite)\u001b[0m\n\u001b[1;32m    136\u001b[0m     \u001b[0;32mif\u001b[0m \u001b[0mnot_composite\u001b[0m \u001b[0;32mor\u001b[0m \u001b[0;32mnot\u001b[0m \u001b[0mhas_images\u001b[0m\u001b[0;34m:\u001b[0m\u001b[0;34m\u001b[0m\u001b[0m\n\u001b[1;32m    137\u001b[0m         \u001b[0;32mfor\u001b[0m \u001b[0ma\u001b[0m \u001b[0;32min\u001b[0m \u001b[0martists\u001b[0m\u001b[0;34m:\u001b[0m\u001b[0;34m\u001b[0m\u001b[0m\n\u001b[0;32m--> 138\u001b[0;31m             \u001b[0ma\u001b[0m\u001b[0;34m.\u001b[0m\u001b[0mdraw\u001b[0m\u001b[0;34m(\u001b[0m\u001b[0mrenderer\u001b[0m\u001b[0;34m)\u001b[0m\u001b[0;34m\u001b[0m\u001b[0m\n\u001b[0m\u001b[1;32m    139\u001b[0m     \u001b[0;32melse\u001b[0m\u001b[0;34m:\u001b[0m\u001b[0;34m\u001b[0m\u001b[0m\n\u001b[1;32m    140\u001b[0m         \u001b[0;31m# Composite any adjacent images together\u001b[0m\u001b[0;34m\u001b[0m\u001b[0;34m\u001b[0m\u001b[0m\n",
      "\u001b[0;32m~/anaconda3/lib/python3.6/site-packages/matplotlib/artist.py\u001b[0m in \u001b[0;36mdraw_wrapper\u001b[0;34m(artist, renderer, *args, **kwargs)\u001b[0m\n\u001b[1;32m     53\u001b[0m                 \u001b[0mrenderer\u001b[0m\u001b[0;34m.\u001b[0m\u001b[0mstart_filter\u001b[0m\u001b[0;34m(\u001b[0m\u001b[0;34m)\u001b[0m\u001b[0;34m\u001b[0m\u001b[0m\n\u001b[1;32m     54\u001b[0m \u001b[0;34m\u001b[0m\u001b[0m\n\u001b[0;32m---> 55\u001b[0;31m             \u001b[0;32mreturn\u001b[0m \u001b[0mdraw\u001b[0m\u001b[0;34m(\u001b[0m\u001b[0martist\u001b[0m\u001b[0;34m,\u001b[0m \u001b[0mrenderer\u001b[0m\u001b[0;34m,\u001b[0m \u001b[0;34m*\u001b[0m\u001b[0margs\u001b[0m\u001b[0;34m,\u001b[0m \u001b[0;34m**\u001b[0m\u001b[0mkwargs\u001b[0m\u001b[0;34m)\u001b[0m\u001b[0;34m\u001b[0m\u001b[0m\n\u001b[0m\u001b[1;32m     56\u001b[0m         \u001b[0;32mfinally\u001b[0m\u001b[0;34m:\u001b[0m\u001b[0;34m\u001b[0m\u001b[0m\n\u001b[1;32m     57\u001b[0m             \u001b[0;32mif\u001b[0m \u001b[0martist\u001b[0m\u001b[0;34m.\u001b[0m\u001b[0mget_agg_filter\u001b[0m\u001b[0;34m(\u001b[0m\u001b[0;34m)\u001b[0m \u001b[0;32mis\u001b[0m \u001b[0;32mnot\u001b[0m \u001b[0;32mNone\u001b[0m\u001b[0;34m:\u001b[0m\u001b[0;34m\u001b[0m\u001b[0m\n",
      "\u001b[0;32m~/anaconda3/lib/python3.6/site-packages/matplotlib/collections.py\u001b[0m in \u001b[0;36mdraw\u001b[0;34m(self, renderer)\u001b[0m\n\u001b[1;32m    860\u001b[0m     \u001b[0;32mdef\u001b[0m \u001b[0mdraw\u001b[0m\u001b[0;34m(\u001b[0m\u001b[0mself\u001b[0m\u001b[0;34m,\u001b[0m \u001b[0mrenderer\u001b[0m\u001b[0;34m)\u001b[0m\u001b[0;34m:\u001b[0m\u001b[0;34m\u001b[0m\u001b[0m\n\u001b[1;32m    861\u001b[0m         \u001b[0mself\u001b[0m\u001b[0;34m.\u001b[0m\u001b[0mset_sizes\u001b[0m\u001b[0;34m(\u001b[0m\u001b[0mself\u001b[0m\u001b[0;34m.\u001b[0m\u001b[0m_sizes\u001b[0m\u001b[0;34m,\u001b[0m \u001b[0mself\u001b[0m\u001b[0;34m.\u001b[0m\u001b[0mfigure\u001b[0m\u001b[0;34m.\u001b[0m\u001b[0mdpi\u001b[0m\u001b[0;34m)\u001b[0m\u001b[0;34m\u001b[0m\u001b[0m\n\u001b[0;32m--> 862\u001b[0;31m         \u001b[0mCollection\u001b[0m\u001b[0;34m.\u001b[0m\u001b[0mdraw\u001b[0m\u001b[0;34m(\u001b[0m\u001b[0mself\u001b[0m\u001b[0;34m,\u001b[0m \u001b[0mrenderer\u001b[0m\u001b[0;34m)\u001b[0m\u001b[0;34m\u001b[0m\u001b[0m\n\u001b[0m\u001b[1;32m    863\u001b[0m \u001b[0;34m\u001b[0m\u001b[0m\n\u001b[1;32m    864\u001b[0m \u001b[0;34m\u001b[0m\u001b[0m\n",
      "\u001b[0;32m~/anaconda3/lib/python3.6/site-packages/matplotlib/artist.py\u001b[0m in \u001b[0;36mdraw_wrapper\u001b[0;34m(artist, renderer, *args, **kwargs)\u001b[0m\n\u001b[1;32m     53\u001b[0m                 \u001b[0mrenderer\u001b[0m\u001b[0;34m.\u001b[0m\u001b[0mstart_filter\u001b[0m\u001b[0;34m(\u001b[0m\u001b[0;34m)\u001b[0m\u001b[0;34m\u001b[0m\u001b[0m\n\u001b[1;32m     54\u001b[0m \u001b[0;34m\u001b[0m\u001b[0m\n\u001b[0;32m---> 55\u001b[0;31m             \u001b[0;32mreturn\u001b[0m \u001b[0mdraw\u001b[0m\u001b[0;34m(\u001b[0m\u001b[0martist\u001b[0m\u001b[0;34m,\u001b[0m \u001b[0mrenderer\u001b[0m\u001b[0;34m,\u001b[0m \u001b[0;34m*\u001b[0m\u001b[0margs\u001b[0m\u001b[0;34m,\u001b[0m \u001b[0;34m**\u001b[0m\u001b[0mkwargs\u001b[0m\u001b[0;34m)\u001b[0m\u001b[0;34m\u001b[0m\u001b[0m\n\u001b[0m\u001b[1;32m     56\u001b[0m         \u001b[0;32mfinally\u001b[0m\u001b[0;34m:\u001b[0m\u001b[0;34m\u001b[0m\u001b[0m\n\u001b[1;32m     57\u001b[0m             \u001b[0;32mif\u001b[0m \u001b[0martist\u001b[0m\u001b[0;34m.\u001b[0m\u001b[0mget_agg_filter\u001b[0m\u001b[0;34m(\u001b[0m\u001b[0;34m)\u001b[0m \u001b[0;32mis\u001b[0m \u001b[0;32mnot\u001b[0m \u001b[0;32mNone\u001b[0m\u001b[0;34m:\u001b[0m\u001b[0;34m\u001b[0m\u001b[0m\n",
      "\u001b[0;32m~/anaconda3/lib/python3.6/site-packages/matplotlib/collections.py\u001b[0m in \u001b[0;36mdraw\u001b[0;34m(self, renderer)\u001b[0m\n\u001b[1;32m    311\u001b[0m             renderer.draw_markers(\n\u001b[1;32m    312\u001b[0m                 \u001b[0mgc\u001b[0m\u001b[0;34m,\u001b[0m \u001b[0mpaths\u001b[0m\u001b[0;34m[\u001b[0m\u001b[0;36m0\u001b[0m\u001b[0;34m]\u001b[0m\u001b[0;34m,\u001b[0m \u001b[0mcombined_transform\u001b[0m\u001b[0;34m.\u001b[0m\u001b[0mfrozen\u001b[0m\u001b[0;34m(\u001b[0m\u001b[0;34m)\u001b[0m\u001b[0;34m,\u001b[0m\u001b[0;34m\u001b[0m\u001b[0m\n\u001b[0;32m--> 313\u001b[0;31m                 mpath.Path(offsets), transOffset, tuple(facecolors[0]))\n\u001b[0m\u001b[1;32m    314\u001b[0m         \u001b[0;32melse\u001b[0m\u001b[0;34m:\u001b[0m\u001b[0;34m\u001b[0m\u001b[0m\n\u001b[1;32m    315\u001b[0m             renderer.draw_path_collection(\n",
      "\u001b[0;32m~/anaconda3/lib/python3.6/site-packages/matplotlib/backends/backend_agg.py\u001b[0m in \u001b[0;36mdraw_markers\u001b[0;34m(self, *kl, **kw)\u001b[0m\n\u001b[1;32m    115\u001b[0m     \u001b[0;31m# maybe there is better way to do it.\u001b[0m\u001b[0;34m\u001b[0m\u001b[0;34m\u001b[0m\u001b[0m\n\u001b[1;32m    116\u001b[0m     \u001b[0;32mdef\u001b[0m \u001b[0mdraw_markers\u001b[0m\u001b[0;34m(\u001b[0m\u001b[0mself\u001b[0m\u001b[0;34m,\u001b[0m \u001b[0;34m*\u001b[0m\u001b[0mkl\u001b[0m\u001b[0;34m,\u001b[0m \u001b[0;34m**\u001b[0m\u001b[0mkw\u001b[0m\u001b[0;34m)\u001b[0m\u001b[0;34m:\u001b[0m\u001b[0;34m\u001b[0m\u001b[0m\n\u001b[0;32m--> 117\u001b[0;31m         \u001b[0;32mreturn\u001b[0m \u001b[0mself\u001b[0m\u001b[0;34m.\u001b[0m\u001b[0m_renderer\u001b[0m\u001b[0;34m.\u001b[0m\u001b[0mdraw_markers\u001b[0m\u001b[0;34m(\u001b[0m\u001b[0;34m*\u001b[0m\u001b[0mkl\u001b[0m\u001b[0;34m,\u001b[0m \u001b[0;34m**\u001b[0m\u001b[0mkw\u001b[0m\u001b[0;34m)\u001b[0m\u001b[0;34m\u001b[0m\u001b[0m\n\u001b[0m\u001b[1;32m    118\u001b[0m \u001b[0;34m\u001b[0m\u001b[0m\n\u001b[1;32m    119\u001b[0m     \u001b[0;32mdef\u001b[0m \u001b[0mdraw_path_collection\u001b[0m\u001b[0;34m(\u001b[0m\u001b[0mself\u001b[0m\u001b[0;34m,\u001b[0m \u001b[0;34m*\u001b[0m\u001b[0mkl\u001b[0m\u001b[0;34m,\u001b[0m \u001b[0;34m**\u001b[0m\u001b[0mkw\u001b[0m\u001b[0;34m)\u001b[0m\u001b[0;34m:\u001b[0m\u001b[0;34m\u001b[0m\u001b[0m\n",
      "\u001b[0;31mKeyboardInterrupt\u001b[0m: "
     ]
    },
    {
     "data": {
      "image/png": "[encoded data removed]",
      "text/plain": [
       "<matplotlib.figure.Figure at 0x7f5c759aa4a8>"
      ]
     },
     "metadata": {},
     "output_type": "display_data"
    }
   ],
   "source": [
    "# plot each latent variable against each real value\n",
    "x_z_data = []  # {x: xvals, z: zvals, varname}\n",
    "fignum = 0\n",
    "for z_i in range(n_z):\n",
    "    latent_varname = \"z\" + str(z_i)\n",
    "    for j, real_varname in enumerate(names):\n",
    "        fignum += 1\n",
    "        title = latent_varname + \"_vs_\" + real_varname\n",
    "        x_data = latent_vars[latent_varname][\"x\"][:,j]\n",
    "        z_data = latent_vars[latent_varname][\"z\"]\n",
    "\n",
    "        plt.scatter(z_data, x_data)  # we control the hidden var, z.\n",
    "        plt.title(title)\n",
    "        plt.xlabel(latent_varname)\n",
    "        plt.ylabel(real_varname)\n",
    "        plt.savefig(\"figures/title\"+\".png\")"
   ]
  },
  {
   "cell_type": "markdown",
   "metadata": {},
   "source": [
    "### A Note on the Generator..."
   ]
  },
  {
   "cell_type": "code",
   "execution_count": null,
   "metadata": {},
   "outputs": [],
   "source": [
    "# This function is deterministic...\n",
    "for i in range(10):\n",
    "    print(np.mean(np.sum(np.square(X_test - generator.predict(encoder.predict(X_test))), axis=1)))"
   ]
  },
  {
   "cell_type": "code",
   "execution_count": null,
   "metadata": {},
   "outputs": [],
   "source": [
    "# ...but this function is stochastic\n",
    "for i in range(10):\n",
    "    print(np.mean(np.sum(np.square(X_test - vae.predict(X_test)), axis=1)))"
   ]
  },
  {
   "cell_type": "markdown",
   "metadata": {},
   "source": [
    "## Grid Search to get the right number of hidden variables (Not yet implemented)"
   ]
  },
  {
   "cell_type": "code",
   "execution_count": null,
   "metadata": {},
   "outputs": [],
   "source": [
    "from sklearn.model_selection import KFold\n",
    "X = pd.read_csv(\"milestone_cohort.csv\")\n",
    "X = X.drop(['participant_id'], axis=1)\n",
    "X = X.set_index(['subNum'])\n",
    "X_mat = np.array(X)\n",
    "\n",
    "n_folds = 5\n",
    "num_latent_vars = [5, 10, 15, 20, 25, 30, 50, 75, 100, 150, 250, 500, 1000]\n",
    "num_hidden_vars = [10, 25, 50, 100, 250, 500, 750, 1000, 1500, 2500, 5000]\n",
    "cv_results = pd.DataFrame(0,\n",
    "                           index=num_latent_vars,\n",
    "                           columns=num_hidden_vars)\n",
    "\n",
    "kf = KFold(n_splits=n_folds, shuffle=True, random_state=42)\n",
    "kf.get_n_splits(X_mat)\n",
    "\n",
    "i = 1\n",
    "for lat_var_num in num_latent_vars:\n",
    "    for hid_var_num in num_hidden_vars:\n",
    "        fold_num = 1\n",
    "        total_nll = 0.\n",
    "        \n",
    "        print('Simulation #{}: VAE with {} Latent Variable(s) and {} Hidden Variable(s)...'.format(i, lat_var_num, hid_var_num))\n",
    "        \n",
    "        for train_index, test_index in kf.split(X_mat):\n",
    "            X_train, X_test = X_mat[train_index], X_mat[test_index]\n",
    "            print(\"\\tEvaluating model on Fold {}\".format(fold_num))\n",
    "            total_nll += evaluate_vae_model(X_train, \n",
    "                                            X_test, \n",
    "                                            latent_dimensions=lat_var_num, \n",
    "                                            intermediate_dimensions=hid_var_num)\n",
    "            fold_num += 1\n",
    "\n",
    "        cv_results.loc[lat_var_num, hid_var_num] = total_nll / n_folds\n",
    "        print('\\tAvgerage Negative Log-Likelihood = {}'.format(total_nll / n_folds))\n",
    "        i += 1"
   ]
  },
  {
   "cell_type": "code",
   "execution_count": null,
   "metadata": {},
   "outputs": [],
   "source": [
    "import seaborn as sns\n",
    "sns.heatmap(-my_cv_results)\n",
    "plt.xlabel('# Hidden Layer Variables')\n",
    "plt.ylabel('# Latent Variables')\n",
    "plt.show()"
   ]
  },
  {
   "cell_type": "markdown",
   "metadata": {},
   "source": [
    "### A comparison with PCA and Factor Analysis, after SciKit Learn's http://scikit-learn.org/stable/auto_examples/decomposition/plot_pca_vs_fa_model_selection.html#sphx-glr-auto-examples-decomposition-plot-pca-vs-fa-model-selection-py (In Progress)"
   ]
  },
  {
   "cell_type": "code",
   "execution_count": null,
   "metadata": {
    "scrolled": true
   },
   "outputs": [],
   "source": [
    "from sklearn.decomposition import PCA\n",
    "num_simulations = 10\n",
    "num_latent_vars = range(1, 51)\n",
    "pca_sim_results = pd.DataFrame(0, \n",
    "                           index=range(1, num_simulations * len(num_latent_vars) + 1), \n",
    "                           columns=['simulation', \n",
    "                                    'num_latent_vars', \n",
    "                                    'squared_error'])\n",
    "\n",
    "i = 0\n",
    "for lat_var_num in num_latent_vars:\n",
    "    for sim_num in range(1, num_simulations + 1):\n",
    "        X_train, X_test = sklearn.model_selection.train_test_split(X, train_size = 0.7)\n",
    "        pca_model = PCA(n_components=lat_var_num)\n",
    "        pca_model.fit(X_train)\n",
    "        X_test_pca = pca_model.transform(X_test)\n",
    "        X_test_pca_estimate = pca_model.inverse_transform(X_test_pca)\n",
    "        recon_err = np.mean(np.sum(np.square(X_test - X_test_pca_estimate), axis=1))\n",
    "        \n",
    "        print('Simulation #{} VAE with {} Latent Variable(s)...'.format(sim_num, lat_var_num))\n",
    "\n",
    "        pca_sim_results.iloc[i, :] = [sim_num, \n",
    "                                      lat_var_num,\n",
    "                                      recon_err]\n",
    "        i += 1"
   ]
  },
  {
   "cell_type": "code",
   "execution_count": null,
   "metadata": {},
   "outputs": [],
   "source": [
    "# http://scikit-learn.org/stable/auto_examples/decomposition/plot_pca_vs_fa_model_selection.html#sphx-glr-auto-examples-decomposition-plot-pca-vs-fa-model-selection-py\n",
    "\n",
    "import numpy as np\n",
    "import matplotlib.pyplot as plt\n",
    "from scipy import linalg\n",
    "\n",
    "from sklearn.decomposition import PCA, FactorAnalysis\n",
    "from sklearn.covariance import ShrunkCovariance, LedoitWolf\n",
    "from sklearn.model_selection import cross_val_score\n",
    "from sklearn.model_selection import GridSearchCV\n",
    "\n",
    "print(__doc__)\n",
    "\n",
    "# #############################################################################\n",
    "# Fit the models\n",
    "\n",
    "n_components = np.arange(1, 50, 1)  # options for n_components\n",
    "\n",
    "def compute_scores(X):\n",
    "    pca = PCA(svd_solver='full')\n",
    "    fa = FactorAnalysis()\n",
    "\n",
    "    pca_scores, fa_scores = [], []\n",
    "    for n in n_components:\n",
    "        if n % 10 == 0:\n",
    "            print (\"Running PCA/FA for {} Components...\".format(n))\n",
    "        pca.n_components = n\n",
    "        fa.n_components = n\n",
    "        pca_scores.append(np.mean(cross_val_score(pca, X))) # Return the average log-likelihood of all samples.\n",
    "        fa_scores.append(np.mean(cross_val_score(fa, X))) # Return the average log-likelihood of all samples.\n",
    "\n",
    "    return pca_scores, fa_scores\n",
    "\n",
    "def shrunk_cov_score(X):\n",
    "    shrinkages = np.logspace(-2, 0, 30)\n",
    "    cv = GridSearchCV(ShrunkCovariance(), {'shrinkage': shrinkages})\n",
    "    return np.mean(cross_val_score(cv.fit(X).best_estimator_, X))\n",
    "\n",
    "def lw_score(X):\n",
    "    return np.mean(cross_val_score(LedoitWolf(), X))\n",
    "\n",
    "pca_scores, fa_scores = compute_scores(X)\n",
    "n_components_pca = n_components[np.argmax(pca_scores)]\n",
    "n_components_fa = n_components[np.argmax(fa_scores)]\n",
    "\n",
    "pca = PCA(svd_solver='full', n_components='mle')\n",
    "pca.fit(X)\n",
    "n_components_pca_mle = pca.n_components_\n",
    "\n",
    "print(\"best n_components by PCA CV = %d\" % n_components_pca)\n",
    "print(\"best n_components by FactorAnalysis CV = %d\" % n_components_fa)\n",
    "print(\"best n_components by PCA MLE = %d\" % n_components_pca_mle)"
   ]
  },
  {
   "cell_type": "code",
   "execution_count": null,
   "metadata": {},
   "outputs": [],
   "source": [
    "plt.figure()\n",
    "\n",
    "#plt.plot(num_latent_vars[:6], -cv_results.loc[num_latent_vars[:6],150], 'g', label='VAE scores')\n",
    "\n",
    "plt.plot(n_components, pca_scores, 'b', label='PCA scores')\n",
    "plt.axvline(n_components_pca, color='b',\n",
    "            label='PCA CV: %d' % n_components_pca, linestyle='--')\n",
    "\n",
    "plt.plot(n_components, fa_scores, 'r', label='FA scores')\n",
    "plt.axvline(n_components_fa, color='r',\n",
    "            label='FactorAnalysis CV: %d' % n_components_fa,\n",
    "            linestyle='--')\n",
    "\n",
    "\n",
    "plt.axhline(lw_score(X), color='orange',\n",
    "            label='LedoitWolf MLE' % n_components_pca_mle, linestyle='-.')\n",
    "\n",
    "plt.xlabel('Number of Components')\n",
    "plt.ylabel('Log-Likelihood')\n",
    "# plt.ylabel('CV scores')\n",
    "plt.legend(loc='lower right')\n",
    "\n",
    "plt.show()"
   ]
  },
  {
   "cell_type": "code",
   "execution_count": null,
   "metadata": {},
   "outputs": [],
   "source": []
  },
  {
   "cell_type": "code",
   "execution_count": null,
   "metadata": {},
   "outputs": [],
   "source": []
  },
  {
   "cell_type": "code",
   "execution_count": null,
   "metadata": {},
   "outputs": [],
   "source": []
  }
 ],
 "metadata": {
  "anaconda-cloud": {},
  "kernelspec": {
   "display_name": "Python 3",
   "language": "python",
   "name": "python3"
  },
  "language_info": {
   "codemirror_mode": {
    "name": "ipython",
    "version": 3
   },
   "file_extension": ".py",
   "mimetype": "text/x-python",
   "name": "python",
   "nbconvert_exporter": "python",
   "pygments_lexer": "ipython3",
   "version": "3.6.3"
  }
 },
 "nbformat": 4,
 "nbformat_minor": 2
}
