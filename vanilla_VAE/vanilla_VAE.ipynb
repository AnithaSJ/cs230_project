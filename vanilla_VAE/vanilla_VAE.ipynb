{
 "cells": [
  {
   "cell_type": "code",
   "execution_count": 1,
   "metadata": {},
   "outputs": [
    {
     "name": "stderr",
     "output_type": "stream",
     "text": [
      "/home/ubuntu/anaconda3/lib/python3.6/site-packages/matplotlib/__init__.py:962: UserWarning: Duplicate key in file \"/home/ubuntu/.config/matplotlib/matplotlibrc\", line #2\n",
      "  (fname, cnt))\n",
      "/home/ubuntu/anaconda3/lib/python3.6/site-packages/matplotlib/__init__.py:962: UserWarning: Duplicate key in file \"/home/ubuntu/.config/matplotlib/matplotlibrc\", line #3\n",
      "  (fname, cnt))\n",
      "/home/ubuntu/anaconda3/lib/python3.6/site-packages/h5py/__init__.py:34: FutureWarning: Conversion of the second argument of issubdtype from `float` to `np.floating` is deprecated. In future, it will be treated as `np.float64 == np.dtype(float).type`.\n",
      "  from ._conv import register_converters as _register_converters\n",
      "Using TensorFlow backend.\n"
     ]
    }
   ],
   "source": [
    "# Adapted from https://github.com/keras-team/keras/blob/master/examples/variational_autoencoder.py \n",
    "import numpy as np\n",
    "import pandas as pd\n",
    "import matplotlib.pyplot as plt\n",
    "\n",
    "import os\n",
    "os.environ[\"KERAS_BACKEND\"] = \"tensorflow\"  # Rather than Torch, for example\n",
    "\n",
    "import keras\n",
    "from keras.layers import Input, Dense, Lambda, Layer, Add, Multiply\n",
    "from keras.models import Model, Sequential\n",
    "from keras.objectives import binary_crossentropy\n",
    "from keras.callbacks import LearningRateScheduler\n",
    "from keras.callbacks import EarlyStopping\n",
    "import keras.backend as K\n",
    "import random\n",
    "import scipy\n",
    "from scipy.stats import norm\n",
    "from scipy.stats import multivariate_normal\n",
    "import sklearn\n",
    "from sklearn import model_selection\n",
    "import tensorflow as tf"
   ]
  },
  {
   "cell_type": "code",
   "execution_count": 2,
   "metadata": {},
   "outputs": [
    {
     "data": {
      "text/plain": [
       "(52693, 24)"
      ]
     },
     "execution_count": 2,
     "metadata": {},
     "output_type": "execute_result"
    }
   ],
   "source": [
    "# TODO! Read in the data, make sure it's numeric\n",
    "X = pd.read_csv(\"../milestone_cohort.csv\")\n",
    "X = X.iloc[:,4:]\n",
    "\n",
    "# Do whatever data wrangling you need to do on X in this cell...\n",
    "# ...\n",
    "X.shape\n"
   ]
  },
  {
   "cell_type": "code",
   "execution_count": 8,
   "metadata": {},
   "outputs": [
    {
     "name": "stderr",
     "output_type": "stream",
     "text": [
      "/home/ubuntu/anaconda3/lib/python3.6/site-packages/sklearn/model_selection/_split.py:2026: FutureWarning: From version 0.21, test_size will always complement train_size unless both are specified.\n",
      "  FutureWarning)\n"
     ]
    }
   ],
   "source": [
    "# TODO! Set the train/test size\n",
    "X_train, X_test = sklearn.model_selection.train_test_split(X, train_size = 0.8)# #test_size=0.01)\n",
    "\n",
    "# Convert your inputs to numpy arrays (Keras doesn't play nice with pandas dataframes)\n",
    "X_train = np.array(X_train)\n",
    "X_test = np.array(X_test)"
   ]
  },
  {
   "cell_type": "code",
   "execution_count": 9,
   "metadata": {},
   "outputs": [],
   "source": [
    "def evaluate_vae_model(X_train, X_test, latent_dimensions, intermediate_dimensions):\n",
    "    \n",
    "    #Hyperparameters of interest\n",
    "    intermediate_dim = intermediate_dimensions\n",
    "    latent_dim = latent_dimensions\n",
    "    \n",
    "    # Other hyperparameters\n",
    "    original_dim = X_test.shape[1]  # Calculated automatically\n",
    "    batch_size = X_test.shape[0]  # This might affect the learning rate, but shouldn't affect the overall model outcome\n",
    "    n_epochs = 100  # Not important when we use the early stopping method (as we do in this method)\n",
    "    epsilon_std = 1.0  # This shouldn't significantly change the model performance, as the z_log_sigma will adjust to accommodate\n",
    "    \n",
    "    # The Encoder\n",
    "    inputs = Input(shape=(original_dim,))\n",
    "    hidden = Dense(intermediate_dim, activation='relu')(inputs)\n",
    "    z_mean = Dense(latent_dim, activation='linear')(hidden)\n",
    "    z_log_sigma = Dense(latent_dim, activation='linear')(hidden)\n",
    "    \n",
    "    # The sampler\n",
    "    def sample_z(args):\n",
    "        z_mean, z_log_sigma = args\n",
    "        eps = K.random_normal(shape=(K.shape(inputs)[0], latent_dim), # Consider changing batch_size here to K.shape(inputs)[0]\n",
    "                             mean=0., stddev=1.)\n",
    "        print( z_mean + K.exp(z_log_sigma / 2) * eps)\n",
    "        return z_mean + K.exp(z_log_sigma / 2) * eps  # Element-wise product of SD with gaussian noise, + mean vector\n",
    "\n",
    "    z = Lambda(sample_z, output_shape=(latent_dim,))([z_mean, z_log_sigma])\n",
    "    \n",
    "    # The Decoder\n",
    "    decoder_h = Dense(intermediate_dim, activation='relu')  # We don't specify the inputs because we'll use...\n",
    "    decoder_mean = Dense(original_dim, activation='linear')  # ...the same layers again for the generator model below\n",
    "    decoder_log_sigma = Dense(original_dim, activation='linear')\n",
    "    h_decoded = decoder_h(z)\n",
    "    output_decoded_mean = decoder_mean(h_decoded)  # Our output is a mean vector (point estimate) and...\n",
    "    output_decoded_log_sigma = decoder_log_sigma(h_decoded)  # ...a log_sigma, or log_variance vector...\n",
    "                                                            # which quantifies our certainty about the point estimate\n",
    "        \n",
    "    # The end-to-end autoencoder\n",
    "    vae = Model(inputs, output_decoded_mean)\n",
    "\n",
    "    # An encoder, from inputs to the latent space\n",
    "    encoder = Model(inputs, z_mean)\n",
    "\n",
    "    # A generator, from the latent space to the reconstructed inputs\n",
    "    generator_input = Input(shape=(latent_dim,))\n",
    "    generator_h_decoded = decoder_h(generator_input)\n",
    "    generator_output_decoded_mean = decoder_mean(generator_h_decoded)\n",
    "    generator_output_decoded_log_sigma = decoder_log_sigma(generator_h_decoded)  # TODO!\n",
    "    generator = Model(generator_input, [generator_output_decoded_mean, generator_output_decoded_log_sigma])\n",
    "    \n",
    "    def vae_loss(y_true, y_pred):\n",
    "        \"\"\" Calculate loss = reconstruction loss + KL loss for each data in minibatch \"\"\"\n",
    "        # -E[log P(X|z)]    \n",
    "        reconstruction_loss = neg_log_likelihood(y_true, y_pred)  # TODO! Make the reconstruction loss a proper likelihood loss\n",
    "\n",
    "        # D_KL(Q(z|X) || P(z|X)); calculate in closed form as both dist. are Gaussian\n",
    "        kl_loss = KL_divergence_loss(y_true, y_pred)\n",
    "\n",
    "        return reconstruction_loss + kl_loss\n",
    "\n",
    "    def neg_log_likelihood(y_true, y_pred):\n",
    "        \"\"\" Calculate a proper negative log-likelihood where NLL = -log p(y_pred | mu=y_true, sigma=output_decoded_log_sigma)\"\"\"\n",
    "        negative_log_likelihood = (1./2.) * \\\n",
    "                        (\n",
    "                            K.int_shape(inputs)[1] * K.log(2. * np.pi) + \\\n",
    "                            K.sum(output_decoded_log_sigma, axis=-1, keepdims=True) + \\\n",
    "                            K.sum(\n",
    "                                K.square(y_true - y_pred) * (1. / K.exp(output_decoded_log_sigma)), \n",
    "                                axis=-1, keepdims=True\n",
    "                            )\n",
    "                        )\n",
    "        return negative_log_likelihood\n",
    "    \n",
    "    # An alternative loss function... should give similar results as the above, but isn't a proper NLL per-se\n",
    "    def squared_difference_loss(y_true, y_pred):\n",
    "        \"\"\" Calculate a naive reconstruction loss, i.e. ||y_true - y_pred||^2 \"\"\"\n",
    "        return K.sum(K.square(y_true - y_pred), axis=-1)  # TODO! This isn't strictly speaking the NLL, but it's a half decent approximation for now\n",
    "\n",
    "    def KL_divergence_loss(y_true, y_pred):\n",
    "        \"\"\" Calculate the KL Divergence portion of the loss, i.e. D_KL(Q(z|X) || P(z|X)) \"\"\"\n",
    "        return 0.5 * K.sum(K.exp(z_log_sigma) + K.square(z_mean) - 1. - z_log_sigma, axis=-1)\n",
    "\n",
    "    vae.compile(optimizer='rmsprop', \n",
    "                loss=vae_loss, \n",
    "                metrics=[squared_difference_loss, \n",
    "                         KL_divergence_loss, \n",
    "                         neg_log_likelihood\n",
    "                        ]\n",
    "               )\n",
    "\n",
    "    # define an early stopping callback criterion so that we don't overfit\n",
    "    earlystop = keras.callbacks.EarlyStopping(monitor='val_loss',  # The quantity to be monitored\n",
    "                                             min_delta=0.0001,  # Minimum change in the monitored quantity in order to qualify\n",
    "                                                                # as an improvement (if an absolute change of less than min_delta occurs,\n",
    "                                                                # will not count as no improvement)\n",
    "                                             patience=10,  # The number of epochs with no improvement after which training will be stopped\n",
    "                                             verbose=0,  # Verbosity mode\n",
    "                                             mode='min')  # Training will stop when the quantity monitored has stopped decreasing\n",
    "    \n",
    "    callbacks_list = [earlystop]\n",
    "    \n",
    "    history = vae.fit(X_train,\n",
    "                      X_train,\n",
    "                      shuffle=True,\n",
    "                      epochs=n_epochs,\n",
    "                      verbose=0,\n",
    "                      batch_size=batch_size,\n",
    "                      callbacks=callbacks_list,\n",
    "                      validation_split=0.3)\n",
    "    \n",
    "    X_test_encoded = encoder.predict(X_test)\n",
    "    X_test_decoded_mean, X_test_decoded_log_sigma = generator.predict(X_test_encoded)\n",
    "    test_nll = (1./2.) * \\\n",
    "               (\n",
    "                   X_test.shape[1] * np.log(2. * np.pi) + \\\n",
    "                   np.sum(X_test_decoded_log_sigma, axis=-1, keepdims=True) + \\\n",
    "                   np.sum(\n",
    "                       np.square(X_test - X_test_decoded_mean) * (1. / np.exp(X_test_decoded_log_sigma)), \n",
    "                       axis=-1, keepdims=True\n",
    "                   )\n",
    "               )\n",
    "    \n",
    "    return np.mean(test_nll), vae, encoder, generator, history"
   ]
  },
  {
   "cell_type": "code",
   "execution_count": 10,
   "metadata": {},
   "outputs": [
    {
     "name": "stdout",
     "output_type": "stream",
     "text": [
      "Tensor(\"lambda_1/add:0\", shape=(?, 4), dtype=float32)\n"
     ]
    }
   ],
   "source": [
    "n_z = 4 # number latent vars\n",
    "test_err, vae, encoder, generator, history = evaluate_vae_model(X_train, X_test, n_z, 500)"
   ]
  },
  {
   "cell_type": "code",
   "execution_count": 11,
   "metadata": {},
   "outputs": [
    {
     "data": {
      "text/plain": [
       "array([ 0.91340739,  0.14335674, -0.55893423,  1.49867838, -0.79549249,\n",
       "        0.12485102, -0.05609363, -0.26803683, -0.66310917, -0.02270339,\n",
       "       -0.34537274, -0.58956481, -0.80207591, -0.4278322 , -0.46921324,\n",
       "        0.10557583,  0.64969354, -0.41548605, -0.10841705, -0.45290728,\n",
       "       -0.35380497, -1.06096236, -0.03241915,  0.30306297])"
      ]
     },
     "execution_count": 11,
     "metadata": {},
     "output_type": "execute_result"
    }
   ],
   "source": [
    "X_train[0]"
   ]
  },
  {
   "cell_type": "code",
   "execution_count": 12,
   "metadata": {
    "scrolled": true
   },
   "outputs": [
    {
     "data": {
      "image/png": "[encoded data removed]",
      "text/plain": [
       "<matplotlib.figure.Figure at 0x7fae54d1c438>"
      ]
     },
     "metadata": {},
     "output_type": "display_data"
    }
   ],
   "source": [
    "names = list(X.columns)\n",
    "n_examples = 50\n",
    "\n",
    "old_pats = X_train[:n_examples]\n",
    "zvals = encoder.predict(old_pats)\n",
    "#get some known patients.\n",
    "min_z = -3\n",
    "max_z = 3\n",
    "skip = 1\n",
    "\n",
    "latent_vars = {}\n",
    "\n",
    "for i in range(n_z): # for each latent variable\n",
    "    latent_name = \"z\" + str(i)\n",
    "    latent_vars[latent_name] = {}\n",
    "    layer = latent_vars[latent_name]\n",
    "    for z in range(min_z, max_z,skip):# set as arbitrary value\n",
    "        zvals[:,i] = z\n",
    "        new_pats = generator.predict(zvals)\n",
    "        new_z = np.ones(n_examples) * z\n",
    "        if \"x\" in layer:\n",
    "            layer[\"x\"] = np.concatenate((layer[\"x\"], new_pats[0]))\n",
    "        else:\n",
    "            layer[\"x\"] = new_pats[0]\n",
    "        if \"z\" in layer:\n",
    "            layer[\"z\"] = np.concatenate((layer[\"z\"], new_z), axis=0)\n",
    "        else:\n",
    "            layer[\"z\"] = new_z\n",
    "new_pats\n",
    "#plot each latent variable against each real value\n",
    "x_z_data = [] #{x: xvals, z: zvals, varname}\n",
    "fignum = 0\n",
    "for z_i in range(n_z):\n",
    "    latent_varname = \"z\" + str(z_i)\n",
    "    for j, real_varname in enumerate(names):\n",
    "        fignum += 1\n",
    "        title = latent_varname + \"_vs_\" + real_varname\n",
    "        x_data = latent_vars[latent_varname][\"x\"][:,j]\n",
    "        z_data = latent_vars[latent_varname][\"z\"]\n",
    "\n",
    "#       plt.figure(fignum)\n",
    "        plt.scatter(z_data, x_data) #we control the hidden var, z.\n",
    "        plt.title(title)\n",
    "        plt.xlabel(latent_varname)\n",
    "        plt.ylabel(real_varname)\n",
    "        plt.savefig(\"figures/title\"+\".png\")\n",
    "        "
   ]
  },
  {
   "cell_type": "code",
   "execution_count": 179,
   "metadata": {},
   "outputs": [
    {
     "data": {
      "text/plain": [
       "<matplotlib.figure.Figure at 0x7fc224107748>"
      ]
     },
     "execution_count": 179,
     "metadata": {},
     "output_type": "execute_result"
    },
    {
     "data": {
      "text/plain": [
       "<matplotlib.figure.Figure at 0x7fc224107748>"
      ]
     },
     "metadata": {},
     "output_type": "display_data"
    }
   ],
   "source": [
    "plt.figure(1)"
   ]
  },
  {
   "cell_type": "code",
   "execution_count": 93,
   "metadata": {
    "scrolled": true
   },
   "outputs": [
    {
     "data": {
      "image/png": "[encoded data removed]",
      "text/plain": [
       "<matplotlib.figure.Figure at 0x7fc225a705f8>"
      ]
     },
     "metadata": {},
     "output_type": "display_data"
    }
   ],
   "source": [
    "fig, ax = plt.subplots(figsize=(10,8))\n",
    "\n",
    "ax.plot(history.history['loss'], label='Train Loss')\n",
    "ax.plot(history.history['val_loss'], label='Validation Loss')\n",
    "\n",
    "ax.legend()\n",
    "\n",
    "\n",
    "ax.set_ylabel('NELBO')\n",
    "ax.set_xlabel('# epochs')\n",
    "\n",
    "plt.title('VAE Loss vs. # of Epochs')\n",
    "plt.show()"
   ]
  },
  {
   "cell_type": "code",
   "execution_count": 94,
   "metadata": {},
   "outputs": [
    {
     "name": "stdout",
     "output_type": "stream",
     "text": [
      "[array([[ 0.2515052 ,  0.06865831,  0.38046807, ...,  0.08268391,\n",
      "         0.17411569,  0.15812518],\n",
      "       [-1.1256908 , -0.68406534,  0.2790796 , ...,  0.1080014 ,\n",
      "        -0.2190349 , -1.3732514 ],\n",
      "       [ 0.5546796 ,  0.05441567,  0.12773016, ..., -0.5204516 ,\n",
      "         0.0911508 ,  0.18978366],\n",
      "       ...,\n",
      "       [ 0.7196886 ,  0.47617283, -0.14462012, ..., -0.23795474,\n",
      "         0.2969438 ,  0.85295326],\n",
      "       [-0.48841602, -0.4465626 ,  0.23522341, ...,  0.16924036,\n",
      "        -0.08032832, -0.52968186],\n",
      "       [ 0.45184812,  0.08551691,  0.080309  , ..., -0.04397183,\n",
      "         0.08701947,  0.6257931 ]], dtype=float32), array([[-0.39726642, -0.05609443, -0.03326736, ...,  0.00591087,\n",
      "        -1.0210907 , -0.78294116],\n",
      "       [-0.56958956, -0.7086217 , -0.01649725, ..., -0.5593717 ,\n",
      "        -1.9347425 , -0.6185842 ],\n",
      "       [-0.56598234, -0.2135876 , -0.5622438 , ..., -0.9258385 ,\n",
      "        -2.0248682 , -1.1109654 ],\n",
      "       ...,\n",
      "       [-0.14343238,  0.2069656 , -0.58150685, ..., -0.5558784 ,\n",
      "        -0.5429044 , -1.0063772 ],\n",
      "       [-0.674854  , -0.4988291 , -0.10753436, ..., -0.76857233,\n",
      "        -1.814303  , -0.81221026],\n",
      "       [-0.4974915 , -0.18152578, -0.5251618 , ..., -0.9557369 ,\n",
      "        -1.4517299 , -1.1126738 ]], dtype=float32)]\n"
     ]
    }
   ],
   "source": [
    "print(generator.predict(encoder.predict(X_test)))"
   ]
  },
  {
   "cell_type": "markdown",
   "metadata": {},
   "source": [
    "### A Note on the Generator..."
   ]
  },
  {
   "cell_type": "code",
   "execution_count": 54,
   "metadata": {},
   "outputs": [
    {
     "name": "stdout",
     "output_type": "stream",
     "text": [
      "12660.049752018154\n",
      "12660.049752018154\n",
      "12660.049752018154\n",
      "12660.049752018154\n",
      "12660.049752018154\n",
      "12660.049752018154\n",
      "12660.049752018154\n",
      "12660.049752018154\n",
      "12660.049752018154\n",
      "12660.049752018154\n"
     ]
    }
   ],
   "source": [
    "# This function is deterministic...\n",
    "for i in range(10):\n",
    "    print(np.mean(np.sum(np.square(X_test - generator.predict(encoder.predict(X_test))), axis=1)))"
   ]
  },
  {
   "cell_type": "code",
   "execution_count": 55,
   "metadata": {},
   "outputs": [
    {
     "name": "stdout",
     "output_type": "stream",
     "text": [
      "10.73937341614385\n",
      "10.734808142046559\n",
      "10.696579781395878\n",
      "10.778514440066154\n",
      "10.74440307463011\n",
      "10.701515409307124\n",
      "10.724644009823312\n",
      "10.700494391834201\n",
      "10.706590498031078\n",
      "10.67101639222082\n"
     ]
    }
   ],
   "source": [
    "# ...but this function is stochastic\n",
    "for i in range(10):\n",
    "    print(np.mean(np.sum(np.square(X_test - vae.predict(X_test)), axis=1)))"
   ]
  },
  {
   "cell_type": "markdown",
   "metadata": {},
   "source": [
    "## Grid Search to get the right number of hidden variables..."
   ]
  },
  {
   "cell_type": "code",
   "execution_count": 47,
   "metadata": {},
   "outputs": [
    {
     "ename": "FileNotFoundError",
     "evalue": "File b'/Users/scottyf/Documents/RAD_Analysis/RAD_data/data_frames/all.dat.csv' does not exist",
     "output_type": "error",
     "traceback": [
      "\u001b[0;31m---------------------------------------------------------------------------\u001b[0m",
      "\u001b[0;31mFileNotFoundError\u001b[0m                         Traceback (most recent call last)",
      "\u001b[0;32m<ipython-input-47-808a7990da0d>\u001b[0m in \u001b[0;36m<module>\u001b[0;34m()\u001b[0m\n\u001b[1;32m      1\u001b[0m \u001b[0;32mfrom\u001b[0m \u001b[0msklearn\u001b[0m\u001b[0;34m.\u001b[0m\u001b[0mmodel_selection\u001b[0m \u001b[0;32mimport\u001b[0m \u001b[0mKFold\u001b[0m\u001b[0;34m\u001b[0m\u001b[0m\n\u001b[0;32m----> 2\u001b[0;31m \u001b[0mX\u001b[0m \u001b[0;34m=\u001b[0m \u001b[0mpd\u001b[0m\u001b[0;34m.\u001b[0m\u001b[0mread_csv\u001b[0m\u001b[0;34m(\u001b[0m\u001b[0;34m\"/Users/scottyf/Documents/RAD_Analysis/RAD_data/data_frames/all.dat.csv\"\u001b[0m\u001b[0;34m)\u001b[0m\u001b[0;34m\u001b[0m\u001b[0m\n\u001b[0m\u001b[1;32m      3\u001b[0m \u001b[0mX\u001b[0m \u001b[0;34m=\u001b[0m \u001b[0mX\u001b[0m\u001b[0;34m.\u001b[0m\u001b[0mdrop\u001b[0m\u001b[0;34m(\u001b[0m\u001b[0;34m[\u001b[0m\u001b[0;34m'participant_id'\u001b[0m\u001b[0;34m]\u001b[0m\u001b[0;34m,\u001b[0m \u001b[0maxis\u001b[0m\u001b[0;34m=\u001b[0m\u001b[0;36m1\u001b[0m\u001b[0;34m)\u001b[0m\u001b[0;34m\u001b[0m\u001b[0m\n\u001b[1;32m      4\u001b[0m \u001b[0mX\u001b[0m \u001b[0;34m=\u001b[0m \u001b[0mX\u001b[0m\u001b[0;34m.\u001b[0m\u001b[0mset_index\u001b[0m\u001b[0;34m(\u001b[0m\u001b[0;34m[\u001b[0m\u001b[0;34m'subNum'\u001b[0m\u001b[0;34m]\u001b[0m\u001b[0;34m)\u001b[0m\u001b[0;34m\u001b[0m\u001b[0m\n\u001b[1;32m      5\u001b[0m \u001b[0mX_mat\u001b[0m \u001b[0;34m=\u001b[0m \u001b[0mnp\u001b[0m\u001b[0;34m.\u001b[0m\u001b[0marray\u001b[0m\u001b[0;34m(\u001b[0m\u001b[0mX\u001b[0m\u001b[0;34m)\u001b[0m\u001b[0;34m\u001b[0m\u001b[0m\n",
      "\u001b[0;32m~/anaconda3/lib/python3.6/site-packages/pandas/io/parsers.py\u001b[0m in \u001b[0;36mparser_f\u001b[0;34m(filepath_or_buffer, sep, delimiter, header, names, index_col, usecols, squeeze, prefix, mangle_dupe_cols, dtype, engine, converters, true_values, false_values, skipinitialspace, skiprows, nrows, na_values, keep_default_na, na_filter, verbose, skip_blank_lines, parse_dates, infer_datetime_format, keep_date_col, date_parser, dayfirst, iterator, chunksize, compression, thousands, decimal, lineterminator, quotechar, quoting, escapechar, comment, encoding, dialect, tupleize_cols, error_bad_lines, warn_bad_lines, skipfooter, skip_footer, doublequote, delim_whitespace, as_recarray, compact_ints, use_unsigned, low_memory, buffer_lines, memory_map, float_precision)\u001b[0m\n\u001b[1;32m    707\u001b[0m                     skip_blank_lines=skip_blank_lines)\n\u001b[1;32m    708\u001b[0m \u001b[0;34m\u001b[0m\u001b[0m\n\u001b[0;32m--> 709\u001b[0;31m         \u001b[0;32mreturn\u001b[0m \u001b[0m_read\u001b[0m\u001b[0;34m(\u001b[0m\u001b[0mfilepath_or_buffer\u001b[0m\u001b[0;34m,\u001b[0m \u001b[0mkwds\u001b[0m\u001b[0;34m)\u001b[0m\u001b[0;34m\u001b[0m\u001b[0m\n\u001b[0m\u001b[1;32m    710\u001b[0m \u001b[0;34m\u001b[0m\u001b[0m\n\u001b[1;32m    711\u001b[0m     \u001b[0mparser_f\u001b[0m\u001b[0;34m.\u001b[0m\u001b[0m__name__\u001b[0m \u001b[0;34m=\u001b[0m \u001b[0mname\u001b[0m\u001b[0;34m\u001b[0m\u001b[0m\n",
      "\u001b[0;32m~/anaconda3/lib/python3.6/site-packages/pandas/io/parsers.py\u001b[0m in \u001b[0;36m_read\u001b[0;34m(filepath_or_buffer, kwds)\u001b[0m\n\u001b[1;32m    447\u001b[0m \u001b[0;34m\u001b[0m\u001b[0m\n\u001b[1;32m    448\u001b[0m     \u001b[0;31m# Create the parser.\u001b[0m\u001b[0;34m\u001b[0m\u001b[0;34m\u001b[0m\u001b[0m\n\u001b[0;32m--> 449\u001b[0;31m     \u001b[0mparser\u001b[0m \u001b[0;34m=\u001b[0m \u001b[0mTextFileReader\u001b[0m\u001b[0;34m(\u001b[0m\u001b[0mfilepath_or_buffer\u001b[0m\u001b[0;34m,\u001b[0m \u001b[0;34m**\u001b[0m\u001b[0mkwds\u001b[0m\u001b[0;34m)\u001b[0m\u001b[0;34m\u001b[0m\u001b[0m\n\u001b[0m\u001b[1;32m    450\u001b[0m \u001b[0;34m\u001b[0m\u001b[0m\n\u001b[1;32m    451\u001b[0m     \u001b[0;32mif\u001b[0m \u001b[0mchunksize\u001b[0m \u001b[0;32mor\u001b[0m \u001b[0miterator\u001b[0m\u001b[0;34m:\u001b[0m\u001b[0;34m\u001b[0m\u001b[0m\n",
      "\u001b[0;32m~/anaconda3/lib/python3.6/site-packages/pandas/io/parsers.py\u001b[0m in \u001b[0;36m__init__\u001b[0;34m(self, f, engine, **kwds)\u001b[0m\n\u001b[1;32m    816\u001b[0m             \u001b[0mself\u001b[0m\u001b[0;34m.\u001b[0m\u001b[0moptions\u001b[0m\u001b[0;34m[\u001b[0m\u001b[0;34m'has_index_names'\u001b[0m\u001b[0;34m]\u001b[0m \u001b[0;34m=\u001b[0m \u001b[0mkwds\u001b[0m\u001b[0;34m[\u001b[0m\u001b[0;34m'has_index_names'\u001b[0m\u001b[0;34m]\u001b[0m\u001b[0;34m\u001b[0m\u001b[0m\n\u001b[1;32m    817\u001b[0m \u001b[0;34m\u001b[0m\u001b[0m\n\u001b[0;32m--> 818\u001b[0;31m         \u001b[0mself\u001b[0m\u001b[0;34m.\u001b[0m\u001b[0m_make_engine\u001b[0m\u001b[0;34m(\u001b[0m\u001b[0mself\u001b[0m\u001b[0;34m.\u001b[0m\u001b[0mengine\u001b[0m\u001b[0;34m)\u001b[0m\u001b[0;34m\u001b[0m\u001b[0m\n\u001b[0m\u001b[1;32m    819\u001b[0m \u001b[0;34m\u001b[0m\u001b[0m\n\u001b[1;32m    820\u001b[0m     \u001b[0;32mdef\u001b[0m \u001b[0mclose\u001b[0m\u001b[0;34m(\u001b[0m\u001b[0mself\u001b[0m\u001b[0;34m)\u001b[0m\u001b[0;34m:\u001b[0m\u001b[0;34m\u001b[0m\u001b[0m\n",
      "\u001b[0;32m~/anaconda3/lib/python3.6/site-packages/pandas/io/parsers.py\u001b[0m in \u001b[0;36m_make_engine\u001b[0;34m(self, engine)\u001b[0m\n\u001b[1;32m   1047\u001b[0m     \u001b[0;32mdef\u001b[0m \u001b[0m_make_engine\u001b[0m\u001b[0;34m(\u001b[0m\u001b[0mself\u001b[0m\u001b[0;34m,\u001b[0m \u001b[0mengine\u001b[0m\u001b[0;34m=\u001b[0m\u001b[0;34m'c'\u001b[0m\u001b[0;34m)\u001b[0m\u001b[0;34m:\u001b[0m\u001b[0;34m\u001b[0m\u001b[0m\n\u001b[1;32m   1048\u001b[0m         \u001b[0;32mif\u001b[0m \u001b[0mengine\u001b[0m \u001b[0;34m==\u001b[0m \u001b[0;34m'c'\u001b[0m\u001b[0;34m:\u001b[0m\u001b[0;34m\u001b[0m\u001b[0m\n\u001b[0;32m-> 1049\u001b[0;31m             \u001b[0mself\u001b[0m\u001b[0;34m.\u001b[0m\u001b[0m_engine\u001b[0m \u001b[0;34m=\u001b[0m \u001b[0mCParserWrapper\u001b[0m\u001b[0;34m(\u001b[0m\u001b[0mself\u001b[0m\u001b[0;34m.\u001b[0m\u001b[0mf\u001b[0m\u001b[0;34m,\u001b[0m \u001b[0;34m**\u001b[0m\u001b[0mself\u001b[0m\u001b[0;34m.\u001b[0m\u001b[0moptions\u001b[0m\u001b[0;34m)\u001b[0m\u001b[0;34m\u001b[0m\u001b[0m\n\u001b[0m\u001b[1;32m   1050\u001b[0m         \u001b[0;32melse\u001b[0m\u001b[0;34m:\u001b[0m\u001b[0;34m\u001b[0m\u001b[0m\n\u001b[1;32m   1051\u001b[0m             \u001b[0;32mif\u001b[0m \u001b[0mengine\u001b[0m \u001b[0;34m==\u001b[0m \u001b[0;34m'python'\u001b[0m\u001b[0;34m:\u001b[0m\u001b[0;34m\u001b[0m\u001b[0m\n",
      "\u001b[0;32m~/anaconda3/lib/python3.6/site-packages/pandas/io/parsers.py\u001b[0m in \u001b[0;36m__init__\u001b[0;34m(self, src, **kwds)\u001b[0m\n\u001b[1;32m   1693\u001b[0m         \u001b[0mkwds\u001b[0m\u001b[0;34m[\u001b[0m\u001b[0;34m'allow_leading_cols'\u001b[0m\u001b[0;34m]\u001b[0m \u001b[0;34m=\u001b[0m \u001b[0mself\u001b[0m\u001b[0;34m.\u001b[0m\u001b[0mindex_col\u001b[0m \u001b[0;32mis\u001b[0m \u001b[0;32mnot\u001b[0m \u001b[0;32mFalse\u001b[0m\u001b[0;34m\u001b[0m\u001b[0m\n\u001b[1;32m   1694\u001b[0m \u001b[0;34m\u001b[0m\u001b[0m\n\u001b[0;32m-> 1695\u001b[0;31m         \u001b[0mself\u001b[0m\u001b[0;34m.\u001b[0m\u001b[0m_reader\u001b[0m \u001b[0;34m=\u001b[0m \u001b[0mparsers\u001b[0m\u001b[0;34m.\u001b[0m\u001b[0mTextReader\u001b[0m\u001b[0;34m(\u001b[0m\u001b[0msrc\u001b[0m\u001b[0;34m,\u001b[0m \u001b[0;34m**\u001b[0m\u001b[0mkwds\u001b[0m\u001b[0;34m)\u001b[0m\u001b[0;34m\u001b[0m\u001b[0m\n\u001b[0m\u001b[1;32m   1696\u001b[0m \u001b[0;34m\u001b[0m\u001b[0m\n\u001b[1;32m   1697\u001b[0m         \u001b[0;31m# XXX\u001b[0m\u001b[0;34m\u001b[0m\u001b[0;34m\u001b[0m\u001b[0m\n",
      "\u001b[0;32mpandas/_libs/parsers.pyx\u001b[0m in \u001b[0;36mpandas._libs.parsers.TextReader.__cinit__\u001b[0;34m()\u001b[0m\n",
      "\u001b[0;32mpandas/_libs/parsers.pyx\u001b[0m in \u001b[0;36mpandas._libs.parsers.TextReader._setup_parser_source\u001b[0;34m()\u001b[0m\n",
      "\u001b[0;31mFileNotFoundError\u001b[0m: File b'/Users/scottyf/Documents/RAD_Analysis/RAD_data/data_frames/all.dat.csv' does not exist"
     ]
    }
   ],
   "source": [
    "from sklearn.model_selection import KFold\n",
    "X = pd.read_csv(\"all.dat.csv\")\n",
    "X = X.drop(['participant_id'], axis=1)\n",
    "X = X.set_index(['subNum'])\n",
    "X_mat = np.array(X)\n",
    "\n",
    "n_folds = 5\n",
    "num_latent_vars = [5, 10, 15, 20, 25, 30, 50, 75, 100, 150, 250, 500, 1000]\n",
    "num_hidden_vars = [10, 25, 50, 100, 250, 500, 750, 1000, 1500, 2500, 5000]\n",
    "cv_results = pd.DataFrame(0,\n",
    "                           index=num_latent_vars,\n",
    "                           columns=num_hidden_vars)\n",
    "\n",
    "kf = KFold(n_splits=n_folds, shuffle=True, random_state=42)\n",
    "kf.get_n_splits(X_mat)\n",
    "\n",
    "i = 1\n",
    "for lat_var_num in num_latent_vars:\n",
    "    for hid_var_num in num_hidden_vars:\n",
    "        fold_num = 1\n",
    "        total_nll = 0.\n",
    "        \n",
    "        print('Simulation #{}: VAE with {} Latent Variable(s) and {} Hidden Variable(s)...'.format(i, lat_var_num, hid_var_num))\n",
    "        \n",
    "        for train_index, test_index in kf.split(X_mat):\n",
    "            X_train, X_test = X_mat[train_index], X_mat[test_index]\n",
    "            print(\"\\tEvaluating model on Fold {}\".format(fold_num))\n",
    "            total_nll += evaluate_vae_model(X_train, \n",
    "                                            X_test, \n",
    "                                            latent_dimensions=lat_var_num, \n",
    "                                            intermediate_dimensions=hid_var_num)\n",
    "            fold_num += 1\n",
    "\n",
    "        cv_results.loc[lat_var_num, hid_var_num] = total_nll / n_folds\n",
    "        print('\\tAvgerage Negative Log-Likelihood = {}'.format(total_nll / n_folds))\n",
    "        i += 1"
   ]
  },
  {
   "cell_type": "code",
   "execution_count": 13,
   "metadata": {},
   "outputs": [
    {
     "ename": "NameError",
     "evalue": "name 'my_cv_results' is not defined",
     "output_type": "error",
     "traceback": [
      "\u001b[0;31m---------------------------------------------------------------------------\u001b[0m",
      "\u001b[0;31mNameError\u001b[0m                                 Traceback (most recent call last)",
      "\u001b[0;32m<ipython-input-13-19c6f894df59>\u001b[0m in \u001b[0;36m<module>\u001b[0;34m()\u001b[0m\n\u001b[1;32m      1\u001b[0m \u001b[0;32mimport\u001b[0m \u001b[0mseaborn\u001b[0m \u001b[0;32mas\u001b[0m \u001b[0msns\u001b[0m\u001b[0;34m\u001b[0m\u001b[0m\n\u001b[0;32m----> 2\u001b[0;31m \u001b[0msns\u001b[0m\u001b[0;34m.\u001b[0m\u001b[0mheatmap\u001b[0m\u001b[0;34m(\u001b[0m\u001b[0;34m-\u001b[0m\u001b[0mmy_cv_results\u001b[0m\u001b[0;34m)\u001b[0m\u001b[0;34m\u001b[0m\u001b[0m\n\u001b[0m\u001b[1;32m      3\u001b[0m \u001b[0mplt\u001b[0m\u001b[0;34m.\u001b[0m\u001b[0mxlabel\u001b[0m\u001b[0;34m(\u001b[0m\u001b[0;34m'# Hidden Layer Variables'\u001b[0m\u001b[0;34m)\u001b[0m\u001b[0;34m\u001b[0m\u001b[0m\n\u001b[1;32m      4\u001b[0m \u001b[0mplt\u001b[0m\u001b[0;34m.\u001b[0m\u001b[0mylabel\u001b[0m\u001b[0;34m(\u001b[0m\u001b[0;34m'# Latent Variables'\u001b[0m\u001b[0;34m)\u001b[0m\u001b[0;34m\u001b[0m\u001b[0m\n\u001b[1;32m      5\u001b[0m \u001b[0mplt\u001b[0m\u001b[0;34m.\u001b[0m\u001b[0mshow\u001b[0m\u001b[0;34m(\u001b[0m\u001b[0;34m)\u001b[0m\u001b[0;34m\u001b[0m\u001b[0m\n",
      "\u001b[0;31mNameError\u001b[0m: name 'my_cv_results' is not defined"
     ]
    }
   ],
   "source": [
    "import seaborn as sns\n",
    "sns.heatmap(-my_cv_results)\n",
    "plt.xlabel('# Hidden Layer Variables')\n",
    "plt.ylabel('# Latent Variables')\n",
    "plt.show()"
   ]
  },
  {
   "cell_type": "markdown",
   "metadata": {},
   "source": [
    "### A comparison with PCA and Factor Analysis, after SciKit Learn's http://scikit-learn.org/stable/auto_examples/decomposition/plot_pca_vs_fa_model_selection.html#sphx-glr-auto-examples-decomposition-plot-pca-vs-fa-model-selection-py"
   ]
  },
  {
   "cell_type": "code",
   "execution_count": 21,
   "metadata": {
    "scrolled": true
   },
   "outputs": [
    {
     "name": "stderr",
     "output_type": "stream",
     "text": [
      "/home/ubuntu/anaconda3/lib/python3.6/site-packages/sklearn/model_selection/_split.py:2026: FutureWarning: From version 0.21, test_size will always complement train_size unless both are specified.\n",
      "  FutureWarning)\n"
     ]
    },
    {
     "name": "stdout",
     "output_type": "stream",
     "text": [
      "Simulation #1 VAE with 1 Latent Variable(s)...\n",
      "Simulation #2 VAE with 1 Latent Variable(s)...\n"
     ]
    },
    {
     "name": "stderr",
     "output_type": "stream",
     "text": [
      "/home/ubuntu/anaconda3/lib/python3.6/site-packages/sklearn/model_selection/_split.py:2026: FutureWarning: From version 0.21, test_size will always complement train_size unless both are specified.\n",
      "  FutureWarning)\n"
     ]
    },
    {
     "name": "stdout",
     "output_type": "stream",
     "text": [
      "Simulation #3 VAE with 1 Latent Variable(s)...\n",
      "Simulation #4 VAE with 1 Latent Variable(s)...\n",
      "Simulation #5 VAE with 1 Latent Variable(s)...\n",
      "Simulation #6 VAE with 1 Latent Variable(s)...\n",
      "Simulation #7 VAE with 1 Latent Variable(s)...\n",
      "Simulation #8 VAE with 1 Latent Variable(s)...\n",
      "Simulation #9 VAE with 1 Latent Variable(s)...\n",
      "Simulation #10 VAE with 1 Latent Variable(s)...\n",
      "Simulation #1 VAE with 2 Latent Variable(s)...\n",
      "Simulation #2 VAE with 2 Latent Variable(s)...\n",
      "Simulation #3 VAE with 2 Latent Variable(s)...\n",
      "Simulation #4 VAE with 2 Latent Variable(s)...\n",
      "Simulation #5 VAE with 2 Latent Variable(s)...\n",
      "Simulation #6 VAE with 2 Latent Variable(s)...\n",
      "Simulation #7 VAE with 2 Latent Variable(s)...\n",
      "Simulation #8 VAE with 2 Latent Variable(s)...\n",
      "Simulation #9 VAE with 2 Latent Variable(s)...\n",
      "Simulation #10 VAE with 2 Latent Variable(s)...\n",
      "Simulation #1 VAE with 3 Latent Variable(s)...\n",
      "Simulation #2 VAE with 3 Latent Variable(s)...\n",
      "Simulation #3 VAE with 3 Latent Variable(s)...\n",
      "Simulation #4 VAE with 3 Latent Variable(s)...\n",
      "Simulation #5 VAE with 3 Latent Variable(s)...\n",
      "Simulation #6 VAE with 3 Latent Variable(s)...\n",
      "Simulation #7 VAE with 3 Latent Variable(s)...\n",
      "Simulation #8 VAE with 3 Latent Variable(s)...\n",
      "Simulation #9 VAE with 3 Latent Variable(s)...\n",
      "Simulation #10 VAE with 3 Latent Variable(s)...\n",
      "Simulation #1 VAE with 4 Latent Variable(s)...\n",
      "Simulation #2 VAE with 4 Latent Variable(s)...\n",
      "Simulation #3 VAE with 4 Latent Variable(s)...\n",
      "Simulation #4 VAE with 4 Latent Variable(s)...\n",
      "Simulation #5 VAE with 4 Latent Variable(s)...\n",
      "Simulation #6 VAE with 4 Latent Variable(s)...\n",
      "Simulation #7 VAE with 4 Latent Variable(s)...\n",
      "Simulation #8 VAE with 4 Latent Variable(s)...\n",
      "Simulation #9 VAE with 4 Latent Variable(s)...\n",
      "Simulation #10 VAE with 4 Latent Variable(s)...\n",
      "Simulation #1 VAE with 5 Latent Variable(s)...\n",
      "Simulation #2 VAE with 5 Latent Variable(s)...\n",
      "Simulation #3 VAE with 5 Latent Variable(s)...\n",
      "Simulation #4 VAE with 5 Latent Variable(s)...\n",
      "Simulation #5 VAE with 5 Latent Variable(s)...\n",
      "Simulation #6 VAE with 5 Latent Variable(s)...\n",
      "Simulation #7 VAE with 5 Latent Variable(s)...\n",
      "Simulation #8 VAE with 5 Latent Variable(s)...\n",
      "Simulation #9 VAE with 5 Latent Variable(s)...\n",
      "Simulation #10 VAE with 5 Latent Variable(s)...\n",
      "Simulation #1 VAE with 6 Latent Variable(s)...\n",
      "Simulation #2 VAE with 6 Latent Variable(s)...\n",
      "Simulation #3 VAE with 6 Latent Variable(s)...\n",
      "Simulation #4 VAE with 6 Latent Variable(s)...\n",
      "Simulation #5 VAE with 6 Latent Variable(s)...\n",
      "Simulation #6 VAE with 6 Latent Variable(s)...\n",
      "Simulation #7 VAE with 6 Latent Variable(s)...\n",
      "Simulation #8 VAE with 6 Latent Variable(s)...\n",
      "Simulation #9 VAE with 6 Latent Variable(s)...\n",
      "Simulation #10 VAE with 6 Latent Variable(s)...\n",
      "Simulation #1 VAE with 7 Latent Variable(s)...\n",
      "Simulation #2 VAE with 7 Latent Variable(s)...\n",
      "Simulation #3 VAE with 7 Latent Variable(s)...\n",
      "Simulation #4 VAE with 7 Latent Variable(s)...\n",
      "Simulation #5 VAE with 7 Latent Variable(s)...\n",
      "Simulation #6 VAE with 7 Latent Variable(s)...\n",
      "Simulation #7 VAE with 7 Latent Variable(s)...\n",
      "Simulation #8 VAE with 7 Latent Variable(s)...\n",
      "Simulation #9 VAE with 7 Latent Variable(s)...\n",
      "Simulation #10 VAE with 7 Latent Variable(s)...\n",
      "Simulation #1 VAE with 8 Latent Variable(s)...\n",
      "Simulation #2 VAE with 8 Latent Variable(s)...\n",
      "Simulation #3 VAE with 8 Latent Variable(s)...\n",
      "Simulation #4 VAE with 8 Latent Variable(s)...\n",
      "Simulation #5 VAE with 8 Latent Variable(s)...\n",
      "Simulation #6 VAE with 8 Latent Variable(s)...\n",
      "Simulation #7 VAE with 8 Latent Variable(s)...\n",
      "Simulation #8 VAE with 8 Latent Variable(s)...\n",
      "Simulation #9 VAE with 8 Latent Variable(s)...\n",
      "Simulation #10 VAE with 8 Latent Variable(s)...\n",
      "Simulation #1 VAE with 9 Latent Variable(s)...\n",
      "Simulation #2 VAE with 9 Latent Variable(s)...\n",
      "Simulation #3 VAE with 9 Latent Variable(s)...\n",
      "Simulation #4 VAE with 9 Latent Variable(s)...\n",
      "Simulation #5 VAE with 9 Latent Variable(s)...\n",
      "Simulation #6 VAE with 9 Latent Variable(s)...\n",
      "Simulation #7 VAE with 9 Latent Variable(s)...\n",
      "Simulation #8 VAE with 9 Latent Variable(s)...\n",
      "Simulation #9 VAE with 9 Latent Variable(s)...\n",
      "Simulation #10 VAE with 9 Latent Variable(s)...\n",
      "Simulation #1 VAE with 10 Latent Variable(s)...\n",
      "Simulation #2 VAE with 10 Latent Variable(s)...\n",
      "Simulation #3 VAE with 10 Latent Variable(s)...\n",
      "Simulation #4 VAE with 10 Latent Variable(s)...\n",
      "Simulation #5 VAE with 10 Latent Variable(s)...\n",
      "Simulation #6 VAE with 10 Latent Variable(s)...\n",
      "Simulation #7 VAE with 10 Latent Variable(s)...\n",
      "Simulation #8 VAE with 10 Latent Variable(s)...\n",
      "Simulation #9 VAE with 10 Latent Variable(s)...\n",
      "Simulation #10 VAE with 10 Latent Variable(s)...\n",
      "Simulation #1 VAE with 11 Latent Variable(s)...\n",
      "Simulation #2 VAE with 11 Latent Variable(s)...\n",
      "Simulation #3 VAE with 11 Latent Variable(s)...\n",
      "Simulation #4 VAE with 11 Latent Variable(s)...\n",
      "Simulation #5 VAE with 11 Latent Variable(s)...\n",
      "Simulation #6 VAE with 11 Latent Variable(s)...\n",
      "Simulation #7 VAE with 11 Latent Variable(s)...\n",
      "Simulation #8 VAE with 11 Latent Variable(s)...\n",
      "Simulation #9 VAE with 11 Latent Variable(s)...\n",
      "Simulation #10 VAE with 11 Latent Variable(s)...\n",
      "Simulation #1 VAE with 12 Latent Variable(s)...\n",
      "Simulation #2 VAE with 12 Latent Variable(s)...\n",
      "Simulation #3 VAE with 12 Latent Variable(s)...\n",
      "Simulation #4 VAE with 12 Latent Variable(s)...\n",
      "Simulation #5 VAE with 12 Latent Variable(s)...\n",
      "Simulation #6 VAE with 12 Latent Variable(s)...\n",
      "Simulation #7 VAE with 12 Latent Variable(s)...\n",
      "Simulation #8 VAE with 12 Latent Variable(s)...\n",
      "Simulation #9 VAE with 12 Latent Variable(s)...\n",
      "Simulation #10 VAE with 12 Latent Variable(s)...\n",
      "Simulation #1 VAE with 13 Latent Variable(s)...\n",
      "Simulation #2 VAE with 13 Latent Variable(s)...\n",
      "Simulation #3 VAE with 13 Latent Variable(s)...\n",
      "Simulation #4 VAE with 13 Latent Variable(s)...\n",
      "Simulation #5 VAE with 13 Latent Variable(s)...\n",
      "Simulation #6 VAE with 13 Latent Variable(s)...\n",
      "Simulation #7 VAE with 13 Latent Variable(s)...\n",
      "Simulation #8 VAE with 13 Latent Variable(s)...\n",
      "Simulation #9 VAE with 13 Latent Variable(s)...\n",
      "Simulation #10 VAE with 13 Latent Variable(s)...\n",
      "Simulation #1 VAE with 14 Latent Variable(s)...\n",
      "Simulation #2 VAE with 14 Latent Variable(s)...\n",
      "Simulation #3 VAE with 14 Latent Variable(s)...\n",
      "Simulation #4 VAE with 14 Latent Variable(s)...\n",
      "Simulation #5 VAE with 14 Latent Variable(s)...\n",
      "Simulation #6 VAE with 14 Latent Variable(s)...\n",
      "Simulation #7 VAE with 14 Latent Variable(s)...\n",
      "Simulation #8 VAE with 14 Latent Variable(s)...\n",
      "Simulation #9 VAE with 14 Latent Variable(s)...\n",
      "Simulation #10 VAE with 14 Latent Variable(s)...\n",
      "Simulation #1 VAE with 15 Latent Variable(s)...\n",
      "Simulation #2 VAE with 15 Latent Variable(s)...\n",
      "Simulation #3 VAE with 15 Latent Variable(s)...\n",
      "Simulation #4 VAE with 15 Latent Variable(s)...\n",
      "Simulation #5 VAE with 15 Latent Variable(s)...\n",
      "Simulation #6 VAE with 15 Latent Variable(s)...\n",
      "Simulation #7 VAE with 15 Latent Variable(s)...\n",
      "Simulation #8 VAE with 15 Latent Variable(s)...\n",
      "Simulation #9 VAE with 15 Latent Variable(s)...\n",
      "Simulation #10 VAE with 15 Latent Variable(s)...\n",
      "Simulation #1 VAE with 16 Latent Variable(s)...\n",
      "Simulation #2 VAE with 16 Latent Variable(s)...\n",
      "Simulation #3 VAE with 16 Latent Variable(s)...\n",
      "Simulation #4 VAE with 16 Latent Variable(s)...\n",
      "Simulation #5 VAE with 16 Latent Variable(s)...\n",
      "Simulation #6 VAE with 16 Latent Variable(s)...\n",
      "Simulation #7 VAE with 16 Latent Variable(s)...\n",
      "Simulation #8 VAE with 16 Latent Variable(s)...\n",
      "Simulation #9 VAE with 16 Latent Variable(s)...\n",
      "Simulation #10 VAE with 16 Latent Variable(s)...\n",
      "Simulation #1 VAE with 17 Latent Variable(s)...\n",
      "Simulation #2 VAE with 17 Latent Variable(s)...\n",
      "Simulation #3 VAE with 17 Latent Variable(s)...\n",
      "Simulation #4 VAE with 17 Latent Variable(s)...\n",
      "Simulation #5 VAE with 17 Latent Variable(s)...\n",
      "Simulation #6 VAE with 17 Latent Variable(s)...\n",
      "Simulation #7 VAE with 17 Latent Variable(s)...\n",
      "Simulation #8 VAE with 17 Latent Variable(s)...\n",
      "Simulation #9 VAE with 17 Latent Variable(s)...\n",
      "Simulation #10 VAE with 17 Latent Variable(s)...\n",
      "Simulation #1 VAE with 18 Latent Variable(s)...\n",
      "Simulation #2 VAE with 18 Latent Variable(s)...\n",
      "Simulation #3 VAE with 18 Latent Variable(s)...\n",
      "Simulation #4 VAE with 18 Latent Variable(s)...\n",
      "Simulation #5 VAE with 18 Latent Variable(s)...\n"
     ]
    },
    {
     "name": "stdout",
     "output_type": "stream",
     "text": [
      "Simulation #6 VAE with 18 Latent Variable(s)...\n",
      "Simulation #7 VAE with 18 Latent Variable(s)...\n",
      "Simulation #8 VAE with 18 Latent Variable(s)...\n",
      "Simulation #9 VAE with 18 Latent Variable(s)...\n",
      "Simulation #10 VAE with 18 Latent Variable(s)...\n",
      "Simulation #1 VAE with 19 Latent Variable(s)...\n",
      "Simulation #2 VAE with 19 Latent Variable(s)...\n",
      "Simulation #3 VAE with 19 Latent Variable(s)...\n",
      "Simulation #4 VAE with 19 Latent Variable(s)...\n",
      "Simulation #5 VAE with 19 Latent Variable(s)...\n",
      "Simulation #6 VAE with 19 Latent Variable(s)...\n",
      "Simulation #7 VAE with 19 Latent Variable(s)...\n",
      "Simulation #8 VAE with 19 Latent Variable(s)...\n",
      "Simulation #9 VAE with 19 Latent Variable(s)...\n",
      "Simulation #10 VAE with 19 Latent Variable(s)...\n",
      "Simulation #1 VAE with 20 Latent Variable(s)...\n",
      "Simulation #2 VAE with 20 Latent Variable(s)...\n",
      "Simulation #3 VAE with 20 Latent Variable(s)...\n",
      "Simulation #4 VAE with 20 Latent Variable(s)...\n",
      "Simulation #5 VAE with 20 Latent Variable(s)...\n",
      "Simulation #6 VAE with 20 Latent Variable(s)...\n",
      "Simulation #7 VAE with 20 Latent Variable(s)...\n",
      "Simulation #8 VAE with 20 Latent Variable(s)...\n",
      "Simulation #9 VAE with 20 Latent Variable(s)...\n",
      "Simulation #10 VAE with 20 Latent Variable(s)...\n",
      "Simulation #1 VAE with 21 Latent Variable(s)...\n",
      "Simulation #2 VAE with 21 Latent Variable(s)...\n",
      "Simulation #3 VAE with 21 Latent Variable(s)...\n",
      "Simulation #4 VAE with 21 Latent Variable(s)...\n",
      "Simulation #5 VAE with 21 Latent Variable(s)...\n",
      "Simulation #6 VAE with 21 Latent Variable(s)...\n",
      "Simulation #7 VAE with 21 Latent Variable(s)...\n",
      "Simulation #8 VAE with 21 Latent Variable(s)...\n",
      "Simulation #9 VAE with 21 Latent Variable(s)...\n",
      "Simulation #10 VAE with 21 Latent Variable(s)...\n",
      "Simulation #1 VAE with 22 Latent Variable(s)...\n",
      "Simulation #2 VAE with 22 Latent Variable(s)...\n",
      "Simulation #3 VAE with 22 Latent Variable(s)...\n",
      "Simulation #4 VAE with 22 Latent Variable(s)...\n",
      "Simulation #5 VAE with 22 Latent Variable(s)...\n",
      "Simulation #6 VAE with 22 Latent Variable(s)...\n",
      "Simulation #7 VAE with 22 Latent Variable(s)...\n",
      "Simulation #8 VAE with 22 Latent Variable(s)...\n",
      "Simulation #9 VAE with 22 Latent Variable(s)...\n",
      "Simulation #10 VAE with 22 Latent Variable(s)...\n",
      "Simulation #1 VAE with 23 Latent Variable(s)...\n",
      "Simulation #2 VAE with 23 Latent Variable(s)...\n",
      "Simulation #3 VAE with 23 Latent Variable(s)...\n",
      "Simulation #4 VAE with 23 Latent Variable(s)...\n",
      "Simulation #5 VAE with 23 Latent Variable(s)...\n",
      "Simulation #6 VAE with 23 Latent Variable(s)...\n",
      "Simulation #7 VAE with 23 Latent Variable(s)...\n",
      "Simulation #8 VAE with 23 Latent Variable(s)...\n",
      "Simulation #9 VAE with 23 Latent Variable(s)...\n",
      "Simulation #10 VAE with 23 Latent Variable(s)...\n",
      "Simulation #1 VAE with 24 Latent Variable(s)...\n",
      "Simulation #2 VAE with 24 Latent Variable(s)...\n",
      "Simulation #3 VAE with 24 Latent Variable(s)...\n",
      "Simulation #4 VAE with 24 Latent Variable(s)...\n",
      "Simulation #5 VAE with 24 Latent Variable(s)...\n",
      "Simulation #6 VAE with 24 Latent Variable(s)...\n",
      "Simulation #7 VAE with 24 Latent Variable(s)...\n",
      "Simulation #8 VAE with 24 Latent Variable(s)...\n",
      "Simulation #9 VAE with 24 Latent Variable(s)...\n",
      "Simulation #10 VAE with 24 Latent Variable(s)...\n",
      "Simulation #1 VAE with 25 Latent Variable(s)...\n",
      "Simulation #2 VAE with 25 Latent Variable(s)...\n",
      "Simulation #3 VAE with 25 Latent Variable(s)...\n",
      "Simulation #4 VAE with 25 Latent Variable(s)...\n",
      "Simulation #5 VAE with 25 Latent Variable(s)...\n",
      "Simulation #6 VAE with 25 Latent Variable(s)...\n",
      "Simulation #7 VAE with 25 Latent Variable(s)...\n",
      "Simulation #8 VAE with 25 Latent Variable(s)...\n",
      "Simulation #9 VAE with 25 Latent Variable(s)...\n",
      "Simulation #10 VAE with 25 Latent Variable(s)...\n",
      "Simulation #1 VAE with 26 Latent Variable(s)...\n",
      "Simulation #2 VAE with 26 Latent Variable(s)...\n",
      "Simulation #3 VAE with 26 Latent Variable(s)...\n",
      "Simulation #4 VAE with 26 Latent Variable(s)...\n",
      "Simulation #5 VAE with 26 Latent Variable(s)...\n",
      "Simulation #6 VAE with 26 Latent Variable(s)...\n",
      "Simulation #7 VAE with 26 Latent Variable(s)...\n",
      "Simulation #8 VAE with 26 Latent Variable(s)...\n",
      "Simulation #9 VAE with 26 Latent Variable(s)...\n",
      "Simulation #10 VAE with 26 Latent Variable(s)...\n",
      "Simulation #1 VAE with 27 Latent Variable(s)...\n",
      "Simulation #2 VAE with 27 Latent Variable(s)...\n",
      "Simulation #3 VAE with 27 Latent Variable(s)...\n",
      "Simulation #4 VAE with 27 Latent Variable(s)...\n",
      "Simulation #5 VAE with 27 Latent Variable(s)...\n",
      "Simulation #6 VAE with 27 Latent Variable(s)...\n",
      "Simulation #7 VAE with 27 Latent Variable(s)...\n",
      "Simulation #8 VAE with 27 Latent Variable(s)...\n",
      "Simulation #9 VAE with 27 Latent Variable(s)...\n",
      "Simulation #10 VAE with 27 Latent Variable(s)...\n",
      "Simulation #1 VAE with 28 Latent Variable(s)...\n",
      "Simulation #2 VAE with 28 Latent Variable(s)...\n",
      "Simulation #3 VAE with 28 Latent Variable(s)...\n",
      "Simulation #4 VAE with 28 Latent Variable(s)...\n",
      "Simulation #5 VAE with 28 Latent Variable(s)...\n",
      "Simulation #6 VAE with 28 Latent Variable(s)...\n",
      "Simulation #7 VAE with 28 Latent Variable(s)...\n",
      "Simulation #8 VAE with 28 Latent Variable(s)...\n",
      "Simulation #9 VAE with 28 Latent Variable(s)...\n",
      "Simulation #10 VAE with 28 Latent Variable(s)...\n"
     ]
    },
    {
     "ename": "ValueError",
     "evalue": "n_components=29 must be between 0 and n_features=28 with svd_solver='full'",
     "output_type": "error",
     "traceback": [
      "\u001b[0;31m---------------------------------------------------------------------------\u001b[0m",
      "\u001b[0;31mValueError\u001b[0m                                Traceback (most recent call last)",
      "\u001b[0;32m<ipython-input-21-0b0efd1521fc>\u001b[0m in \u001b[0;36m<module>\u001b[0;34m()\u001b[0m\n\u001b[1;32m     13\u001b[0m         \u001b[0mX_train\u001b[0m\u001b[0;34m,\u001b[0m \u001b[0mX_test\u001b[0m \u001b[0;34m=\u001b[0m \u001b[0msklearn\u001b[0m\u001b[0;34m.\u001b[0m\u001b[0mmodel_selection\u001b[0m\u001b[0;34m.\u001b[0m\u001b[0mtrain_test_split\u001b[0m\u001b[0;34m(\u001b[0m\u001b[0mX\u001b[0m\u001b[0;34m,\u001b[0m \u001b[0mtrain_size\u001b[0m \u001b[0;34m=\u001b[0m \u001b[0;36m0.7\u001b[0m\u001b[0;34m)\u001b[0m\u001b[0;34m\u001b[0m\u001b[0m\n\u001b[1;32m     14\u001b[0m         \u001b[0mpca_model\u001b[0m \u001b[0;34m=\u001b[0m \u001b[0mPCA\u001b[0m\u001b[0;34m(\u001b[0m\u001b[0mn_components\u001b[0m\u001b[0;34m=\u001b[0m\u001b[0mlat_var_num\u001b[0m\u001b[0;34m)\u001b[0m\u001b[0;34m\u001b[0m\u001b[0m\n\u001b[0;32m---> 15\u001b[0;31m         \u001b[0mpca_model\u001b[0m\u001b[0;34m.\u001b[0m\u001b[0mfit\u001b[0m\u001b[0;34m(\u001b[0m\u001b[0mX_train\u001b[0m\u001b[0;34m)\u001b[0m\u001b[0;34m\u001b[0m\u001b[0m\n\u001b[0m\u001b[1;32m     16\u001b[0m         \u001b[0mX_test_pca\u001b[0m \u001b[0;34m=\u001b[0m \u001b[0mpca_model\u001b[0m\u001b[0;34m.\u001b[0m\u001b[0mtransform\u001b[0m\u001b[0;34m(\u001b[0m\u001b[0mX_test\u001b[0m\u001b[0;34m)\u001b[0m\u001b[0;34m\u001b[0m\u001b[0m\n\u001b[1;32m     17\u001b[0m         \u001b[0mX_test_pca_estimate\u001b[0m \u001b[0;34m=\u001b[0m \u001b[0mpca_model\u001b[0m\u001b[0;34m.\u001b[0m\u001b[0minverse_transform\u001b[0m\u001b[0;34m(\u001b[0m\u001b[0mX_test_pca\u001b[0m\u001b[0;34m)\u001b[0m\u001b[0;34m\u001b[0m\u001b[0m\n",
      "\u001b[0;32m~/anaconda3/lib/python3.6/site-packages/sklearn/decomposition/pca.py\u001b[0m in \u001b[0;36mfit\u001b[0;34m(self, X, y)\u001b[0m\n\u001b[1;32m    327\u001b[0m             \u001b[0mReturns\u001b[0m \u001b[0mthe\u001b[0m \u001b[0minstance\u001b[0m \u001b[0mitself\u001b[0m\u001b[0;34m.\u001b[0m\u001b[0;34m\u001b[0m\u001b[0m\n\u001b[1;32m    328\u001b[0m         \"\"\"\n\u001b[0;32m--> 329\u001b[0;31m         \u001b[0mself\u001b[0m\u001b[0;34m.\u001b[0m\u001b[0m_fit\u001b[0m\u001b[0;34m(\u001b[0m\u001b[0mX\u001b[0m\u001b[0;34m)\u001b[0m\u001b[0;34m\u001b[0m\u001b[0m\n\u001b[0m\u001b[1;32m    330\u001b[0m         \u001b[0;32mreturn\u001b[0m \u001b[0mself\u001b[0m\u001b[0;34m\u001b[0m\u001b[0m\n\u001b[1;32m    331\u001b[0m \u001b[0;34m\u001b[0m\u001b[0m\n",
      "\u001b[0;32m~/anaconda3/lib/python3.6/site-packages/sklearn/decomposition/pca.py\u001b[0m in \u001b[0;36m_fit\u001b[0;34m(self, X)\u001b[0m\n\u001b[1;32m    390\u001b[0m         \u001b[0;31m# Call different fits for either full or truncated SVD\u001b[0m\u001b[0;34m\u001b[0m\u001b[0;34m\u001b[0m\u001b[0m\n\u001b[1;32m    391\u001b[0m         \u001b[0;32mif\u001b[0m \u001b[0msvd_solver\u001b[0m \u001b[0;34m==\u001b[0m \u001b[0;34m'full'\u001b[0m\u001b[0;34m:\u001b[0m\u001b[0;34m\u001b[0m\u001b[0m\n\u001b[0;32m--> 392\u001b[0;31m             \u001b[0;32mreturn\u001b[0m \u001b[0mself\u001b[0m\u001b[0;34m.\u001b[0m\u001b[0m_fit_full\u001b[0m\u001b[0;34m(\u001b[0m\u001b[0mX\u001b[0m\u001b[0;34m,\u001b[0m \u001b[0mn_components\u001b[0m\u001b[0;34m)\u001b[0m\u001b[0;34m\u001b[0m\u001b[0m\n\u001b[0m\u001b[1;32m    393\u001b[0m         \u001b[0;32melif\u001b[0m \u001b[0msvd_solver\u001b[0m \u001b[0;32min\u001b[0m \u001b[0;34m[\u001b[0m\u001b[0;34m'arpack'\u001b[0m\u001b[0;34m,\u001b[0m \u001b[0;34m'randomized'\u001b[0m\u001b[0;34m]\u001b[0m\u001b[0;34m:\u001b[0m\u001b[0;34m\u001b[0m\u001b[0m\n\u001b[1;32m    394\u001b[0m             \u001b[0;32mreturn\u001b[0m \u001b[0mself\u001b[0m\u001b[0;34m.\u001b[0m\u001b[0m_fit_truncated\u001b[0m\u001b[0;34m(\u001b[0m\u001b[0mX\u001b[0m\u001b[0;34m,\u001b[0m \u001b[0mn_components\u001b[0m\u001b[0;34m,\u001b[0m \u001b[0msvd_solver\u001b[0m\u001b[0;34m)\u001b[0m\u001b[0;34m\u001b[0m\u001b[0m\n",
      "\u001b[0;32m~/anaconda3/lib/python3.6/site-packages/sklearn/decomposition/pca.py\u001b[0m in \u001b[0;36m_fit_full\u001b[0;34m(self, X, n_components)\u001b[0m\n\u001b[1;32m    408\u001b[0m             raise ValueError(\"n_components=%r must be between 0 and \"\n\u001b[1;32m    409\u001b[0m                              \u001b[0;34m\"n_features=%r with svd_solver='full'\"\u001b[0m\u001b[0;34m\u001b[0m\u001b[0m\n\u001b[0;32m--> 410\u001b[0;31m                              % (n_components, n_features))\n\u001b[0m\u001b[1;32m    411\u001b[0m \u001b[0;34m\u001b[0m\u001b[0m\n\u001b[1;32m    412\u001b[0m         \u001b[0;31m# Center data\u001b[0m\u001b[0;34m\u001b[0m\u001b[0;34m\u001b[0m\u001b[0m\n",
      "\u001b[0;31mValueError\u001b[0m: n_components=29 must be between 0 and n_features=28 with svd_solver='full'"
     ]
    }
   ],
   "source": [
    "from sklearn.decomposition import PCA\n",
    "num_simulations = 10\n",
    "num_latent_vars = range(1, 51)\n",
    "pca_sim_results = pd.DataFrame(0, \n",
    "                           index=range(1, num_simulations * len(num_latent_vars) + 1), \n",
    "                           columns=['simulation', \n",
    "                                    'num_latent_vars', \n",
    "                                    'squared_error'])\n",
    "\n",
    "i = 0\n",
    "for lat_var_num in num_latent_vars:\n",
    "    for sim_num in range(1, num_simulations + 1):\n",
    "        X_train, X_test = sklearn.model_selection.train_test_split(X, train_size = 0.7)\n",
    "        pca_model = PCA(n_components=lat_var_num)\n",
    "        pca_model.fit(X_train)\n",
    "        X_test_pca = pca_model.transform(X_test)\n",
    "        X_test_pca_estimate = pca_model.inverse_transform(X_test_pca)\n",
    "        recon_err = np.mean(np.sum(np.square(X_test - X_test_pca_estimate), axis=1))\n",
    "        \n",
    "        print('Simulation #{} VAE with {} Latent Variable(s)...'.format(sim_num, lat_var_num))\n",
    "\n",
    "        pca_sim_results.iloc[i, :] = [sim_num, \n",
    "                                      lat_var_num,\n",
    "                                      recon_err]\n",
    "        i += 1"
   ]
  },
  {
   "cell_type": "code",
   "execution_count": null,
   "metadata": {},
   "outputs": [],
   "source": [
    "# http://scikit-learn.org/stable/auto_examples/decomposition/plot_pca_vs_fa_model_selection.html#sphx-glr-auto-examples-decomposition-plot-pca-vs-fa-model-selection-py\n",
    "\n",
    "import numpy as np\n",
    "import matplotlib.pyplot as plt\n",
    "from scipy import linalg\n",
    "\n",
    "from sklearn.decomposition import PCA, FactorAnalysis\n",
    "from sklearn.covariance import ShrunkCovariance, LedoitWolf\n",
    "from sklearn.model_selection import cross_val_score\n",
    "from sklearn.model_selection import GridSearchCV\n",
    "\n",
    "print(__doc__)\n",
    "\n",
    "# #############################################################################\n",
    "# Fit the models\n",
    "\n",
    "n_components = np.arange(1, 50, 1)  # options for n_components\n",
    "\n",
    "def compute_scores(X):\n",
    "    pca = PCA(svd_solver='full')\n",
    "    fa = FactorAnalysis()\n",
    "\n",
    "    pca_scores, fa_scores = [], []\n",
    "    for n in n_components:\n",
    "        if n % 10 == 0:\n",
    "            print (\"Running PCA/FA for {} Components...\".format(n))\n",
    "        pca.n_components = n\n",
    "        fa.n_components = n\n",
    "        pca_scores.append(np.mean(cross_val_score(pca, X))) # Return the average log-likelihood of all samples.\n",
    "        fa_scores.append(np.mean(cross_val_score(fa, X))) # Return the average log-likelihood of all samples.\n",
    "\n",
    "    return pca_scores, fa_scores\n",
    "\n",
    "def shrunk_cov_score(X):\n",
    "    shrinkages = np.logspace(-2, 0, 30)\n",
    "    cv = GridSearchCV(ShrunkCovariance(), {'shrinkage': shrinkages})\n",
    "    return np.mean(cross_val_score(cv.fit(X).best_estimator_, X))\n",
    "\n",
    "def lw_score(X):\n",
    "    return np.mean(cross_val_score(LedoitWolf(), X))\n",
    "\n",
    "pca_scores, fa_scores = compute_scores(X)\n",
    "n_components_pca = n_components[np.argmax(pca_scores)]\n",
    "n_components_fa = n_components[np.argmax(fa_scores)]\n",
    "\n",
    "pca = PCA(svd_solver='full', n_components='mle')\n",
    "pca.fit(X)\n",
    "n_components_pca_mle = pca.n_components_\n",
    "\n",
    "print(\"best n_components by PCA CV = %d\" % n_components_pca)\n",
    "print(\"best n_components by FactorAnalysis CV = %d\" % n_components_fa)\n",
    "print(\"best n_components by PCA MLE = %d\" % n_components_pca_mle)"
   ]
  },
  {
   "cell_type": "code",
   "execution_count": null,
   "metadata": {},
   "outputs": [],
   "source": [
    "plt.figure()\n",
    "\n",
    "#plt.plot(num_latent_vars[:6], -cv_results.loc[num_latent_vars[:6],150], 'g', label='VAE scores')\n",
    "\n",
    "plt.plot(n_components, pca_scores, 'b', label='PCA scores')\n",
    "plt.axvline(n_components_pca, color='b',\n",
    "            label='PCA CV: %d' % n_components_pca, linestyle='--')\n",
    "\n",
    "plt.plot(n_components, fa_scores, 'r', label='FA scores')\n",
    "plt.axvline(n_components_fa, color='r',\n",
    "            label='FactorAnalysis CV: %d' % n_components_fa,\n",
    "            linestyle='--')\n",
    "\n",
    "\n",
    "plt.axhline(lw_score(X), color='orange',\n",
    "            label='LedoitWolf MLE' % n_components_pca_mle, linestyle='-.')\n",
    "\n",
    "plt.xlabel('Number of Components')\n",
    "plt.ylabel('Log-Likelihood')\n",
    "# plt.ylabel('CV scores')\n",
    "plt.legend(loc='lower right')\n",
    "\n",
    "plt.show()"
   ]
  },
  {
   "cell_type": "code",
   "execution_count": null,
   "metadata": {},
   "outputs": [],
   "source": []
  }
 ],
 "metadata": {
  "anaconda-cloud": {},
  "kernelspec": {
   "display_name": "Python 3",
   "language": "python",
   "name": "python3"
  },
  "language_info": {
   "codemirror_mode": {
    "name": "ipython",
    "version": 3
   },
   "file_extension": ".py",
   "mimetype": "text/x-python",
   "name": "python",
   "nbconvert_exporter": "python",
   "pygments_lexer": "ipython3",
   "version": "3.6.3"
  }
 },
 "nbformat": 4,
 "nbformat_minor": 2
}
