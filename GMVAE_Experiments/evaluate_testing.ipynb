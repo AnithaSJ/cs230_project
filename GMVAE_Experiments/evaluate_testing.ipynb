{
 "cells": [
  {
   "cell_type": "code",
   "execution_count": 1,
   "metadata": {},
   "outputs": [
    {
     "name": "stderr",
     "output_type": "stream",
     "text": [
      "/home/ubuntu/anaconda3/lib/python3.6/site-packages/h5py/__init__.py:34: FutureWarning: Conversion of the second argument of issubdtype from `float` to `np.floating` is deprecated. In future, it will be treated as `np.float64 == np.dtype(float).type`.\n",
      "  from ._conv import register_converters as _register_converters\n",
      "/home/ubuntu/anaconda3/lib/python3.6/site-packages/matplotlib/__init__.py:962: UserWarning: Duplicate key in file \"/home/ubuntu/.config/matplotlib/matplotlibrc\", line #2\n",
      "  (fname, cnt))\n",
      "/home/ubuntu/anaconda3/lib/python3.6/site-packages/matplotlib/__init__.py:962: UserWarning: Duplicate key in file \"/home/ubuntu/.config/matplotlib/matplotlibrc\", line #3\n",
      "  (fname, cnt))\n"
     ]
    }
   ],
   "source": [
    "import tensorflow as tf\n",
    "import numpy as np\n",
    "from sklearn.metrics import calinski_harabaz_score\n",
    "from sklearn.decomposition import PCA\n",
    "from sklearn.mixture import GaussianMixture\n",
    "import sys\n",
    "from gmvae_model import GMVAE\n",
    "from utils import *"
   ]
  },
  {
   "cell_type": "code",
   "execution_count": 2,
   "metadata": {},
   "outputs": [],
   "source": [
    "k = 2\n",
    "n_x = 10\n",
    "n_z = 2"
   ]
  },
  {
   "cell_type": "markdown",
   "metadata": {},
   "source": [
    "# Load toy dataset"
   ]
  },
  {
   "cell_type": "code",
   "execution_count": 3,
   "metadata": {},
   "outputs": [
    {
     "name": "stdout",
     "output_type": "stream",
     "text": [
      "(1350, 10)\n"
     ]
    }
   ],
   "source": [
    "true_clusters = 3\n",
    "dataset = load_and_mix_data('generated_from_cluster',true_clusters,True)\n",
    "print(dataset.train.data.shape)"
   ]
  },
  {
   "cell_type": "code",
   "execution_count": 4,
   "metadata": {},
   "outputs": [
    {
     "name": "stdout",
     "output_type": "stream",
     "text": [
      "(150, 3)\n"
     ]
    }
   ],
   "source": [
    "print(dataset.test.labels.shape)"
   ]
  },
  {
   "cell_type": "markdown",
   "metadata": {},
   "source": [
    "# Create model"
   ]
  },
  {
   "cell_type": "code",
   "execution_count": 5,
   "metadata": {},
   "outputs": [
    {
     "name": "stdout",
     "output_type": "stream",
     "text": [
      "graph written\n"
     ]
    }
   ],
   "source": [
    "model = GMVAE(k=k, n_x=n_x, n_z=n_z)"
   ]
  },
  {
   "cell_type": "code",
   "execution_count": 6,
   "metadata": {},
   "outputs": [],
   "source": [
    "def sample_z(sess, X, model, multiplier, k, n_z):\n",
    "    '''\n",
    "        For each datapoint in X, sample its latent representation 'multiplier' times\n",
    "        Returns: z - all latent vectors, ordered in [z1,z2,...,ZM,another z1,another z2,...], \n",
    "                    which makes it easy to divide into 'multiplier' \"batches\"\n",
    "                 category - for each latent vector, an indicator showing which cluster it belongs to\n",
    "    '''\n",
    "    M = len(X)\n",
    "    all_z = np.zeros((M*multiplier, k, n_z))\n",
    "    for i in range(k):\n",
    "        for j in range(multiplier):\n",
    "            all_z[M*j:M*(j+1), i] = sess.run(model.z[i],\n",
    "                                    feed_dict={'x:0': X})\n",
    "\n",
    "    qy = sess.run(model.qy, feed_dict={'x:0': X})\n",
    "    category = qy.argmax(axis=1)\n",
    "    category = np.concatenate([category for j in range(multiplier)])\n",
    "    y_pred = one_hot(category, depth=k).astype(bool)\n",
    "\n",
    "    z = all_z[y_pred]\n",
    "    return z, category"
   ]
  },
  {
   "cell_type": "code",
   "execution_count": 7,
   "metadata": {},
   "outputs": [],
   "source": [
    "def pca(X, n_z):\n",
    "    '''\n",
    "        Performs dimensionality reduction of dataset X, down to n_z dimensions\n",
    "        Returns: x - a reduced dimensionality representation of X\n",
    "    '''\n",
    "    pca_solver = PCA(n_components = n_z)\n",
    "    x = pca_solver.fit_transform(X)\n",
    "    return x"
   ]
  },
  {
   "cell_type": "code",
   "execution_count": 8,
   "metadata": {},
   "outputs": [],
   "source": [
    "def gm(X, k):\n",
    "    '''\n",
    "        Clusters all data points in X into k clusters \n",
    "        Returns: labels - for each data point, an indicator showing which cluster it belongs to\n",
    "    '''\n",
    "    gm_solver = GaussianMixture(n_components = k)\n",
    "    gm_solver.fit(X)\n",
    "    labels = gm_solver.predict(X)\n",
    "    return labels"
   ]
  },
  {
   "cell_type": "code",
   "execution_count": 9,
   "metadata": {},
   "outputs": [],
   "source": [
    "def perform_pca_and_cluster(X, k, n_z):\n",
    "    '''\n",
    "        Performs PCA dimensionality reduction on X and clusters the result into k clusters\n",
    "        Returns: X_reducted - a reduced dimensionality representation of X\n",
    "                 X_labels - for each data point in X_reducted, an indicator showing which cluster it belongs to\n",
    "    '''\n",
    "    X_reducted = pca(X, n_z)\n",
    "    X_labels = gm(X_reducted, k)\n",
    "    return X_reducted, X_labels"
   ]
  },
  {
   "cell_type": "code",
   "execution_count": 10,
   "metadata": {},
   "outputs": [],
   "source": [
    "def compute_pairwise_stability(sess, model, X, k, n_z):\n",
    "    '''\n",
    "        Computes pairwise stability for data set X and the given model\n",
    "        Looking at the clustering achieved by the model, for each pair of data points that are assigned to the same\n",
    "        cluster, see if they also are assigned to the same cluster using PCA + GMM clustering\n",
    "        Returns: Score indicating how close the clustering achieved by the model is to simpler PCA + GMM clustering\n",
    "    '''\n",
    "    X_reducted, X_labels = perform_pca_and_cluster(X, k, n_z)\n",
    "    z, category = sample_z(sess,\n",
    "                           X,\n",
    "                           model,\n",
    "                           multiplier = 1, \n",
    "                           k = k, \n",
    "                           n_z = n_z)\n",
    "    total_pairs = 0\n",
    "    stable_pairs = 0\n",
    "    for i in range(len(category)):\n",
    "        for j in range(i,len(category)):\n",
    "            if category[i] == category[j]:\n",
    "                total_pairs += 1\n",
    "                if X_labels[i] == X_labels[j]:\n",
    "                    stable_pairs += 1\n",
    "    return 1.*stable_pairs/total_pairs"
   ]
  },
  {
   "cell_type": "code",
   "execution_count": 11,
   "metadata": {},
   "outputs": [],
   "source": [
    "def sample_and_compute_calinski_harabaz(sess, X, model, multiplier, k, n_z):\n",
    "    '''\n",
    "        For each datapoint in X, sample its latent representation 'multiplier' times\n",
    "        For each batch of samples ('multiplier' batches), compute the calinski harabasz index\n",
    "        Returns: A list containing the calinski harabasz index for each batch of samples\n",
    "    '''\n",
    "    z, categories = sample_z(sess,\n",
    "                           X,\n",
    "                           model,\n",
    "                           multiplier,\n",
    "                           k,\n",
    "                           n_z)\n",
    "    if np.unique(categories).shape[0] == 1:\n",
    "        print('All variables assigned to one cluster! Returning a score of 0.')\n",
    "        return np.zeros(multiplier)\n",
    "    output = np.zeros(multiplier)\n",
    "    M = X.shape[0]\n",
    "    for i in range(multiplier):\n",
    "        output[i] = calinski_harabaz_score(z[M*i:M*(i+1)], categories[M*i:M*(i+1)])\n",
    "    return output"
   ]
  },
  {
   "cell_type": "code",
   "execution_count": 12,
   "metadata": {},
   "outputs": [],
   "source": [
    "def box_plot(scores, clusters):\n",
    "    '''\n",
    "        Creates a boxplot of the Calinski Harabasz Index, for each number of clusters\n",
    "    '''\n",
    "    K = len(scores)\n",
    "    plt.figure()\n",
    "    plt.xlabel('Number of clusters')\n",
    "    plt.ylabel('Calinski Harabasz Index')\n",
    "    plt.boxplot(scores, sym = '', positions = clusters)\n",
    "    plt.show()"
   ]
  },
  {
   "cell_type": "code",
   "execution_count": 13,
   "metadata": {},
   "outputs": [],
   "source": [
    "def plot(scores, clusters):\n",
    "    '''\n",
    "        Creates a plot of the Pairwise Stability Score, for each number of clusters\n",
    "    '''\n",
    "    K = len(scores)\n",
    "    plt.figure()\n",
    "    plt.xlabel('Number of clusters')\n",
    "    plt.ylabel('Pairwise Stability Score')\n",
    "    plt.plot(clusters, scores)\n",
    "    plt.show()"
   ]
  },
  {
   "cell_type": "code",
   "execution_count": 14,
   "metadata": {},
   "outputs": [],
   "source": [
    "def eval_and_plot(dataset):\n",
    "    saver = tf.train.Saver(keep_checkpoint_every_n_hours=4)\n",
    "    CH_scores = []\n",
    "    stability_scores = []\n",
    "    clusters = range(2,10)\n",
    "    for k in clusters:\n",
    "        model = GMVAE(k=k, n_x=n_x, n_z=n_z)\n",
    "        with tf.Session() as sess:\n",
    "            sess.run(tf.global_variables_initializer())\n",
    "            # TRAINING\n",
    "            sess_info = (sess, saver)\n",
    "            # For some reason we can't save when running on jupyter notebook, hence the last parameter\n",
    "            # When we want to save our parameters, maybe just run a python script from a terminal instead?\n",
    "            history = model.train('logs/gmvae_k={:d}.log'.format(k), dataset, sess_info, epochs=30, save_parameters = False)\n",
    "\n",
    "            multiplier = 10 # How many z:s we sample from one data point\n",
    "            CH = sample_and_compute_calinski_harabaz(sess,\n",
    "                                   dataset.test.data,\n",
    "                                   model,\n",
    "                                   multiplier,\n",
    "                                   k,\n",
    "                                   n_z)\n",
    "            CH_scores.append(CH)\n",
    "            stability_score = compute_pairwise_stability(sess, model, dataset.test.data, k, n_z)\n",
    "            stability_scores.append(stability_score)\n",
    "    box_plot(CH_scores, clusters)\n",
    "    plot(stability_scores, clusters)"
   ]
  },
  {
   "cell_type": "markdown",
   "metadata": {},
   "source": [
    "## Evaluate on MIMIC Arterial Line dataset"
   ]
  },
  {
   "cell_type": "code",
   "execution_count": 15,
   "metadata": {},
   "outputs": [
    {
     "data": {
      "text/html": [
       "<div>\n",
       "<style scoped>\n",
       "    .dataframe tbody tr th:only-of-type {\n",
       "        vertical-align: middle;\n",
       "    }\n",
       "\n",
       "    .dataframe tbody tr th {\n",
       "        vertical-align: top;\n",
       "    }\n",
       "\n",
       "    .dataframe thead th {\n",
       "        text-align: right;\n",
       "    }\n",
       "</style>\n",
       "<table border=\"1\" class=\"dataframe\">\n",
       "  <thead>\n",
       "    <tr style=\"text-align: right;\">\n",
       "      <th></th>\n",
       "      <th>meanHR</th>\n",
       "      <th>meanRR</th>\n",
       "      <th>meanSysBP</th>\n",
       "      <th>meanTempC</th>\n",
       "      <th>meanAlbumin</th>\n",
       "      <th>meanBands</th>\n",
       "      <th>meanBicarbonate</th>\n",
       "      <th>meanBilirubin</th>\n",
       "      <th>meanBUN</th>\n",
       "      <th>meanChloride</th>\n",
       "      <th>...</th>\n",
       "      <th>meanINR</th>\n",
       "      <th>meanLactate</th>\n",
       "      <th>meanPaCO2</th>\n",
       "      <th>meanPlatelet</th>\n",
       "      <th>meanPotassium</th>\n",
       "      <th>meanPT</th>\n",
       "      <th>meanPTT</th>\n",
       "      <th>meanSodium</th>\n",
       "      <th>meanWBC</th>\n",
       "      <th>maxNumSIRSCrit</th>\n",
       "    </tr>\n",
       "  </thead>\n",
       "  <tbody>\n",
       "    <tr>\n",
       "      <th>0</th>\n",
       "      <td>0.452273</td>\n",
       "      <td>-0.387585</td>\n",
       "      <td>0.002797</td>\n",
       "      <td>-0.028543</td>\n",
       "      <td>-1.868291</td>\n",
       "      <td>-0.305424</td>\n",
       "      <td>-1.937091</td>\n",
       "      <td>-0.214176</td>\n",
       "      <td>0.289536</td>\n",
       "      <td>0.793841</td>\n",
       "      <td>...</td>\n",
       "      <td>0.147848</td>\n",
       "      <td>-0.064125</td>\n",
       "      <td>-1.172785</td>\n",
       "      <td>-0.227757</td>\n",
       "      <td>-0.172244</td>\n",
       "      <td>-0.119681</td>\n",
       "      <td>2.716956</td>\n",
       "      <td>-0.387556</td>\n",
       "      <td>0.430991</td>\n",
       "      <td>0.303063</td>\n",
       "    </tr>\n",
       "    <tr>\n",
       "      <th>1</th>\n",
       "      <td>0.473842</td>\n",
       "      <td>1.674952</td>\n",
       "      <td>0.186497</td>\n",
       "      <td>0.014670</td>\n",
       "      <td>-0.362456</td>\n",
       "      <td>0.461929</td>\n",
       "      <td>-0.814059</td>\n",
       "      <td>0.072257</td>\n",
       "      <td>-0.699913</td>\n",
       "      <td>0.335246</td>\n",
       "      <td>...</td>\n",
       "      <td>-0.469213</td>\n",
       "      <td>0.053456</td>\n",
       "      <td>-1.469507</td>\n",
       "      <td>0.033692</td>\n",
       "      <td>-1.621226</td>\n",
       "      <td>-0.486025</td>\n",
       "      <td>-0.189336</td>\n",
       "      <td>0.361274</td>\n",
       "      <td>-0.268720</td>\n",
       "      <td>0.303063</td>\n",
       "    </tr>\n",
       "    <tr>\n",
       "      <th>2</th>\n",
       "      <td>-0.134467</td>\n",
       "      <td>-1.525762</td>\n",
       "      <td>2.124331</td>\n",
       "      <td>-0.768827</td>\n",
       "      <td>0.026461</td>\n",
       "      <td>-0.165938</td>\n",
       "      <td>-2.002589</td>\n",
       "      <td>-0.361045</td>\n",
       "      <td>1.812809</td>\n",
       "      <td>-0.442144</td>\n",
       "      <td>...</td>\n",
       "      <td>-0.464988</td>\n",
       "      <td>0.444293</td>\n",
       "      <td>0.015143</td>\n",
       "      <td>0.134776</td>\n",
       "      <td>1.468276</td>\n",
       "      <td>-0.472912</td>\n",
       "      <td>0.332990</td>\n",
       "      <td>-1.612700</td>\n",
       "      <td>-0.169735</td>\n",
       "      <td>0.303063</td>\n",
       "    </tr>\n",
       "    <tr>\n",
       "      <th>3</th>\n",
       "      <td>0.087423</td>\n",
       "      <td>-0.784762</td>\n",
       "      <td>1.743391</td>\n",
       "      <td>-0.604978</td>\n",
       "      <td>-0.181756</td>\n",
       "      <td>-0.201432</td>\n",
       "      <td>-0.126819</td>\n",
       "      <td>-0.318333</td>\n",
       "      <td>-0.243339</td>\n",
       "      <td>-0.622412</td>\n",
       "      <td>...</td>\n",
       "      <td>-0.454983</td>\n",
       "      <td>0.149429</td>\n",
       "      <td>-0.458214</td>\n",
       "      <td>0.358421</td>\n",
       "      <td>-1.747462</td>\n",
       "      <td>-0.450155</td>\n",
       "      <td>-0.897641</td>\n",
       "      <td>-1.017360</td>\n",
       "      <td>0.320604</td>\n",
       "      <td>0.303063</td>\n",
       "    </tr>\n",
       "    <tr>\n",
       "      <th>4</th>\n",
       "      <td>-0.122553</td>\n",
       "      <td>-0.631322</td>\n",
       "      <td>-0.991045</td>\n",
       "      <td>-0.151381</td>\n",
       "      <td>0.530924</td>\n",
       "      <td>-0.086662</td>\n",
       "      <td>0.276635</td>\n",
       "      <td>-0.314915</td>\n",
       "      <td>-0.501274</td>\n",
       "      <td>-0.011424</td>\n",
       "      <td>...</td>\n",
       "      <td>-0.477371</td>\n",
       "      <td>-0.332231</td>\n",
       "      <td>-1.253053</td>\n",
       "      <td>0.186251</td>\n",
       "      <td>-0.407852</td>\n",
       "      <td>-0.557565</td>\n",
       "      <td>-0.673033</td>\n",
       "      <td>0.507517</td>\n",
       "      <td>-0.125800</td>\n",
       "      <td>0.303063</td>\n",
       "    </tr>\n",
       "  </tbody>\n",
       "</table>\n",
       "<p>5 rows × 24 columns</p>\n",
       "</div>"
      ],
      "text/plain": [
       "     meanHR    meanRR  meanSysBP  meanTempC  meanAlbumin  meanBands  \\\n",
       "0  0.452273 -0.387585   0.002797  -0.028543    -1.868291  -0.305424   \n",
       "1  0.473842  1.674952   0.186497   0.014670    -0.362456   0.461929   \n",
       "2 -0.134467 -1.525762   2.124331  -0.768827     0.026461  -0.165938   \n",
       "3  0.087423 -0.784762   1.743391  -0.604978    -0.181756  -0.201432   \n",
       "4 -0.122553 -0.631322  -0.991045  -0.151381     0.530924  -0.086662   \n",
       "\n",
       "   meanBicarbonate  meanBilirubin   meanBUN  meanChloride       ...        \\\n",
       "0        -1.937091      -0.214176  0.289536      0.793841       ...         \n",
       "1        -0.814059       0.072257 -0.699913      0.335246       ...         \n",
       "2        -2.002589      -0.361045  1.812809     -0.442144       ...         \n",
       "3        -0.126819      -0.318333 -0.243339     -0.622412       ...         \n",
       "4         0.276635      -0.314915 -0.501274     -0.011424       ...         \n",
       "\n",
       "    meanINR  meanLactate  meanPaCO2  meanPlatelet  meanPotassium    meanPT  \\\n",
       "0  0.147848    -0.064125  -1.172785     -0.227757      -0.172244 -0.119681   \n",
       "1 -0.469213     0.053456  -1.469507      0.033692      -1.621226 -0.486025   \n",
       "2 -0.464988     0.444293   0.015143      0.134776       1.468276 -0.472912   \n",
       "3 -0.454983     0.149429  -0.458214      0.358421      -1.747462 -0.450155   \n",
       "4 -0.477371    -0.332231  -1.253053      0.186251      -0.407852 -0.557565   \n",
       "\n",
       "    meanPTT  meanSodium   meanWBC  maxNumSIRSCrit  \n",
       "0  2.716956   -0.387556  0.430991        0.303063  \n",
       "1 -0.189336    0.361274 -0.268720        0.303063  \n",
       "2  0.332990   -1.612700 -0.169735        0.303063  \n",
       "3 -0.897641   -1.017360  0.320604        0.303063  \n",
       "4 -0.673033    0.507517 -0.125800        0.303063  \n",
       "\n",
       "[5 rows x 24 columns]"
      ]
     },
     "execution_count": 15,
     "metadata": {},
     "output_type": "execute_result"
    }
   ],
   "source": [
    "import pandas as pd\n",
    "#aline_data = pd.read_csv('../aline-dataset.csv')\n",
    "aline_data = pd.read_csv('../vanilla_VAE/milestone_cohort.csv')\n",
    "#aline_data.iloc[:,4:].columns.values\n",
    "#colnames = aline_data.iloc[:,4:].columns.values\n",
    "aline_data = aline_data.drop(['Unnamed: 0','subject_id', 'hadm_id', 'icustay_id'], axis=1)\n",
    "aline_data.head()"
   ]
  },
  {
   "cell_type": "markdown",
   "metadata": {},
   "source": [
    "## Separate out X and Y (inputs and potential labels)"
   ]
  },
  {
   "cell_type": "code",
   "execution_count": 16,
   "metadata": {},
   "outputs": [],
   "source": [
    "'''import numpy as np\n",
    "x_cols, y_cols = ['gender_num', 'day_icu_intime_num',\n",
    "       'hour_icu_intime'], ['icu_los_day'] \n",
    "for name in colnames:\n",
    "    if \"_first\" in name:\n",
    "        x_cols.append(name)\n",
    "    elif \"_flg\" in name or \"mort_day\" in name:\n",
    "        y_cols.append(name)\n",
    "        \n",
    "\"x:\",x_cols,\"y\", y_cols\n",
    "\n",
    "xnames = \"|\".join(x_cols)\n",
    "ynames = \"|\".join(y_cols)\n",
    "X = aline_data.filter(regex=xnames)\n",
    "Y = aline_data.filter(regex=ynames)\n",
    "#num_intime = pd.to_numeric(pd.to_datetime(X['icustay_intime']))\n",
    "#X['icustay_intime'] = num_intime\n",
    "#num_outtime = pd.to_numeric(pd.to_datetime(X['icustay_outtime']))\n",
    "ynames\n",
    "'''\n",
    "X = aline_data.drop(['maxNumSIRSCrit'], axis=1)\n",
    "Y = aline_data['maxNumSIRSCrit']"
   ]
  },
  {
   "cell_type": "markdown",
   "metadata": {},
   "source": [
    "## Normalize values in X (no longer needed; Scotty did this preprocessing  for us in R). No more mean imputation; using KNN instead."
   ]
  },
  {
   "cell_type": "code",
   "execution_count": 17,
   "metadata": {},
   "outputs": [
    {
     "data": {
      "text/plain": [
       "\"from sklearn import preprocessing\\nintime = np.array(num_intime).reshape(-1,1) #returns a numpy array\\nmin_max_scaler = preprocessing.MinMaxScaler()\\nintime_scaled = min_max_scaler.fit_transform(intime)\\nX['icustay_intime'] = intime_scaled\\n#outtime = np.array(num_outtime).reshape(-1,1) #returns a numpy array\\nmin_max_scaler = preprocessing.MinMaxScaler()\\n#outtime_scaled = min_max_scaler.fit_transform(outtime)\\n#X['icustay_outtime'] = outtime_scaled\\nX.head()\\n\\n\\nvars_to_normalize = X.columns.values\\nprint(vars_to_normalize)\\nX[vars_to_normalize] = X[vars_to_normalize].apply(lambda x: (x - x.min()) / (x.max() - x.min()))\\nX = X.clip(lower=0.0, upper=1)\\nX = X.fillna(X.mean())\\nY.head()\\n#Y = Y.drop(['mort_day'], axis=1)\\n\""
      ]
     },
     "execution_count": 17,
     "metadata": {},
     "output_type": "execute_result"
    }
   ],
   "source": [
    "'''from sklearn import preprocessing\n",
    "intime = np.array(num_intime).reshape(-1,1) #returns a numpy array\n",
    "min_max_scaler = preprocessing.MinMaxScaler()\n",
    "intime_scaled = min_max_scaler.fit_transform(intime)\n",
    "X['icustay_intime'] = intime_scaled\n",
    "#outtime = np.array(num_outtime).reshape(-1,1) #returns a numpy array\n",
    "min_max_scaler = preprocessing.MinMaxScaler()\n",
    "#outtime_scaled = min_max_scaler.fit_transform(outtime)\n",
    "#X['icustay_outtime'] = outtime_scaled\n",
    "X.head()\n",
    "\n",
    "\n",
    "vars_to_normalize = X.columns.values\n",
    "print(vars_to_normalize)\n",
    "X[vars_to_normalize] = X[vars_to_normalize].apply(lambda x: (x - x.min()) / (x.max() - x.min()))\n",
    "X = X.clip(lower=0.0, upper=1)\n",
    "X = X.fillna(X.mean())\n",
    "Y.head()\n",
    "#Y = Y.drop(['mort_day'], axis=1)\n",
    "'''"
   ]
  },
  {
   "cell_type": "markdown",
   "metadata": {},
   "source": [
    "## Load up data for GMVAE"
   ]
  },
  {
   "cell_type": "code",
   "execution_count": 18,
   "metadata": {},
   "outputs": [
    {
     "name": "stdout",
     "output_type": "stream",
     "text": [
      "[27523 23612 51367 ...  5285 28990  5213]\n",
      "[27523 23612 51367 ... 37669 46763 11468]\n"
     ]
    },
    {
     "data": {
      "text/plain": [
       "<dataset.Testset at 0x7fbbb9447be0>"
      ]
     },
     "execution_count": 18,
     "metadata": {},
     "output_type": "execute_result"
    }
   ],
   "source": [
    "def load_and_mix_data2(X, Y, k, randomize=True):\n",
    "    concatenated_data = X.fillna(X.mean())# np.concatenate(all_data, axis=0)\n",
    "    concatenated_labels = Y.fillna(Y.mean())#np.concatenate(all_labels, axis=0)\n",
    "    m = concatenated_data.shape[0]\n",
    "    if randomize:\n",
    "        indices = np.random.permutation(np.arange(len(concatenated_data)))\n",
    "    else:\n",
    "        indices = np.arange(len(concatenated_data))\n",
    "    print(indices)\n",
    "    train_indices = indices[:int(m * 0.9)]\n",
    "    test_indices = indices[int(m * 0.9):]\n",
    "    print(train_indices)\n",
    "    train_data = concatenated_data.loc[train_indices].as_matrix()\n",
    "    #print(len(all_labels))\n",
    "    #print(all_labels[0][0], all_labels[1][0], all_labels[2][0])\n",
    "   # print(type(train_data))\n",
    "   # print(\"(m,n)\",train_data.shape)\n",
    "    train_labels = concatenated_labels.loc[train_indices]\n",
    "    test_data = concatenated_data.loc[test_indices].as_matrix()\n",
    "    test_labels = concatenated_labels.loc[test_indices]\n",
    "    #print(\"TESTLABELS ARE\",test_labels)\n",
    "    dataset = Dataset(k)\n",
    "    dataset.setTrainData(train_data, train_labels)\n",
    "    dataset.setTestData(test_data, test_labels)\n",
    "    return dataset\n",
    "\n",
    "dataset = load_and_mix_data2(X, Y, 3, True)\n",
    "#dataset = load_and_mix_data('generated_from_cluster',true_clusters,True)\n",
    "#dataset.train.data\n",
    "dataset.test"
   ]
  },
  {
   "cell_type": "code",
   "execution_count": 19,
   "metadata": {},
   "outputs": [
    {
     "data": {
      "text/plain": [
       "60.689519455045605"
      ]
     },
     "execution_count": 19,
     "metadata": {},
     "output_type": "execute_result"
    }
   ],
   "source": [
    "np.max(dataset.train.data)"
   ]
  },
  {
   "cell_type": "code",
   "execution_count": 20,
   "metadata": {},
   "outputs": [
    {
     "data": {
      "text/plain": [
       "(52693, 23)"
      ]
     },
     "execution_count": 20,
     "metadata": {},
     "output_type": "execute_result"
    }
   ],
   "source": [
    "X.shape"
   ]
  },
  {
   "cell_type": "markdown",
   "metadata": {},
   "source": [
    "## Trawl through different # of clusters to see which gives best intercluster separation  and intracluster closeness"
   ]
  },
  {
   "cell_type": "code",
   "execution_count": 21,
   "metadata": {},
   "outputs": [
    {
     "name": "stdout",
     "output_type": "stream",
     "text": [
      "with k= 2 clusters\n",
      "graph written\n",
      "init\n",
      "    tr_ent,   tr_loss,     t_ent,    t_loss,     t_acc,     epoch                                   \n",
      " -6.76e-01,  2.73e+00,  6.79e-01,  2.76e+00,  1.00e+00\n"
     ]
    },
    {
     "data": {
      "image/png": "[encoded data removed]",
      "text/plain": [
       "<matplotlib.figure.Figure at 0x7fbbb9454e10>"
      ]
     },
     "metadata": {},
     "output_type": "display_data"
    },
    {
     "data": {
      "image/png": "[encoded data removed]",
      "text/plain": [
       "<matplotlib.figure.Figure at 0x7fbbb9454f98>"
      ]
     },
     "metadata": {},
     "output_type": "display_data"
    }
   ],
   "source": [
    "from gmvae_model import GMVAE\n",
    "eval_epochs = 1\n",
    "saver = tf.train.Saver(keep_checkpoint_every_n_hours=4)\n",
    "CH_scores = []\n",
    "stability_scores = []\n",
    "clusters = range(2,3)\n",
    "n_z = 2\n",
    "n_x = dataset.train.data.shape[1]\n",
    "for k in clusters:\n",
    "    print(\"with k=\",k,\"clusters\")\n",
    "    model = GMVAE(k=k, n_x=n_x, n_z=n_z)\n",
    "    with tf.Session() as sess:\n",
    "        sess.run(tf.global_variables_initializer())\n",
    "        # TRAINING\n",
    "        sess_info = (sess, saver)\n",
    "        print(\"init\")\n",
    "        # For some reason we can't save when running on jupyter notebook, hence the last parameter\n",
    "        # When we want to save our parameters, maybe just run a python script from a terminal instead?\n",
    "        history = model.train('logs/gmvae_k={:d}.log'.format(k), dataset, sess_info, epochs=eval_epochs, save_parameters = False)\n",
    "\n",
    "        multiplier = 10 # How many z:s we sample from one data point\n",
    "        CH = sample_and_compute_calinski_harabaz(sess,\n",
    "                               dataset.test.data,\n",
    "                               model,\n",
    "                               multiplier,\n",
    "                               k,\n",
    "                               n_z)\n",
    "        CH_scores.append(CH)\n",
    "        stability_score = compute_pairwise_stability(sess, model, dataset.test.data, k, n_z)\n",
    "        stability_scores.append(stability_score)\n",
    "a = box_plot(CH_scores, clusters)\n",
    "b = plot(stability_scores, clusters)"
   ]
  },
  {
   "cell_type": "code",
   "execution_count": 22,
   "metadata": {},
   "outputs": [],
   "source": [
    "#box_plot(CH_scores, clusters)"
   ]
  },
  {
   "cell_type": "code",
   "execution_count": 23,
   "metadata": {},
   "outputs": [],
   "source": [
    " #plot(stability_scores, clusters)"
   ]
  },
  {
   "cell_type": "code",
   "execution_count": 27,
   "metadata": {},
   "outputs": [],
   "source": [
    "def get_corcoeffs(X, k, sess, model):\n",
    "    names = list(X.columns)\n",
    "    n_examples = 200\n",
    "    old_pats = X[:n_examples]\n",
    "    zvals = encode(old_pats, sess, model)\n",
    "    # get some known patients.\n",
    "    min_z = -3\n",
    "    max_z = 3\n",
    "    skip = 1\n",
    "\n",
    "    distrs = []\n",
    "    distrs_spectra = []\n",
    "    for y in range(k):\n",
    "        latent_vars = {}\n",
    "        latent_var_spectra = {}\n",
    "        for i in range(n_z):  # For each latent variable...\n",
    "            latent_name = \"z\" + str(i)\n",
    "            latent_vars[latent_name] = {}\n",
    "            latent_var_spectra[latent_name] = np.zeros(len(names))\n",
    "            layer = latent_vars[latent_name]\n",
    "            for z in range(min_z, max_z, skip):  # ...fix the value of the latent variable (for a suite of values)\n",
    "                zvals[:, i] = z\n",
    "                new_pats = generate(y, zvals, sess, model)\n",
    "                new_z = np.ones(n_examples) * z\n",
    "                if \"x\" in layer:\n",
    "                    layer[\"x\"] = np.concatenate((layer[\"x\"], new_pats), axis=0)\n",
    "                else:\n",
    "                    layer[\"x\"] = new_pats\n",
    "                if \"z\" in layer:\n",
    "                    layer[\"z\"] = np.concatenate((layer[\"z\"], new_z), axis=0)\n",
    "                else:\n",
    "                    layer[\"z\"] = new_z\n",
    "            # Take the correlation between the latent variable and all other original data variables,\n",
    "            # we'll call this the latent variable's \"fingerprint\" or \"spectrum\" and we want to compare the different latent vars\n",
    "            for j, real_varname in enumerate(names):\n",
    "                #print(latent_vars[latent_name]['x'])\n",
    "                #print (np.corrcoef(latent_vars[latent_name]['z'], latent_vars[latent_name]['x']))\n",
    "                latent_var_spectra[latent_name][j] = np.corrcoef(latent_vars[latent_name]['z'],\\\n",
    "                                                                 latent_vars[latent_name]['x'][:, j])[0, 1]\n",
    "        distrs.append(latent_vars)\n",
    "        distrs_spectra.append(latent_var_spectra)\n",
    "    return distrs, distrs_spectra"
   ]
  },
  {
   "cell_type": "markdown",
   "metadata": {},
   "source": [
    "## Plot GMVAE latent outputs, Relate inferred latent variables z & clusters y back to inputs x"
   ]
  },
  {
   "cell_type": "code",
   "execution_count": 28,
   "metadata": {},
   "outputs": [
    {
     "name": "stdout",
     "output_type": "stream",
     "text": [
      "graph written\n",
      "init\n",
      "    tr_ent,   tr_loss,     t_ent,    t_loss,     t_acc,     epoch                                   \n",
      " -6.51e-01,  2.72e+00,  6.45e-01,  2.85e+00,  1.00e+00\n",
      "model trained\n"
     ]
    }
   ],
   "source": [
    "from gmvae_model import GMVAE\n",
    "from utils import *\n",
    "plot = True\n",
    "k = 2\n",
    "n_x = X.shape[1]\n",
    "n_z = 5\n",
    "n_epochs=50\n",
    "model = GMVAE(k=k, n_x=n_x, n_z=n_z)\n",
    "saver = tf.train.Saver(keep_checkpoint_every_n_hours=4)\n",
    "with tf.Session() as sess:\n",
    "    sess.run(tf.global_variables_initializer())\n",
    "    # TRAINING\n",
    "    sess_info = (sess, saver)\n",
    "    print(\"init\")\n",
    "    # For some reason we can't save when running on jupyter notebook, hence the last parameter\n",
    "    # When we want to save our parameters, maybe just run a python script from a terminal instead?\n",
    "    history = model.train('logs/gmvae_k={:d}.log'.format(k), dataset, sess_info, epochs=n_epochs, save_parameters = False)\n",
    "    print(\"model trained\")\n",
    "    distrs, distrs_spectra = get_corcoeffs(X, k, sess, model)\n",
    "    if (plot):\n",
    "        plot_z(sess, X.as_matrix(), Y.as_matrix(), model, k, n_z)\n",
    "        plot_gmvae_output(sess, X.as_matrix(), Y.as_matrix(), model, k)\n",
    "    n = 3\n"
   ]
  },
  {
   "cell_type": "code",
   "execution_count": 29,
   "metadata": {},
   "outputs": [
    {
     "name": "stdout",
     "output_type": "stream",
     "text": [
      "distribution  0\n",
      "\n",
      "Top 3 associated variables for Latent Variable z0:\n",
      "('meanPTT', -0.6365174152932204)\n",
      "('meanPotassium', -0.6346713683376343)\n",
      "('meanSodium', -0.6295608754672155)\n",
      "\n",
      "Top 3 associated variables for Latent Variable z1:\n",
      "('meanGlucose', 0.7026325353050874)\n",
      "('meanPTT', -0.6997845564049087)\n",
      "('meanPotassium', -0.6973139591624026)\n",
      "\n",
      "Top 3 associated variables for Latent Variable z2:\n",
      "('meanHematocrit', 0.9561334018422594)\n",
      "('meanINR', -0.9557758496722378)\n",
      "('meanChloride', 0.9550139907042491)\n",
      "\n",
      "Top 3 associated variables for Latent Variable z3:\n",
      "('meanGlucose', -0.9748765435426009)\n",
      "('meanHematocrit', -0.876325371966747)\n",
      "('meanPTT', 0.8749838603312533)\n",
      "\n",
      "Top 3 associated variables for Latent Variable z4:\n",
      "('meanHematocrit', -0.9985760818434186)\n",
      "('meanINR', 0.9981914915763805)\n",
      "('meanChloride', -0.9974612371740327)\n",
      "distribution  1\n",
      "\n",
      "Top 3 associated variables for Latent Variable z0:\n",
      "('meanHematocrit', 0.9976701202576136)\n",
      "('meanINR', -0.9962945600807837)\n",
      "('meanGlucose', 0.9932698551169178)\n",
      "\n",
      "Top 3 associated variables for Latent Variable z1:\n",
      "('meanWBC', 0.967660142038542)\n",
      "('meanSysBP', -0.9676601414763919)\n",
      "('meanGlucose', 0.9676601410666555)\n",
      "\n",
      "Top 3 associated variables for Latent Variable z2:\n",
      "('meanRR', 0.9196489317006508)\n",
      "('meanSysBP', -0.9196489296143187)\n",
      "('meanPTT', -0.9196489282340184)\n",
      "\n",
      "Top 3 associated variables for Latent Variable z3:\n",
      "('meanRR', -0.9999999999999972)\n",
      "('meanPaCO2', 0.9999999999999852)\n",
      "('meanPTT', 0.99999999999998)\n",
      "\n",
      "Top 3 associated variables for Latent Variable z4:\n",
      "('meanHematocrit', -0.9985760818434186)\n",
      "('meanINR', 0.9981914915763805)\n",
      "('meanChloride', -0.9974612371740327)\n"
     ]
    }
   ],
   "source": [
    "names = list(X.columns)\n",
    "for y, latent_var_spectra in enumerate(distrs_spectra):\n",
    "    print (\"distribution \",y)\n",
    "    for i in range(n_z):\n",
    "        latent_name = \"z\" + str(i)\n",
    "        print('\\nTop {} associated variables for Latent Variable {}:'.format(n, latent_name))\n",
    "        top_n_associated_indxs = np.argsort(np.abs(latent_var_spectra[latent_name]))[::-1][:n]\n",
    "        for association in zip(np.array(names)[top_n_associated_indxs], \n",
    "                               latent_var_spectra[latent_name][top_n_associated_indxs]):\n",
    "            print(association)"
   ]
  },
  {
   "cell_type": "markdown",
   "metadata": {},
   "source": [
    "## Plot spectra for each y"
   ]
  },
  {
   "cell_type": "code",
   "execution_count": 30,
   "metadata": {},
   "outputs": [
    {
     "data": {
      "image/png": "[encoded data removed]",
      "text/plain": [
       "<matplotlib.figure.Figure at 0x7fbb826c9390>"
      ]
     },
     "metadata": {},
     "output_type": "display_data"
    },
    {
     "data": {
      "image/png": "[encoded data removed]",
      "text/plain": [
       "<matplotlib.figure.Figure at 0x7fbbb4610860>"
      ]
     },
     "metadata": {},
     "output_type": "display_data"
    }
   ],
   "source": [
    "for y, latent_var_spectra in enumerate(distrs_spectra):\n",
    "    for i in range(n_z):  # For each latent variable...\n",
    "        plt.plot(latent_var_spectra[\"z\" + str(i)], label=\"z\" + str(i))\n",
    "    plt.xlabel('Original Variable Index')\n",
    "    plt.ylabel('Correlation with Latent Variable')\n",
    "    plt.title('Latent Variable Correlations')\n",
    "    plt.legend(loc='upper right')\n",
    "    plt.show()"
   ]
  },
  {
   "cell_type": "code",
   "execution_count": null,
   "metadata": {},
   "outputs": [],
   "source": []
  },
  {
   "cell_type": "code",
   "execution_count": null,
   "metadata": {},
   "outputs": [],
   "source": []
  }
 ],
 "metadata": {
  "anaconda-cloud": {},
  "kernelspec": {
   "display_name": "Python 3",
   "language": "python",
   "name": "python3"
  },
  "language_info": {
   "codemirror_mode": {
    "name": "ipython",
    "version": 3
   },
   "file_extension": ".py",
   "mimetype": "text/x-python",
   "name": "python",
   "nbconvert_exporter": "python",
   "pygments_lexer": "ipython3",
   "version": "3.6.3"
  }
 },
 "nbformat": 4,
 "nbformat_minor": 2
}
