{
 "cells": [
  {
   "cell_type": "code",
   "execution_count": 1,
   "metadata": {},
   "outputs": [
    {
     "name": "stderr",
     "output_type": "stream",
     "text": [
      "/usr/local/lib/python3.6/site-packages/h5py/__init__.py:36: FutureWarning: Conversion of the second argument of issubdtype from `float` to `np.floating` is deprecated. In future, it will be treated as `np.float64 == np.dtype(float).type`.\n",
      "  from ._conv import register_converters as _register_converters\n"
     ]
    }
   ],
   "source": [
    "import tensorflow as tf\n",
    "import numpy as np\n",
    "from sklearn.metrics import calinski_harabaz_score\n",
    "from sklearn.decomposition import PCA\n",
    "from sklearn.mixture import GaussianMixture\n",
    "import sys\n",
    "from gmvae_model import GMVAE\n",
    "from utils import *"
   ]
  },
  {
   "cell_type": "code",
   "execution_count": 2,
   "metadata": {},
   "outputs": [],
   "source": [
    "k = 2\n",
    "n_x = 10\n",
    "n_z = 2"
   ]
  },
  {
   "cell_type": "markdown",
   "metadata": {},
   "source": [
    "# Load dataset"
   ]
  },
  {
   "cell_type": "code",
   "execution_count": 3,
   "metadata": {},
   "outputs": [
    {
     "name": "stdout",
     "output_type": "stream",
     "text": [
      "(1350, 10)\n"
     ]
    }
   ],
   "source": [
    "true_clusters = 3\n",
    "dataset = load_and_mix_data('generated_from_cluster',true_clusters,True)\n",
    "print(dataset.train.data.shape)"
   ]
  },
  {
   "cell_type": "markdown",
   "metadata": {},
   "source": [
    "# Create model"
   ]
  },
  {
   "cell_type": "code",
   "execution_count": 4,
   "metadata": {},
   "outputs": [
    {
     "name": "stdout",
     "output_type": "stream",
     "text": [
      "graph written\n"
     ]
    }
   ],
   "source": [
    "model = GMVAE(k=k, n_x=n_x, n_z=n_z)"
   ]
  },
  {
   "cell_type": "code",
   "execution_count": 5,
   "metadata": {},
   "outputs": [],
   "source": [
    "def sample_z(sess, X, model, multiplier, k, n_z):\n",
    "    '''\n",
    "        Given examples data, computes their latent variables\n",
    "    '''\n",
    "    M = len(X)\n",
    "    all_z = np.zeros((M*multiplier, k, n_z))\n",
    "    for i in range(k):\n",
    "        for j in range(multiplier):\n",
    "            all_z[M*j:M*(j+1), i] = sess.run(model.z[i],\n",
    "                                    feed_dict={'x:0': X})\n",
    "\n",
    "    qy = sess.run(model.qy, feed_dict={'x:0': X})\n",
    "    category = qy.argmax(axis=1)\n",
    "    category = np.concatenate([category for j in range(multiplier)])\n",
    "    y_pred = one_hot(category, depth=k).astype(bool)\n",
    "\n",
    "    z = all_z[y_pred]\n",
    "    return z, category"
   ]
  },
  {
   "cell_type": "code",
   "execution_count": 6,
   "metadata": {},
   "outputs": [],
   "source": [
    "def pca(X, n_z):\n",
    "    pca_solver = PCA(n_components = n_z)\n",
    "    x = pca_solver.fit_transform(X)\n",
    "    return x"
   ]
  },
  {
   "cell_type": "code",
   "execution_count": 7,
   "metadata": {},
   "outputs": [],
   "source": [
    "def gm(X, k):\n",
    "    gm_solver = GaussianMixture(n_components = k)\n",
    "    gm_solver.fit(X)\n",
    "    labels = gm_solver.predict(X)\n",
    "    return labels"
   ]
  },
  {
   "cell_type": "code",
   "execution_count": 8,
   "metadata": {},
   "outputs": [],
   "source": [
    "def perform_pca_and_cluster(X, k, n_z):\n",
    "    X_reducted = pca(X, n_z)\n",
    "    X_labels = gm(X_reducted, k)\n",
    "    return X_reducted, X_labels"
   ]
  },
  {
   "cell_type": "code",
   "execution_count": 9,
   "metadata": {},
   "outputs": [],
   "source": [
    "def compute_pairwise_stability(sess, model, X, k, n_z):\n",
    "    X_reducted, X_labels = perform_pca_and_cluster(X, k, n_z)\n",
    "    z, category = sample_z(sess,\n",
    "                           X,\n",
    "                           model,\n",
    "                           multiplier = 1, \n",
    "                           k = k, \n",
    "                           n_z = n_z)\n",
    "    total_pairs = 0\n",
    "    stable_pairs = 0\n",
    "    for i in range(len(category)):\n",
    "        for j in range(i,len(category)):\n",
    "            if category[i] == category[j]:\n",
    "                total_pairs += 1\n",
    "                if X_labels[i] == X_labels[j]:\n",
    "                    stable_pairs += 1\n",
    "    return 1.*stable_pairs/total_pairs"
   ]
  },
  {
   "cell_type": "code",
   "execution_count": 10,
   "metadata": {},
   "outputs": [],
   "source": [
    "def sample_and_compute_calinski_harabaz(sess, X, model, multiplier, k, n_z):\n",
    "    z, categories = sample_z(sess,\n",
    "                           X,\n",
    "                           model,\n",
    "                           multiplier,\n",
    "                           k,\n",
    "                           n_z)\n",
    "    if np.unique(categories).shape[0] == 1:\n",
    "        print('All variables assigned to one cluster! Returning a score of 0.')\n",
    "        return 0\n",
    "    return calinski_harabaz_score(z,categories)"
   ]
  },
  {
   "cell_type": "code",
   "execution_count": 11,
   "metadata": {},
   "outputs": [
    {
     "name": "stdout",
     "output_type": "stream",
     "text": [
      "graph written\n",
      "    tr_ent,   tr_loss,     t_ent,    t_loss,     t_acc,     epoch                                   \n",
      "  6.88e-01,  1.85e+00,  6.88e-01,  1.77e+00,  3.67e-01,         1\n"
     ]
    },
    {
     "ename": "TypeError",
     "evalue": "'NoneType' object is not subscriptable",
     "output_type": "error",
     "traceback": [
      "\u001b[0;31m---------------------------------------------------------------------------\u001b[0m",
      "\u001b[0;31mTypeError\u001b[0m                                 Traceback (most recent call last)",
      "\u001b[0;32m<ipython-input-11-e329eca8205e>\u001b[0m in \u001b[0;36m<module>\u001b[0;34m()\u001b[0m\n\u001b[1;32m      9\u001b[0m         \u001b[0msess_info\u001b[0m \u001b[0;34m=\u001b[0m \u001b[0;34m(\u001b[0m\u001b[0msess\u001b[0m\u001b[0;34m,\u001b[0m \u001b[0msaver\u001b[0m\u001b[0;34m)\u001b[0m\u001b[0;34m\u001b[0m\u001b[0m\n\u001b[1;32m     10\u001b[0m         \u001b[0;31m# For some reason we can't save when running on jupyter notebook\u001b[0m\u001b[0;34m\u001b[0m\u001b[0;34m\u001b[0m\u001b[0m\n\u001b[0;32m---> 11\u001b[0;31m         \u001b[0mhistory\u001b[0m \u001b[0;34m=\u001b[0m \u001b[0mmodel\u001b[0m\u001b[0;34m.\u001b[0m\u001b[0mtrain\u001b[0m\u001b[0;34m(\u001b[0m\u001b[0;34m'logs/gmvae_k={:d}.log'\u001b[0m\u001b[0;34m.\u001b[0m\u001b[0mformat\u001b[0m\u001b[0;34m(\u001b[0m\u001b[0mk\u001b[0m\u001b[0;34m)\u001b[0m\u001b[0;34m,\u001b[0m \u001b[0mdataset\u001b[0m\u001b[0;34m,\u001b[0m \u001b[0msess_info\u001b[0m\u001b[0;34m,\u001b[0m \u001b[0mepochs\u001b[0m\u001b[0;34m=\u001b[0m\u001b[0;36m10\u001b[0m\u001b[0;34m,\u001b[0m \u001b[0msave_parameters\u001b[0m \u001b[0;34m=\u001b[0m \u001b[0;32mFalse\u001b[0m\u001b[0;34m)\u001b[0m\u001b[0;34m\u001b[0m\u001b[0m\n\u001b[0m\u001b[1;32m     12\u001b[0m \u001b[0;34m\u001b[0m\u001b[0m\n\u001b[1;32m     13\u001b[0m         \u001b[0mmultiplier\u001b[0m \u001b[0;34m=\u001b[0m \u001b[0;36m10\u001b[0m \u001b[0;31m# How many z:s we sample from one data point\u001b[0m\u001b[0;34m\u001b[0m\u001b[0m\n",
      "\u001b[0;32m~/Desktop/CS230/project_folder/cs230_project/GMVAE_Experiments/gmvae_model.py\u001b[0m in \u001b[0;36mtrain\u001b[0;34m(self, fname, dataset, sess_info, epochs, save_parameters)\u001b[0m\n\u001b[1;32m     85\u001b[0m                 \u001b[0mstream_print\u001b[0m\u001b[0;34m(\u001b[0m\u001b[0mf\u001b[0m\u001b[0;34m,\u001b[0m \u001b[0mstring\u001b[0m\u001b[0;34m)\u001b[0m\u001b[0;34m\u001b[0m\u001b[0m\n\u001b[1;32m     86\u001b[0m \u001b[0;34m\u001b[0m\u001b[0m\n\u001b[0;32m---> 87\u001b[0;31m                 \u001b[0mhistory\u001b[0m\u001b[0;34m[\u001b[0m\u001b[0;34m'iters'\u001b[0m\u001b[0;34m]\u001b[0m\u001b[0;34m.\u001b[0m\u001b[0mappend\u001b[0m\u001b[0;34m(\u001b[0m\u001b[0mint\u001b[0m\u001b[0;34m(\u001b[0m\u001b[0;34m(\u001b[0m\u001b[0mi\u001b[0m \u001b[0;34m+\u001b[0m \u001b[0;36m1\u001b[0m\u001b[0;34m)\u001b[0m \u001b[0;34m/\u001b[0m \u001b[0miterep\u001b[0m\u001b[0;34m)\u001b[0m\u001b[0;34m)\u001b[0m\u001b[0;34m\u001b[0m\u001b[0m\n\u001b[0m\u001b[1;32m     88\u001b[0m                 \u001b[0mhistory\u001b[0m\u001b[0;34m[\u001b[0m\u001b[0;34m'ent'\u001b[0m\u001b[0;34m]\u001b[0m\u001b[0;34m.\u001b[0m\u001b[0mappend\u001b[0m\u001b[0;34m(\u001b[0m\u001b[0ma\u001b[0m\u001b[0;34m)\u001b[0m\u001b[0;34m\u001b[0m\u001b[0m\n\u001b[1;32m     89\u001b[0m                 \u001b[0mhistory\u001b[0m\u001b[0;34m[\u001b[0m\u001b[0;34m'val_ent'\u001b[0m\u001b[0;34m]\u001b[0m\u001b[0;34m.\u001b[0m\u001b[0mappend\u001b[0m\u001b[0;34m(\u001b[0m\u001b[0mc\u001b[0m\u001b[0;34m)\u001b[0m\u001b[0;34m\u001b[0m\u001b[0m\n",
      "\u001b[0;31mTypeError\u001b[0m: 'NoneType' object is not subscriptable"
     ]
    }
   ],
   "source": [
    "saver = tf.train.Saver(keep_checkpoint_every_n_hours=4)\n",
    "CH_scores = []\n",
    "stability_scores = []\n",
    "for k in range(2,10):\n",
    "    model = GMVAE(k=k, n_x=n_x, n_z=n_z)\n",
    "    with tf.Session() as sess:\n",
    "        sess.run(tf.global_variables_initializer())\n",
    "        # TRAINING\n",
    "        sess_info = (sess, saver)\n",
    "        # For some reason we can't save when running on jupyter notebook\n",
    "        history = model.train('logs/gmvae_k={:d}.log'.format(k), dataset, sess_info, epochs=10, save_parameters = False)\n",
    "\n",
    "        multiplier = 10 # How many z:s we sample from one data point\n",
    "        CH = sample_and_compute_calinski_harabaz(sess,\n",
    "                               dataset.test.data,\n",
    "                               model,\n",
    "                               multiplier,\n",
    "                               k,\n",
    "                               n_z)\n",
    "        CH_scores.append(CH)\n",
    "        stability_score = compute_pairwise_stability(sess, model, dataset.test.data, k, n_z)\n",
    "        stability_scores.append(stability_score)\n",
    "        \n",
    "print(CH_scores)\n",
    "print(stability_scores)"
   ]
  }
 ],
 "metadata": {
  "anaconda-cloud": {},
  "kernelspec": {
   "display_name": "Python 3",
   "language": "python",
   "name": "python3"
  },
  "language_info": {
   "codemirror_mode": {
    "name": "ipython",
    "version": 3
   },
   "file_extension": ".py",
   "mimetype": "text/x-python",
   "name": "python",
   "nbconvert_exporter": "python",
   "pygments_lexer": "ipython3",
   "version": "3.6.4"
  }
 },
 "nbformat": 4,
 "nbformat_minor": 2
}
