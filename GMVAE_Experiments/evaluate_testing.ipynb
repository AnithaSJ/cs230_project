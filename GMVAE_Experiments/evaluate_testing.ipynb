{
 "cells": [
  {
   "cell_type": "code",
   "execution_count": 1,
   "metadata": {},
   "outputs": [
    {
     "name": "stderr",
     "output_type": "stream",
     "text": [
      "/usr/local/lib/python3.6/site-packages/h5py/__init__.py:36: FutureWarning: Conversion of the second argument of issubdtype from `float` to `np.floating` is deprecated. In future, it will be treated as `np.float64 == np.dtype(float).type`.\n",
      "  from ._conv import register_converters as _register_converters\n"
     ]
    }
   ],
   "source": [
    "import tensorflow as tf\n",
    "import numpy as np\n",
    "from sklearn.metrics import calinski_harabaz_score\n",
    "from sklearn.decomposition import PCA\n",
    "from sklearn.mixture import GaussianMixture\n",
    "import sys\n",
    "from gmvae_model import GMVAE\n",
    "from utils import *"
   ]
  },
  {
   "cell_type": "code",
   "execution_count": 2,
   "metadata": {},
   "outputs": [],
   "source": [
    "k = 2\n",
    "n_x = 10\n",
    "n_z = 2"
   ]
  },
  {
   "cell_type": "markdown",
   "metadata": {},
   "source": [
    "# Load dataset"
   ]
  },
  {
   "cell_type": "code",
   "execution_count": 3,
   "metadata": {},
   "outputs": [
    {
     "name": "stdout",
     "output_type": "stream",
     "text": [
      "(1350, 10)\n"
     ]
    }
   ],
   "source": [
    "true_clusters = 3\n",
    "dataset = load_and_mix_data('generated_from_cluster',true_clusters,True)\n",
    "print(dataset.train.data.shape)"
   ]
  },
  {
   "cell_type": "markdown",
   "metadata": {},
   "source": [
    "# Create model"
   ]
  },
  {
   "cell_type": "code",
   "execution_count": 4,
   "metadata": {},
   "outputs": [
    {
     "name": "stdout",
     "output_type": "stream",
     "text": [
      "graph written\n"
     ]
    }
   ],
   "source": [
    "model = GMVAE(k=k, n_x=n_x, n_z=n_z)"
   ]
  },
  {
   "cell_type": "code",
   "execution_count": 5,
   "metadata": {},
   "outputs": [],
   "source": [
    "def sample_z(sess, X, model, multiplier, k, n_z):\n",
    "    '''\n",
    "        Given examples data, computes their latent variables\n",
    "    '''\n",
    "    M = len(X)\n",
    "    all_z = np.zeros((M*multiplier, k, n_z))\n",
    "    for i in range(k):\n",
    "        for j in range(multiplier):\n",
    "            all_z[M*j:M*(j+1), i] = sess.run(model.z[i],\n",
    "                                    feed_dict={'x:0': X})\n",
    "\n",
    "    qy = sess.run(model.qy, feed_dict={'x:0': X})\n",
    "    category = qy.argmax(axis=1)\n",
    "    category = np.concatenate([category for j in range(multiplier)])\n",
    "    y_pred = one_hot(category, depth=k).astype(bool)\n",
    "\n",
    "    z = all_z[y_pred]\n",
    "    return z, category"
   ]
  },
  {
   "cell_type": "code",
   "execution_count": 6,
   "metadata": {},
   "outputs": [],
   "source": [
    "def pca(X, n_z):\n",
    "    pca_solver = PCA(n_components = n_z)\n",
    "    x = pca_solver.fit_transform(X)\n",
    "    return x"
   ]
  },
  {
   "cell_type": "code",
   "execution_count": 7,
   "metadata": {},
   "outputs": [],
   "source": [
    "def gm(X, k):\n",
    "    gm_solver = GaussianMixture(n_components = k)\n",
    "    gm_solver.fit(X)\n",
    "    labels = gm_solver.predict(X)\n",
    "    return labels"
   ]
  },
  {
   "cell_type": "code",
   "execution_count": 8,
   "metadata": {},
   "outputs": [],
   "source": [
    "def perform_pca_and_cluster(X, k, n_z):\n",
    "    X_reducted = pca(X, n_z)\n",
    "    X_labels = gm(X_reducted, k)\n",
    "    return X_reducted, X_labels"
   ]
  },
  {
   "cell_type": "code",
   "execution_count": 9,
   "metadata": {},
   "outputs": [],
   "source": [
    "def compute_pairwise_stability(sess, model, X, k, n_z):\n",
    "    X_reducted, X_labels = perform_pca_and_cluster(X, k, n_z)\n",
    "    z, category = sample_z(sess,\n",
    "                           X,\n",
    "                           model,\n",
    "                           multiplier = 1, \n",
    "                           k = k, \n",
    "                           n_z = n_z)\n",
    "    total_pairs = 0\n",
    "    stable_pairs = 0\n",
    "    for i in range(len(category)):\n",
    "        for j in range(i,len(category)):\n",
    "            if category[i] == category[j]:\n",
    "                total_pairs += 1\n",
    "                if X_labels[i] == X_labels[j]:\n",
    "                    stable_pairs += 1\n",
    "    return 1.*stable_pairs/total_pairs"
   ]
  },
  {
   "cell_type": "code",
   "execution_count": 122,
   "metadata": {},
   "outputs": [],
   "source": [
    "def sample_and_compute_calinski_harabaz(sess, X, model, multiplier, k, n_z):\n",
    "    z, categories = sample_z(sess,\n",
    "                           X,\n",
    "                           model,\n",
    "                           multiplier,\n",
    "                           k,\n",
    "                           n_z)\n",
    "    if np.unique(categories).shape[0] == 1:\n",
    "        print('All variables assigned to one cluster! Returning a score of 0.')\n",
    "        return np.zeros(multiplier)\n",
    "    output = np.zeros(multiplier)\n",
    "    M = X.shape[0]\n",
    "    for i in range(multiplier):\n",
    "        output[i] = calinski_harabaz_score(z[M*i:M*(i+1)], categories[M*i:M*(i+1)])\n",
    "    return output\n",
    "    return calinski_harabaz_score(z,categories)"
   ]
  },
  {
   "cell_type": "code",
   "execution_count": 129,
   "metadata": {},
   "outputs": [
    {
     "name": "stdout",
     "output_type": "stream",
     "text": [
      "graph written\n",
      "    tr_ent,   tr_loss,     t_ent,    t_loss,     t_acc,     epoch                                   \n",
      "  6.93e-01,  1.82e+00,  6.93e-01,  1.85e+00,  5.60e-01,         1\n",
      "    tr_ent,   tr_loss,     t_ent,    t_loss,     t_acc,     epoch                                   \n",
      "  6.93e-01,  1.81e+00,  6.93e-01,  1.77e+00,  4.07e-01,         2\n",
      "    tr_ent,   tr_loss,     t_ent,    t_loss,     t_acc,     epoch                                   \n",
      "  6.93e-01,  1.79e+00,  6.93e-01,  1.77e+00,  3.87e-01,         3\n",
      "graph written\n",
      "    tr_ent,   tr_loss,     t_ent,    t_loss,     t_acc,     epoch                                   \n",
      "  1.10e+00,  1.40e+00,  1.10e+00,  1.39e+00,  3.80e-01,         1\n",
      "    tr_ent,   tr_loss,     t_ent,    t_loss,     t_acc,     epoch                                   \n",
      "  1.10e+00,  1.46e+00,  1.10e+00,  1.36e+00,  3.53e-01,         2\n",
      "    tr_ent,   tr_loss,     t_ent,    t_loss,     t_acc,     epoch                                   \n",
      "  1.10e+00,  1.43e+00,  1.10e+00,  1.36e+00,  3.53e-01,         3\n",
      "All variables assigned to one cluster! Returning a score of 0.\n",
      "graph written\n",
      "    tr_ent,   tr_loss,     t_ent,    t_loss,     t_acc,     epoch                                   \n",
      "  1.39e+00,  1.12e+00,  1.39e+00,  1.09e+00,  4.80e-01,         1\n",
      "    tr_ent,   tr_loss,     t_ent,    t_loss,     t_acc,     epoch                                   \n",
      "  1.39e+00,  1.11e+00,  1.39e+00,  1.08e+00,  4.20e-01,         2\n",
      "    tr_ent,   tr_loss,     t_ent,    t_loss,     t_acc,     epoch                                   \n",
      "  1.39e+00,  1.09e+00,  1.39e+00,  1.07e+00,  3.80e-01,         3\n",
      "graph written\n",
      "    tr_ent,   tr_loss,     t_ent,    t_loss,     t_acc,     epoch                                   \n",
      "  1.60e+00,  9.73e-01,  1.60e+00,  8.94e-01,  5.73e-01,         1\n",
      "    tr_ent,   tr_loss,     t_ent,    t_loss,     t_acc,     epoch                                   \n",
      "  1.61e+00,  9.13e-01,  1.61e+00,  8.58e-01,  5.20e-01,         2\n",
      "    tr_ent,   tr_loss,     t_ent,    t_loss,     t_acc,     epoch                                   \n",
      "  1.61e+00,  8.98e-01,  1.61e+00,  8.49e-01,  5.27e-01,         3\n",
      "graph written\n",
      "    tr_ent,   tr_loss,     t_ent,    t_loss,     t_acc,     epoch                                   \n",
      "  1.79e+00,  7.18e-01,  1.79e+00,  6.84e-01,  3.67e-01,         1\n",
      "    tr_ent,   tr_loss,     t_ent,    t_loss,     t_acc,     epoch                                   \n",
      "  1.79e+00,  6.63e-01,  1.79e+00,  6.71e-01,  3.53e-01,         2\n",
      "    tr_ent,   tr_loss,     t_ent,    t_loss,     t_acc,     epoch                                   \n",
      "  1.79e+00,  7.72e-01,  1.79e+00,  6.67e-01,  3.53e-01,         3\n",
      "All variables assigned to one cluster! Returning a score of 0.\n",
      "graph written\n",
      "    tr_ent,   tr_loss,     t_ent,    t_loss,     t_acc,     epoch                                   \n",
      "  1.95e+00,  6.23e-01,  1.95e+00,  5.35e-01,  4.47e-01,         1\n",
      "    tr_ent,   tr_loss,     t_ent,    t_loss,     t_acc,     epoch                                   \n",
      "  1.95e+00,  5.50e-01,  1.95e+00,  5.14e-01,  4.13e-01,         2\n",
      "    tr_ent,   tr_loss,     t_ent,    t_loss,     t_acc,     epoch                                   \n",
      "  1.95e+00,  5.96e-01,  1.95e+00,  5.12e-01,  3.93e-01,         3\n",
      "graph written\n",
      "    tr_ent,   tr_loss,     t_ent,    t_loss,     t_acc,     epoch                                   \n",
      "  2.07e+00,  4.60e-01,  2.07e+00,  4.22e-01,  6.47e-01,         1\n",
      "    tr_ent,   tr_loss,     t_ent,    t_loss,     t_acc,     epoch                                   \n",
      "  2.08e+00,  4.00e-01,  2.08e+00,  3.83e-01,  6.33e-01,         2\n",
      "    tr_ent,   tr_loss,     t_ent,    t_loss,     t_acc,     epoch                                   \n",
      "  2.08e+00,  4.37e-01,  2.08e+00,  3.80e-01,  4.40e-01,         3\n",
      "graph written\n",
      "    tr_ent,   tr_loss,     t_ent,    t_loss,     t_acc,     epoch                                   \n",
      "  2.20e+00,  3.56e-01,  2.20e+00,  2.73e-01,  5.53e-01,         1\n",
      "    tr_ent,   tr_loss,     t_ent,    t_loss,     t_acc,     epoch                                   \n",
      "  2.20e+00,  2.71e-01,  2.20e+00,  2.63e-01,  4.40e-01,         2\n",
      "    tr_ent,   tr_loss,     t_ent,    t_loss,     t_acc,     epoch                                   \n",
      "  2.20e+00,  2.61e-01,  2.20e+00,  2.61e-01,  4.07e-01,         3\n",
      "[array([ 4.95366029,  5.11139741, 12.5103725 , 16.7404106 , 18.39630899,\n",
      "        3.75192801,  0.53080733,  3.77443745,  6.58943691, 20.16728486]), array([0., 0., 0., 0., 0., 0., 0., 0., 0., 0.]), array([4.3657082 , 6.02783487, 2.66586387, 3.27930416, 1.64452276,\n",
      "       1.34432283, 3.40797497, 1.58460236, 1.70201072, 3.80146114]), array([6.51823445, 6.39327593, 5.15415354, 1.89249609, 4.6398718 ,\n",
      "       2.81766876, 7.50745211, 3.33079163, 4.29898112, 9.36897035]), array([0., 0., 0., 0., 0., 0., 0., 0., 0., 0.]), array([2.06730526, 2.50401257, 0.47566292, 1.29760192, 1.93532792,\n",
      "       0.50433145, 0.57186214, 3.94446009, 0.89522964, 0.78738753]), array([1.58607002, 1.45297109, 1.3799048 , 1.18957215, 0.76669707,\n",
      "       1.46499266, 1.31430519, 3.84731225, 0.5616601 , 0.91801224]), array([1.5549035 , 0.37229225, 0.79744172, 2.39623707, 2.94440075,\n",
      "       0.90774151, 1.04405088, 1.37614875, 2.48095375, 2.78080944])]\n",
      "[0.5298113207547169, 0.4596909492273731, 0.46951583980872685, 0.6872605363984674, 0.4093598233995585, 0.4373404046356315, 0.4943105756358768, 0.4185177904462355]\n",
      "[array([ 4.95366029,  5.11139741, 12.5103725 , 16.7404106 , 18.39630899,\n",
      "        3.75192801,  0.53080733,  3.77443745,  6.58943691, 20.16728486]), array([0., 0., 0., 0., 0., 0., 0., 0., 0., 0.]), array([4.3657082 , 6.02783487, 2.66586387, 3.27930416, 1.64452276,\n",
      "       1.34432283, 3.40797497, 1.58460236, 1.70201072, 3.80146114]), array([6.51823445, 6.39327593, 5.15415354, 1.89249609, 4.6398718 ,\n",
      "       2.81766876, 7.50745211, 3.33079163, 4.29898112, 9.36897035]), array([0., 0., 0., 0., 0., 0., 0., 0., 0., 0.]), array([2.06730526, 2.50401257, 0.47566292, 1.29760192, 1.93532792,\n",
      "       0.50433145, 0.57186214, 3.94446009, 0.89522964, 0.78738753]), array([1.58607002, 1.45297109, 1.3799048 , 1.18957215, 0.76669707,\n",
      "       1.46499266, 1.31430519, 3.84731225, 0.5616601 , 0.91801224]), array([1.5549035 , 0.37229225, 0.79744172, 2.39623707, 2.94440075,\n",
      "       0.90774151, 1.04405088, 1.37614875, 2.48095375, 2.78080944])]\n"
     ]
    },
    {
     "data": {
      "image/png": "[encoded data removed]",
      "text/plain": [
       "<matplotlib.figure.Figure at 0x127d6df28>"
      ]
     },
     "metadata": {},
     "output_type": "display_data"
    }
   ],
   "source": [
    "saver = tf.train.Saver(keep_checkpoint_every_n_hours=4)\n",
    "CH_scores = []\n",
    "stability_scores = []\n",
    "clusters = range(2,10)\n",
    "for k in clusters:\n",
    "    model = GMVAE(k=k, n_x=n_x, n_z=n_z)\n",
    "    with tf.Session() as sess:\n",
    "        sess.run(tf.global_variables_initializer())\n",
    "        # TRAINING\n",
    "        sess_info = (sess, saver)\n",
    "        # For some reason we can't save when running on jupyter notebook\n",
    "        history = model.train('logs/gmvae_k={:d}.log'.format(k), dataset, sess_info, epochs=3, save_parameters = False)\n",
    "\n",
    "        multiplier = 10 # How many z:s we sample from one data point\n",
    "        CH = sample_and_compute_calinski_harabaz(sess,\n",
    "                               dataset.test.data,\n",
    "                               model,\n",
    "                               multiplier,\n",
    "                               k,\n",
    "                               n_z)\n",
    "        CH_scores.append(CH)\n",
    "        stability_score = compute_pairwise_stability(sess, model, dataset.test.data, k, n_z)\n",
    "        stability_scores.append(stability_score)\n",
    "        \n",
    "print(CH_scores)\n",
    "print(stability_scores)\n",
    "box_plot(CH_scores, clusters)"
   ]
  },
  {
   "cell_type": "code",
   "execution_count": 131,
   "metadata": {},
   "outputs": [
    {
     "data": {
      "image/png": "[encoded data removed]",
      "text/plain": [
       "<matplotlib.figure.Figure at 0x12837bef0>"
      ]
     },
     "metadata": {},
     "output_type": "display_data"
    }
   ],
   "source": [
    "def box_plot(scores, clusters):\n",
    "    K = len(scores)\n",
    "    plt.figure()\n",
    "    plt.xlabel('Number of clusters')\n",
    "    plt.ylabel('Calinski Harabasz Index')\n",
    "    plt.boxplot(scores, sym = '', positions = clusters)\n",
    "    plt.show()\n",
    "box_plot(CH_scores, clusters)"
   ]
  },
  {
   "cell_type": "code",
   "execution_count": 92,
   "metadata": {},
   "outputs": [
    {
     "name": "stdout",
     "output_type": "stream",
     "text": [
      "(10,)\n",
      "(10,)\n",
      "(10,)\n",
      "(10,)\n"
     ]
    },
    {
     "data": {
      "image/png": "[encoded data removed]",
      "text/plain": [
       "<matplotlib.figure.Figure at 0x12573fba8>"
      ]
     },
     "metadata": {},
     "output_type": "display_data"
    }
   ],
   "source": [
    "import matplotlib.pyplot as plt\n",
    "import numpy as np\n",
    "\n",
    "np.random.seed(1)\n",
    "\n",
    "# fake up some data\n",
    "spread = np.random.rand(10) * 100\n",
    "print(spread.shape)\n",
    "center = np.ones(10) * 50\n",
    "print(center.shape)\n",
    "flier_high = np.random.rand(10) * 100 + 100\n",
    "print(flier_high.shape)\n",
    "flier_low = np.random.rand(10) * -100\n",
    "print(flier_low.shape)\n",
    "data = np.concatenate((spread, center, flier_high, flier_low), 0)\n",
    "\n",
    "# don't show outlier points\n",
    "plt.figure()\n",
    "plt.boxplot([-2,2,3,4,5,11,25,30,50,50],0,'')\n",
    "\n",
    "plt.show()"
   ]
  }
 ],
 "metadata": {
  "anaconda-cloud": {},
  "kernelspec": {
   "display_name": "Python 3",
   "language": "python",
   "name": "python3"
  },
  "language_info": {
   "codemirror_mode": {
    "name": "ipython",
    "version": 3
   },
   "file_extension": ".py",
   "mimetype": "text/x-python",
   "name": "python",
   "nbconvert_exporter": "python",
   "pygments_lexer": "ipython3",
   "version": "3.6.4"
  }
 },
 "nbformat": 4,
 "nbformat_minor": 2
}
