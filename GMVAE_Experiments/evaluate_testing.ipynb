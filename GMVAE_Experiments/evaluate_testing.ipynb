{
 "cells": [
  {
   "cell_type": "code",
   "execution_count": 1,
   "metadata": {},
   "outputs": [
    {
     "name": "stderr",
     "output_type": "stream",
     "text": [
      "/home/ubuntu/anaconda3/lib/python3.6/site-packages/h5py/__init__.py:34: FutureWarning: Conversion of the second argument of issubdtype from `float` to `np.floating` is deprecated. In future, it will be treated as `np.float64 == np.dtype(float).type`.\n",
      "  from ._conv import register_converters as _register_converters\n",
      "/home/ubuntu/anaconda3/lib/python3.6/site-packages/matplotlib/__init__.py:962: UserWarning: Duplicate key in file \"/home/ubuntu/.config/matplotlib/matplotlibrc\", line #2\n",
      "  (fname, cnt))\n",
      "/home/ubuntu/anaconda3/lib/python3.6/site-packages/matplotlib/__init__.py:962: UserWarning: Duplicate key in file \"/home/ubuntu/.config/matplotlib/matplotlibrc\", line #3\n",
      "  (fname, cnt))\n"
     ]
    }
   ],
   "source": [
    "import tensorflow as tf\n",
    "import numpy as np\n",
    "from sklearn.metrics import calinski_harabaz_score\n",
    "from sklearn.decomposition import PCA\n",
    "from sklearn.mixture import GaussianMixture\n",
    "import sys\n",
    "from gmvae_model import GMVAE\n",
    "from utils import *"
   ]
  },
  {
   "cell_type": "code",
   "execution_count": 2,
   "metadata": {},
   "outputs": [],
   "source": [
    "k = 2\n",
    "n_x = 10\n",
    "n_z = 2"
   ]
  },
  {
   "cell_type": "markdown",
   "metadata": {},
   "source": [
    "# Load toy dataset"
   ]
  },
  {
   "cell_type": "code",
   "execution_count": 3,
   "metadata": {},
   "outputs": [
    {
     "name": "stdout",
     "output_type": "stream",
     "text": [
      "(1350, 10)\n"
     ]
    }
   ],
   "source": [
    "true_clusters = 3\n",
    "dataset = load_and_mix_data('generated_from_cluster',true_clusters,True)\n",
    "print(dataset.train.data.shape)"
   ]
  },
  {
   "cell_type": "code",
   "execution_count": 4,
   "metadata": {},
   "outputs": [
    {
     "name": "stdout",
     "output_type": "stream",
     "text": [
      "(150, 3)\n"
     ]
    }
   ],
   "source": [
    "print(dataset.test.labels.shape)"
   ]
  },
  {
   "cell_type": "markdown",
   "metadata": {},
   "source": [
    "# Create model"
   ]
  },
  {
   "cell_type": "code",
   "execution_count": 5,
   "metadata": {},
   "outputs": [
    {
     "name": "stdout",
     "output_type": "stream",
     "text": [
      "graph written\n"
     ]
    }
   ],
   "source": [
    "model = GMVAE(k=k, n_x=n_x, n_z=n_z)"
   ]
  },
  {
   "cell_type": "code",
   "execution_count": 6,
   "metadata": {},
   "outputs": [],
   "source": [
    "def sample_z(sess, X, model, multiplier, k, n_z):\n",
    "    '''\n",
    "        For each datapoint in X, sample its latent representation 'multiplier' times\n",
    "        Returns: z - all latent vectors, ordered in [z1,z2,...,ZM,another z1,another z2,...], \n",
    "                    which makes it easy to divide into 'multiplier' \"batches\"\n",
    "                 category - for each latent vector, an indicator showing which cluster it belongs to\n",
    "    '''\n",
    "    M = len(X)\n",
    "    all_z = np.zeros((M*multiplier, k, n_z))\n",
    "    for i in range(k):\n",
    "        for j in range(multiplier):\n",
    "            all_z[M*j:M*(j+1), i] = sess.run(model.z[i],\n",
    "                                    feed_dict={'x:0': X})\n",
    "\n",
    "    qy = sess.run(model.qy, feed_dict={'x:0': X})\n",
    "    category = qy.argmax(axis=1)\n",
    "    category = np.concatenate([category for j in range(multiplier)])\n",
    "    y_pred = one_hot(category, depth=k).astype(bool)\n",
    "\n",
    "    z = all_z[y_pred]\n",
    "    return z, category"
   ]
  },
  {
   "cell_type": "code",
   "execution_count": 7,
   "metadata": {},
   "outputs": [],
   "source": [
    "def pca(X, n_z):\n",
    "    '''\n",
    "        Performs dimensionality reduction of dataset X, down to n_z dimensions\n",
    "        Returns: x - a reduced dimensionality representation of X\n",
    "    '''\n",
    "    pca_solver = PCA(n_components = n_z)\n",
    "    x = pca_solver.fit_transform(X)\n",
    "    return x"
   ]
  },
  {
   "cell_type": "code",
   "execution_count": 8,
   "metadata": {},
   "outputs": [],
   "source": [
    "def gm(X, k):\n",
    "    '''\n",
    "        Clusters all data points in X into k clusters \n",
    "        Returns: labels - for each data point, an indicator showing which cluster it belongs to\n",
    "    '''\n",
    "    gm_solver = GaussianMixture(n_components = k)\n",
    "    gm_solver.fit(X)\n",
    "    labels = gm_solver.predict(X)\n",
    "    return labels"
   ]
  },
  {
   "cell_type": "code",
   "execution_count": 9,
   "metadata": {},
   "outputs": [],
   "source": [
    "def perform_pca_and_cluster(X, k, n_z):\n",
    "    '''\n",
    "        Performs PCA dimensionality reduction on X and clusters the result into k clusters\n",
    "        Returns: X_reducted - a reduced dimensionality representation of X\n",
    "                 X_labels - for each data point in X_reducted, an indicator showing which cluster it belongs to\n",
    "    '''\n",
    "    X_reducted = pca(X, n_z)\n",
    "    X_labels = gm(X_reducted, k)\n",
    "    return X_reducted, X_labels"
   ]
  },
  {
   "cell_type": "code",
   "execution_count": 10,
   "metadata": {},
   "outputs": [],
   "source": [
    "def compute_pairwise_stability(sess, model, X, k, n_z):\n",
    "    '''\n",
    "        Computes pairwise stability for data set X and the given model\n",
    "        Looking at the clustering achieved by the model, for each pair of data points that are assigned to the same\n",
    "        cluster, see if they also are assigned to the same cluster using PCA + GMM clustering\n",
    "        Returns: Score indicating how close the clustering achieved by the model is to simpler PCA + GMM clustering\n",
    "    '''\n",
    "    X_reducted, X_labels = perform_pca_and_cluster(X, k, n_z)\n",
    "    z, category = sample_z(sess,\n",
    "                           X,\n",
    "                           model,\n",
    "                           multiplier = 1, \n",
    "                           k = k, \n",
    "                           n_z = n_z)\n",
    "    total_pairs = 0\n",
    "    stable_pairs = 0\n",
    "    for i in range(len(category)):\n",
    "        for j in range(i,len(category)):\n",
    "            if category[i] == category[j]:\n",
    "                total_pairs += 1\n",
    "                if X_labels[i] == X_labels[j]:\n",
    "                    stable_pairs += 1\n",
    "    return 1.*stable_pairs/total_pairs"
   ]
  },
  {
   "cell_type": "code",
   "execution_count": 11,
   "metadata": {},
   "outputs": [],
   "source": [
    "def sample_and_compute_calinski_harabaz(sess, X, model, multiplier, k, n_z):\n",
    "    '''\n",
    "        For each datapoint in X, sample its latent representation 'multiplier' times\n",
    "        For each batch of samples ('multiplier' batches), compute the calinski harabasz index\n",
    "        Returns: A list containing the calinski harabasz index for each batch of samples\n",
    "    '''\n",
    "    z, categories = sample_z(sess,\n",
    "                           X,\n",
    "                           model,\n",
    "                           multiplier,\n",
    "                           k,\n",
    "                           n_z)\n",
    "    if np.unique(categories).shape[0] == 1:\n",
    "        print('All variables assigned to one cluster! Returning a score of 0.')\n",
    "        return np.zeros(multiplier)\n",
    "    output = np.zeros(multiplier)\n",
    "    M = X.shape[0]\n",
    "    for i in range(multiplier):\n",
    "        output[i] = calinski_harabaz_score(z[M*i:M*(i+1)], categories[M*i:M*(i+1)])\n",
    "    return output"
   ]
  },
  {
   "cell_type": "code",
   "execution_count": 12,
   "metadata": {},
   "outputs": [],
   "source": [
    "def box_plot(scores, clusters):\n",
    "    '''\n",
    "        Creates a boxplot of the Calinski Harabasz Index, for each number of clusters\n",
    "    '''\n",
    "    K = len(scores)\n",
    "    plt.figure()\n",
    "    plt.xlabel('Number of clusters')\n",
    "    plt.ylabel('Calinski Harabasz Index')\n",
    "    plt.boxplot(scores, sym = '', positions = clusters)\n",
    "    plt.show()"
   ]
  },
  {
   "cell_type": "code",
   "execution_count": 13,
   "metadata": {},
   "outputs": [],
   "source": [
    "def plot(scores, clusters):\n",
    "    '''\n",
    "        Creates a plot of the Pairwise Stability Score, for each number of clusters\n",
    "    '''\n",
    "    K = len(scores)\n",
    "    plt.figure()\n",
    "    plt.xlabel('Number of clusters')\n",
    "    plt.ylabel('Pairwise Stability Score')\n",
    "    plt.plot(clusters, scores)\n",
    "    plt.show()"
   ]
  },
  {
   "cell_type": "code",
   "execution_count": 14,
   "metadata": {},
   "outputs": [],
   "source": [
    "def eval_and_plot(dataset):\n",
    "    saver = tf.train.Saver(keep_checkpoint_every_n_hours=4)\n",
    "    CH_scores = []\n",
    "    stability_scores = []\n",
    "    clusters = range(2,10)\n",
    "    for k in clusters:\n",
    "        model = GMVAE(k=k, n_x=n_x, n_z=n_z)\n",
    "        with tf.Session() as sess:\n",
    "            sess.run(tf.global_variables_initializer())\n",
    "            # TRAINING\n",
    "            sess_info = (sess, saver)\n",
    "            # For some reason we can't save when running on jupyter notebook, hence the last parameter\n",
    "            # When we want to save our parameters, maybe just run a python script from a terminal instead?\n",
    "            history = model.train('logs/gmvae_k={:d}.log'.format(k), dataset, sess_info, epochs=30, save_parameters = False)\n",
    "\n",
    "            multiplier = 10 # How many z:s we sample from one data point\n",
    "            CH = sample_and_compute_calinski_harabaz(sess,\n",
    "                                   dataset.test.data,\n",
    "                                   model,\n",
    "                                   multiplier,\n",
    "                                   k,\n",
    "                                   n_z)\n",
    "            CH_scores.append(CH)\n",
    "            stability_score = compute_pairwise_stability(sess, model, dataset.test.data, k, n_z)\n",
    "            stability_scores.append(stability_score)\n",
    "    box_plot(CH_scores, clusters)\n",
    "    plot(stability_scores, clusters)"
   ]
  },
  {
   "cell_type": "markdown",
   "metadata": {},
   "source": [
    "## Evaluate on MIMIC Arterial Line dataset"
   ]
  },
  {
   "cell_type": "code",
   "execution_count": 15,
   "metadata": {},
   "outputs": [],
   "source": [
    "import pandas as pd\n",
    "#aline_data = pd.read_csv('../aline-dataset.csv')\n",
    "#aline_data = pd.read_csv('../milestone_cohort_fixed.csv')\n",
    "#aline_data.iloc[:,4:].columns.values\n",
    "#colnames = aline_data.iloc[:,4:].columns.values\n",
    "#aline_data = aline_data.drop(['Unnamed: 0','Unnamed: 0.1','subject_id', 'hadm_id', 'icustay_id'], axis=1)\n",
    "#aline_data.head()\n",
    "aline_data = pd.read_csv('boopitybop.csv')"
   ]
  },
  {
   "cell_type": "markdown",
   "metadata": {},
   "source": [
    "## Separate out X and Y (inputs and potential labels)"
   ]
  },
  {
   "cell_type": "code",
   "execution_count": 16,
   "metadata": {},
   "outputs": [],
   "source": [
    "'''import numpy as np\n",
    "x_cols, y_cols = ['gender_num', 'day_icu_intime_num',\n",
    "       'hour_icu_intime'], ['icu_los_day'] \n",
    "for name in colnames:\n",
    "    if \"_first\" in name:\n",
    "        x_cols.append(name)\n",
    "    elif \"_flg\" in name or \"mort_day\" in name:\n",
    "        y_cols.append(name)\n",
    "        \n",
    "\"x:\",x_cols,\"y\", y_cols\n",
    "\n",
    "xnames = \"|\".join(x_cols)\n",
    "ynames = \"|\".join(y_cols)\n",
    "X = aline_data.filter(regex=xnames)\n",
    "Y = aline_data.filter(regex=ynames)\n",
    "#num_intime = pd.to_numeric(pd.to_datetime(X['icustay_intime']))\n",
    "#X['icustay_intime'] = num_intime\n",
    "#num_outtime = pd.to_numeric(pd.to_datetime(X['icustay_outtime']))\n",
    "ynames\n",
    "'''\n",
    "X = aline_data.drop(['Unnamed: 0','y'], axis=1)\n",
    "Y = pd.DataFrame(aline_data['y'])"
   ]
  },
  {
   "cell_type": "markdown",
   "metadata": {},
   "source": [
    "## Normalize values in X (no longer needed; Scotty did this preprocessing  for us in R). No more mean imputation; using KNN instead."
   ]
  },
  {
   "cell_type": "code",
   "execution_count": 17,
   "metadata": {},
   "outputs": [
    {
     "name": "stdout",
     "output_type": "stream",
     "text": [
      "['X1' 'X2' 'X3' 'X4' 'X5' 'X6' 'X7' 'X8' 'X9' 'X10' 'X11' 'X12' 'X13'\n",
      " 'X14' 'X15' 'X16' 'X17' 'X18' 'X19' 'X20' 'X21' 'X22' 'X23' 'X24' 'X25'\n",
      " 'X26' 'X27' 'X28' 'X29' 'X30' 'X31' 'X32' 'X33' 'X34' 'X35' 'X36' 'X37'\n",
      " 'X38' 'X39' 'X40' 'X41' 'X42' 'X43' 'X44' 'X45' 'X46' 'X47' 'X48' 'X49'\n",
      " 'X50' 'X51' 'X52' 'X53' 'X54' 'X55' 'X56' 'X57' 'X58' 'X59' 'X60' 'X61'\n",
      " 'X62' 'X63' 'X64' 'X65' 'X66' 'X67' 'X68' 'X69' 'X70' 'X71' 'X72' 'X73'\n",
      " 'X74' 'X75' 'X76' 'X77' 'X78' 'X79' 'X80' 'X81' 'X82' 'X83' 'X84' 'X85'\n",
      " 'X86' 'X87' 'X88' 'X89' 'X90' 'X91' 'X92' 'X93' 'X94' 'X95' 'X96' 'X97'\n",
      " 'X98' 'X99' 'X100' 'X101' 'X102' 'X103' 'X104' 'X105' 'X106' 'X107'\n",
      " 'X108' 'X109' 'X110' 'X111' 'X112' 'X113' 'X114' 'X115' 'X116' 'X117'\n",
      " 'X118' 'X119' 'X120' 'X121' 'X122' 'X123' 'X124' 'X125' 'X126' 'X127'\n",
      " 'X128' 'X129' 'X130' 'X131' 'X132' 'X133' 'X134' 'X135' 'X136' 'X137'\n",
      " 'X138' 'X139' 'X140' 'X141' 'X142' 'X143' 'X144' 'X145' 'X146' 'X147'\n",
      " 'X148' 'X149' 'X150' 'X151' 'X152' 'X153' 'X154' 'X155' 'X156' 'X157'\n",
      " 'X158' 'X159' 'X160' 'X161' 'X162' 'X163' 'X164' 'X165' 'X166' 'X167'\n",
      " 'X168' 'X169' 'X170' 'X171' 'X172' 'X173' 'X174' 'X175' 'X176' 'X177'\n",
      " 'X178']\n"
     ]
    },
    {
     "data": {
      "text/html": [
       "<div>\n",
       "<style scoped>\n",
       "    .dataframe tbody tr th:only-of-type {\n",
       "        vertical-align: middle;\n",
       "    }\n",
       "\n",
       "    .dataframe tbody tr th {\n",
       "        vertical-align: top;\n",
       "    }\n",
       "\n",
       "    .dataframe thead th {\n",
       "        text-align: right;\n",
       "    }\n",
       "</style>\n",
       "<table border=\"1\" class=\"dataframe\">\n",
       "  <thead>\n",
       "    <tr style=\"text-align: right;\">\n",
       "      <th></th>\n",
       "      <th>y</th>\n",
       "    </tr>\n",
       "  </thead>\n",
       "  <tbody>\n",
       "    <tr>\n",
       "      <th>0</th>\n",
       "      <td>4</td>\n",
       "    </tr>\n",
       "    <tr>\n",
       "      <th>1</th>\n",
       "      <td>1</td>\n",
       "    </tr>\n",
       "    <tr>\n",
       "      <th>2</th>\n",
       "      <td>5</td>\n",
       "    </tr>\n",
       "    <tr>\n",
       "      <th>3</th>\n",
       "      <td>5</td>\n",
       "    </tr>\n",
       "    <tr>\n",
       "      <th>4</th>\n",
       "      <td>5</td>\n",
       "    </tr>\n",
       "  </tbody>\n",
       "</table>\n",
       "</div>"
      ],
      "text/plain": [
       "   y\n",
       "0  4\n",
       "1  1\n",
       "2  5\n",
       "3  5\n",
       "4  5"
      ]
     },
     "execution_count": 17,
     "metadata": {},
     "output_type": "execute_result"
    }
   ],
   "source": [
    "'''from sklearn import preprocessing\n",
    "intime = np.array(num_intime).reshape(-1,1) #returns a numpy array\n",
    "min_max_scaler = preprocessing.MinMaxScaler()\n",
    "intime_scaled = min_max_scaler.fit_transform(intime)\n",
    "X['icustay_intime'] = intime_scaled\n",
    "#outtime = np.array(num_outtime).reshape(-1,1) #returns a numpy array\n",
    "min_max_scaler = preprocessing.MinMaxScaler()\n",
    "#outtime_scaled = min_max_scaler.fit_transform(outtime)\n",
    "#X['icustay_outtime'] = outtime_scaled\n",
    "X.head()\n",
    "'''\n",
    "\n",
    "vars_to_normalize = X.columns.values\n",
    "print(vars_to_normalize)\n",
    "X[vars_to_normalize] = X[vars_to_normalize].apply(lambda x: (x - x.min()) / (x.max() - x.min()))\n",
    "X = X.clip(lower=0.0, upper=1)\n",
    "X = X.fillna(X.mean())\n",
    "Y.head()\n",
    "#Y = Y.drop(['mort_day'], axis=1)"
   ]
  },
  {
   "cell_type": "code",
   "execution_count": 18,
   "metadata": {},
   "outputs": [
    {
     "data": {
      "text/html": [
       "<div>\n",
       "<style scoped>\n",
       "    .dataframe tbody tr th:only-of-type {\n",
       "        vertical-align: middle;\n",
       "    }\n",
       "\n",
       "    .dataframe tbody tr th {\n",
       "        vertical-align: top;\n",
       "    }\n",
       "\n",
       "    .dataframe thead th {\n",
       "        text-align: right;\n",
       "    }\n",
       "</style>\n",
       "<table border=\"1\" class=\"dataframe\">\n",
       "  <thead>\n",
       "    <tr style=\"text-align: right;\">\n",
       "      <th></th>\n",
       "      <th>X1</th>\n",
       "      <th>X2</th>\n",
       "      <th>X3</th>\n",
       "      <th>X4</th>\n",
       "      <th>X5</th>\n",
       "      <th>X6</th>\n",
       "      <th>X7</th>\n",
       "      <th>X8</th>\n",
       "      <th>X9</th>\n",
       "      <th>X10</th>\n",
       "      <th>...</th>\n",
       "      <th>X169</th>\n",
       "      <th>X170</th>\n",
       "      <th>X171</th>\n",
       "      <th>X172</th>\n",
       "      <th>X173</th>\n",
       "      <th>X174</th>\n",
       "      <th>X175</th>\n",
       "      <th>X176</th>\n",
       "      <th>X177</th>\n",
       "      <th>X178</th>\n",
       "    </tr>\n",
       "  </thead>\n",
       "  <tbody>\n",
       "    <tr>\n",
       "      <th>0</th>\n",
       "      <td>0.553717</td>\n",
       "      <td>0.571107</td>\n",
       "      <td>0.584371</td>\n",
       "      <td>0.598207</td>\n",
       "      <td>0.599275</td>\n",
       "      <td>0.526728</td>\n",
       "      <td>0.486466</td>\n",
       "      <td>0.462484</td>\n",
       "      <td>0.464883</td>\n",
       "      <td>0.467297</td>\n",
       "      <td>...</td>\n",
       "      <td>0.478116</td>\n",
       "      <td>0.507684</td>\n",
       "      <td>0.554390</td>\n",
       "      <td>0.544073</td>\n",
       "      <td>0.521051</td>\n",
       "      <td>0.489858</td>\n",
       "      <td>0.454331</td>\n",
       "      <td>0.434953</td>\n",
       "      <td>0.435612</td>\n",
       "      <td>0.474893</td>\n",
       "    </tr>\n",
       "    <tr>\n",
       "      <th>1</th>\n",
       "      <td>0.624123</td>\n",
       "      <td>0.625176</td>\n",
       "      <td>0.620328</td>\n",
       "      <td>0.629447</td>\n",
       "      <td>0.637957</td>\n",
       "      <td>0.579905</td>\n",
       "      <td>0.551431</td>\n",
       "      <td>0.535948</td>\n",
       "      <td>0.536146</td>\n",
       "      <td>0.536280</td>\n",
       "      <td>...</td>\n",
       "      <td>0.519068</td>\n",
       "      <td>0.557355</td>\n",
       "      <td>0.603836</td>\n",
       "      <td>0.603850</td>\n",
       "      <td>0.593542</td>\n",
       "      <td>0.562101</td>\n",
       "      <td>0.528396</td>\n",
       "      <td>0.505486</td>\n",
       "      <td>0.495495</td>\n",
       "      <td>0.522970</td>\n",
       "    </tr>\n",
       "  </tbody>\n",
       "</table>\n",
       "<p>2 rows × 178 columns</p>\n",
       "</div>"
      ],
      "text/plain": [
       "         X1        X2        X3        X4        X5        X6        X7  \\\n",
       "0  0.553717  0.571107  0.584371  0.598207  0.599275  0.526728  0.486466   \n",
       "1  0.624123  0.625176  0.620328  0.629447  0.637957  0.579905  0.551431   \n",
       "\n",
       "         X8        X9       X10    ...         X169      X170      X171  \\\n",
       "0  0.462484  0.464883  0.467297    ...     0.478116  0.507684  0.554390   \n",
       "1  0.535948  0.536146  0.536280    ...     0.519068  0.557355  0.603836   \n",
       "\n",
       "       X172      X173      X174      X175      X176      X177      X178  \n",
       "0  0.544073  0.521051  0.489858  0.454331  0.434953  0.435612  0.474893  \n",
       "1  0.603850  0.593542  0.562101  0.528396  0.505486  0.495495  0.522970  \n",
       "\n",
       "[2 rows x 178 columns]"
      ]
     },
     "execution_count": 18,
     "metadata": {},
     "output_type": "execute_result"
    }
   ],
   "source": [
    "X.head(2)"
   ]
  },
  {
   "cell_type": "markdown",
   "metadata": {},
   "source": [
    "## Load up data for GMVAE"
   ]
  },
  {
   "cell_type": "code",
   "execution_count": 19,
   "metadata": {},
   "outputs": [
    {
     "name": "stdout",
     "output_type": "stream",
     "text": [
      "[ 3857  3512 10464 ...  6569  4995  2844]\n",
      "[ 3857  3512 10464 ...  9491  9577 11404]\n"
     ]
    }
   ],
   "source": [
    "def load_and_mix_data2(X, Y, k, randomize=True):\n",
    "    concatenated_data = X.fillna(X.mean())# np.concatenate(all_data, axis=0)\n",
    "    concatenated_labels = Y.fillna(Y.mean())#np.concatenate(all_labels, axis=0)\n",
    "    m = concatenated_data.shape[0]\n",
    "    if randomize:\n",
    "        indices = np.random.permutation(np.arange(len(concatenated_data)))\n",
    "    else:\n",
    "        indices = np.arange(len(concatenated_data))\n",
    "    print(indices)\n",
    "    train_indices = indices[:int(m * 0.9)]\n",
    "    test_indices = indices[int(m * 0.9):]\n",
    "    print(train_indices)\n",
    "    train_data = concatenated_data.loc[train_indices].as_matrix()\n",
    "    #print(len(all_labels))\n",
    "    #print(all_labels[0][0], all_labels[1][0], all_labels[2][0])\n",
    "   # print(type(train_data))\n",
    "   # print(\"(m,n)\",train_data.shape)\n",
    "    train_labels = concatenated_labels.loc[train_indices]\n",
    "    test_data = concatenated_data.loc[test_indices].as_matrix()\n",
    "    test_labels = concatenated_labels.loc[test_indices]\n",
    "    #print(\"TESTLABELS ARE\",test_labels)\n",
    "    dataset = Dataset(k)\n",
    "    dataset.setTrainData(train_data, train_labels)\n",
    "    dataset.setTestData(test_data, test_labels)\n",
    "    return dataset\n",
    "dataset = load_and_mix_data2(X, Y, 3, True)\n",
    "#dataset = load_and_mix_data('generated_from_cluster',true_clusters,True)\n",
    "#dataset.train.data\n",
    "#dataset.test"
   ]
  },
  {
   "cell_type": "code",
   "execution_count": 20,
   "metadata": {},
   "outputs": [
    {
     "data": {
      "text/plain": [
       "1.0"
      ]
     },
     "execution_count": 20,
     "metadata": {},
     "output_type": "execute_result"
    }
   ],
   "source": [
    "np.max(dataset.train.data)"
   ]
  },
  {
   "cell_type": "code",
   "execution_count": 21,
   "metadata": {},
   "outputs": [
    {
     "data": {
      "text/plain": [
       "(11500, 178)"
      ]
     },
     "execution_count": 21,
     "metadata": {},
     "output_type": "execute_result"
    }
   ],
   "source": [
    "X.shape"
   ]
  },
  {
   "cell_type": "markdown",
   "metadata": {},
   "source": [
    "## Trawl through different # of clusters to see which gives best intercluster separation  and intracluster closeness"
   ]
  },
  {
   "cell_type": "code",
   "execution_count": 22,
   "metadata": {},
   "outputs": [
    {
     "name": "stdout",
     "output_type": "stream",
     "text": [
      "with k= 2 clusters\n",
      "graph written\n",
      "init\n",
      "    tr_ent,   tr_loss,     t_ent,    t_loss,     t_acc,     epoch                                   \n",
      " -6.93e-01,  1.64e+00,  6.93e-01,  1.63e+00,  1.00e+00\n",
      "    tr_ent,   tr_loss,     t_ent,    t_loss,     t_acc,     epoch                                   \n",
      " -6.93e-01,  1.64e+00,  6.93e-01,  1.63e+00,  2.00e+00\n",
      "    tr_ent,   tr_loss,     t_ent,    t_loss,     t_acc,     epoch                                   \n",
      " -6.93e-01,  1.61e+00,  6.93e-01,  1.61e+00,  3.00e+00\n",
      "    tr_ent,   tr_loss,     t_ent,    t_loss,     t_acc,     epoch                                   \n",
      " -6.93e-01,  1.61e+00,  6.93e-01,  1.61e+00,  4.00e+00\n",
      "    tr_ent,   tr_loss,     t_ent,    t_loss,     t_acc,     epoch                                   \n",
      " -6.93e-01,  1.61e+00,  6.93e-01,  1.61e+00,  5.00e+00\n",
      "    tr_ent,   tr_loss,     t_ent,    t_loss,     t_acc,     epoch                                   \n",
      " -6.93e-01,  1.61e+00,  6.93e-01,  1.61e+00,  6.00e+00\n",
      "    tr_ent,   tr_loss,     t_ent,    t_loss,     t_acc,     epoch                                   \n",
      " -6.93e-01,  1.61e+00,  6.93e-01,  1.61e+00,  7.00e+00\n",
      "    tr_ent,   tr_loss,     t_ent,    t_loss,     t_acc,     epoch                                   \n",
      " -6.93e-01,  1.61e+00,  6.93e-01,  1.61e+00,  8.00e+00\n",
      "    tr_ent,   tr_loss,     t_ent,    t_loss,     t_acc,     epoch                                   \n",
      " -6.93e-01,  1.61e+00,  6.93e-01,  1.61e+00,  9.00e+00\n",
      "    tr_ent,   tr_loss,     t_ent,    t_loss,     t_acc,     epoch                                   \n",
      " -6.93e-01,  1.62e+00,  6.93e-01,  1.61e+00,  1.00e+01\n",
      "All variables assigned to one cluster! Returning a score of 0.\n",
      "with k= 3 clusters\n",
      "graph written\n",
      "init\n",
      "    tr_ent,   tr_loss,     t_ent,    t_loss,     t_acc,     epoch                                   \n",
      " -1.10e+00,  1.32e+00,  1.10e+00,  1.31e+00,  1.00e+00\n",
      "    tr_ent,   tr_loss,     t_ent,    t_loss,     t_acc,     epoch                                   \n",
      " -1.10e+00,  1.21e+00,  1.10e+00,  1.21e+00,  2.00e+00\n",
      "    tr_ent,   tr_loss,     t_ent,    t_loss,     t_acc,     epoch                                   \n",
      " -1.10e+00,  1.21e+00,  1.10e+00,  1.21e+00,  3.00e+00\n",
      "    tr_ent,   tr_loss,     t_ent,    t_loss,     t_acc,     epoch                                   \n",
      " -1.10e+00,  1.21e+00,  1.10e+00,  1.21e+00,  4.00e+00\n",
      "    tr_ent,   tr_loss,     t_ent,    t_loss,     t_acc,     epoch                                   \n",
      " -1.10e+00,  1.21e+00,  1.10e+00,  1.21e+00,  5.00e+00\n",
      "    tr_ent,   tr_loss,     t_ent,    t_loss,     t_acc,     epoch                                   \n",
      " -1.10e+00,  1.21e+00,  1.10e+00,  1.21e+00,  6.00e+00\n",
      "    tr_ent,   tr_loss,     t_ent,    t_loss,     t_acc,     epoch                                   \n",
      " -1.10e+00,  1.21e+00,  1.10e+00,  1.21e+00,  7.00e+00\n",
      "    tr_ent,   tr_loss,     t_ent,    t_loss,     t_acc,     epoch                                   \n",
      " -1.10e+00,  1.21e+00,  1.10e+00,  1.21e+00,  8.00e+00\n",
      "    tr_ent,   tr_loss,     t_ent,    t_loss,     t_acc,     epoch                                   \n",
      " -1.10e+00,  1.21e+00,  1.10e+00,  1.21e+00,  9.00e+00\n",
      "    tr_ent,   tr_loss,     t_ent,    t_loss,     t_acc,     epoch                                   \n",
      " -1.10e+00,  1.21e+00,  1.10e+00,  1.21e+00,  1.00e+01\n",
      "All variables assigned to one cluster! Returning a score of 0.\n",
      "with k= 4 clusters\n",
      "graph written\n",
      "init\n",
      "    tr_ent,   tr_loss,     t_ent,    t_loss,     t_acc,     epoch                                   \n",
      " -1.39e+00,  9.30e-01,  1.39e+00,  9.33e-01,  1.00e+00\n",
      "    tr_ent,   tr_loss,     t_ent,    t_loss,     t_acc,     epoch                                   \n",
      " -1.39e+00,  9.21e-01,  1.39e+00,  9.25e-01,  2.00e+00\n",
      "    tr_ent,   tr_loss,     t_ent,    t_loss,     t_acc,     epoch                                   \n",
      " -1.39e+00,  9.24e-01,  1.39e+00,  9.19e-01,  3.00e+00\n",
      "    tr_ent,   tr_loss,     t_ent,    t_loss,     t_acc,     epoch                                   \n",
      " -1.39e+00,  9.21e-01,  1.39e+00,  9.22e-01,  4.00e+00\n",
      "    tr_ent,   tr_loss,     t_ent,    t_loss,     t_acc,     epoch                                   \n",
      " -1.39e+00,  9.22e-01,  1.39e+00,  9.19e-01,  5.00e+00\n",
      "    tr_ent,   tr_loss,     t_ent,    t_loss,     t_acc,     epoch                                   \n",
      " -1.39e+00,  9.21e-01,  1.39e+00,  9.20e-01,  6.00e+00\n",
      "    tr_ent,   tr_loss,     t_ent,    t_loss,     t_acc,     epoch                                   \n",
      " -1.39e+00,  9.20e-01,  1.39e+00,  9.21e-01,  7.00e+00\n",
      "    tr_ent,   tr_loss,     t_ent,    t_loss,     t_acc,     epoch                                   \n",
      " -1.39e+00,  9.18e-01,  1.39e+00,  9.20e-01,  8.00e+00\n",
      "    tr_ent,   tr_loss,     t_ent,    t_loss,     t_acc,     epoch                                   \n",
      " -1.39e+00,  9.26e-01,  1.39e+00,  9.22e-01,  9.00e+00\n",
      "    tr_ent,   tr_loss,     t_ent,    t_loss,     t_acc,     epoch                                   \n",
      " -1.39e+00,  9.19e-01,  1.39e+00,  9.18e-01,  1.00e+01\n",
      "All variables assigned to one cluster! Returning a score of 0.\n",
      "with k= 5 clusters\n",
      "graph written\n",
      "init\n",
      "    tr_ent,   tr_loss,     t_ent,    t_loss,     t_acc,     epoch                                   \n",
      " -1.61e+00,  7.74e-01,  1.61e+00,  7.67e-01,  1.00e+00\n",
      "    tr_ent,   tr_loss,     t_ent,    t_loss,     t_acc,     epoch                                   \n",
      " -1.61e+00,  7.06e-01,  1.61e+00,  7.06e-01,  2.00e+00\n",
      "    tr_ent,   tr_loss,     t_ent,    t_loss,     t_acc,     epoch                                   \n",
      " -1.61e+00,  6.95e-01,  1.61e+00,  6.97e-01,  3.00e+00\n",
      "    tr_ent,   tr_loss,     t_ent,    t_loss,     t_acc,     epoch                                   \n",
      " -1.61e+00,  6.95e-01,  1.61e+00,  6.96e-01,  4.00e+00\n",
      "    tr_ent,   tr_loss,     t_ent,    t_loss,     t_acc,     epoch                                   \n",
      " -1.61e+00,  6.94e-01,  1.61e+00,  6.95e-01,  5.00e+00\n",
      "    tr_ent,   tr_loss,     t_ent,    t_loss,     t_acc,     epoch                                   \n",
      " -1.61e+00,  6.96e-01,  1.61e+00,  6.95e-01,  6.00e+00\n",
      "    tr_ent,   tr_loss,     t_ent,    t_loss,     t_acc,     epoch                                   \n",
      " -1.61e+00,  6.97e-01,  1.61e+00,  6.96e-01,  7.00e+00\n",
      "    tr_ent,   tr_loss,     t_ent,    t_loss,     t_acc,     epoch                                   \n",
      " -1.61e+00,  6.95e-01,  1.61e+00,  6.95e-01,  8.00e+00\n",
      "    tr_ent,   tr_loss,     t_ent,    t_loss,     t_acc,     epoch                                   \n",
      " -1.61e+00,  6.97e-01,  1.61e+00,  6.95e-01,  9.00e+00\n",
      "    tr_ent,   tr_loss,     t_ent,    t_loss,     t_acc,     epoch                                   \n",
      " -1.61e+00,  6.95e-01,  1.61e+00,  6.95e-01,  1.00e+01\n"
     ]
    },
    {
     "data": {
      "image/png": "[encoded data removed]",
      "text/plain": [
       "<matplotlib.figure.Figure at 0x7fd20008a080>"
      ]
     },
     "metadata": {},
     "output_type": "display_data"
    },
    {
     "data": {
      "image/png": "[encoded data removed]",
      "text/plain": [
       "<matplotlib.figure.Figure at 0x7fd1ff62ff98>"
      ]
     },
     "metadata": {},
     "output_type": "display_data"
    }
   ],
   "source": [
    "from gmvae_model import GMVAE\n",
    "\n",
    "eval_epochs = 10\n",
    "saver = tf.train.Saver(keep_checkpoint_every_n_hours=4)\n",
    "CH_scores = []\n",
    "stability_scores = []\n",
    "clusters = range(2,6)\n",
    "n_z = 2\n",
    "n_x = dataset.train.data.shape[1]\n",
    "for k in clusters:\n",
    "    print(\"with k=\",k,\"clusters\")\n",
    "    model = GMVAE(k=k, n_x=n_x, n_z=n_z)\n",
    "    with tf.Session() as sess:\n",
    "        sess.run(tf.global_variables_initializer())\n",
    "        # TRAINING\n",
    "        sess_info = (sess, saver)\n",
    "        print(\"init\")\n",
    "        # For some reason we can't save when running on jupyter notebook, hence the last parameter\n",
    "        # When we want to save our parameters, maybe just run a python script from a terminal instead?\n",
    "        history = model.train('logs/gmvae_k={:d}.log'.format(k), dataset, sess_info, epochs=eval_epochs, save_parameters = False)\n",
    "\n",
    "        multiplier = 10 # How many z:s we sample from one data point\n",
    "        CH = sample_and_compute_calinski_harabaz(sess,\n",
    "                               dataset.test.data,\n",
    "                               model,\n",
    "                               multiplier,\n",
    "                               k,\n",
    "                               n_z)\n",
    "        CH_scores.append(CH)\n",
    "        stability_score = compute_pairwise_stability(sess, model, dataset.test.data, k, n_z)\n",
    "        stability_scores.append(stability_score)\n",
    "a = box_plot(CH_scores, clusters)\n",
    "b = plot(stability_scores, clusters)\n"
   ]
  },
  {
   "cell_type": "code",
   "execution_count": 23,
   "metadata": {},
   "outputs": [],
   "source": [
    "#box_plot(CH_scores, clusters)"
   ]
  },
  {
   "cell_type": "code",
   "execution_count": 24,
   "metadata": {},
   "outputs": [],
   "source": [
    "#plot(stability_scores, clusters)"
   ]
  },
  {
   "cell_type": "code",
   "execution_count": 25,
   "metadata": {},
   "outputs": [],
   "source": [
    "def get_corcoeffs(X, k, sess, model):\n",
    "    names = list(X.columns)\n",
    "    n_examples = 200\n",
    "    old_pats = X[:n_examples]\n",
    "    zvals = encode(old_pats, sess, model)\n",
    "    # get some known patients.\n",
    "    min_z = -3\n",
    "    max_z = 3\n",
    "    skip = 1\n",
    "\n",
    "    distrs = []\n",
    "    distrs_spectra = []\n",
    "    for y in range(k):\n",
    "        latent_vars = {}\n",
    "        latent_var_spectra = {}\n",
    "        for i in range(n_z):  # For each latent variable...\n",
    "            latent_name = \"z\" + str(i)\n",
    "            latent_vars[latent_name] = {}\n",
    "            latent_var_spectra[latent_name] = np.zeros(len(names))\n",
    "            layer = latent_vars[latent_name]\n",
    "            for z in range(min_z, max_z, skip):  # ...fix the value of the latent variable (for a suite of values)\n",
    "                zvals[:, i] = z\n",
    "                new_pats = generate(y, zvals, sess, model)\n",
    "                new_z = np.ones(n_examples) * z\n",
    "                if \"x\" in layer:\n",
    "                    layer[\"x\"] = np.concatenate((layer[\"x\"], new_pats), axis=0)\n",
    "                else:\n",
    "                    layer[\"x\"] = new_pats\n",
    "                if \"z\" in layer:\n",
    "                    layer[\"z\"] = np.concatenate((layer[\"z\"], new_z), axis=0)\n",
    "                else:\n",
    "                    layer[\"z\"] = new_z\n",
    "            # Take the correlation between the latent variable and all other original data variables,\n",
    "            # we'll call this the latent variable's \"fingerprint\" or \"spectrum\" and we want to compare the different latent vars\n",
    "            for j, real_varname in enumerate(names):\n",
    "                #print(latent_vars[latent_name]['x'])\n",
    "                #print (np.corrcoef(latent_vars[latent_name]['z'], latent_vars[latent_name]['x']))\n",
    "                latent_var_spectra[latent_name][j] = np.corrcoef(latent_vars[latent_name]['z'],\\\n",
    "                                                                 latent_vars[latent_name]['x'][:, j])[0, 1]\n",
    "        distrs.append(latent_vars)\n",
    "        distrs_spectra.append(latent_var_spectra)\n",
    "    return distrs, distrs_spectra"
   ]
  },
  {
   "cell_type": "code",
   "execution_count": 26,
   "metadata": {},
   "outputs": [
    {
     "data": {
      "text/plain": [
       "y    3.0\n",
       "dtype: float64"
      ]
     },
     "execution_count": 26,
     "metadata": {},
     "output_type": "execute_result"
    }
   ],
   "source": [
    "np.mean(Y)"
   ]
  },
  {
   "cell_type": "markdown",
   "metadata": {},
   "source": [
    "## Plot GMVAE latent outputs, Relate inferred latent variables z & clusters y back to inputs x"
   ]
  },
  {
   "cell_type": "code",
   "execution_count": 27,
   "metadata": {},
   "outputs": [
    {
     "name": "stdout",
     "output_type": "stream",
     "text": [
      "graph written\n",
      "init\n",
      "    tr_ent,   tr_loss,     t_ent,    t_loss,     t_acc,     epoch                                   \n",
      " -1.61e+00,  7.52e-01,  1.61e+00,  7.47e-01,  1.00e+00\n",
      "    tr_ent,   tr_loss,     t_ent,    t_loss,     t_acc,     epoch                                   \n",
      " -1.61e+00,  7.07e-01,  1.61e+00,  7.00e-01,  2.00e+00\n",
      "    tr_ent,   tr_loss,     t_ent,    t_loss,     t_acc,     epoch                                   \n",
      " -1.61e+00,  6.99e-01,  1.61e+00,  7.00e-01,  3.00e+00\n",
      "    tr_ent,   tr_loss,     t_ent,    t_loss,     t_acc,     epoch                                   \n",
      " -1.61e+00,  7.04e-01,  1.61e+00,  7.00e-01,  4.00e+00\n",
      "    tr_ent,   tr_loss,     t_ent,    t_loss,     t_acc,     epoch                                   \n",
      " -1.61e+00,  7.06e-01,  1.61e+00,  7.03e-01,  5.00e+00\n",
      "    tr_ent,   tr_loss,     t_ent,    t_loss,     t_acc,     epoch                                   \n",
      " -1.61e+00,  7.01e-01,  1.61e+00,  6.97e-01,  6.00e+00\n",
      "    tr_ent,   tr_loss,     t_ent,    t_loss,     t_acc,     epoch                                   \n",
      " -1.61e+00,  6.99e-01,  1.61e+00,  6.98e-01,  7.00e+00\n",
      "    tr_ent,   tr_loss,     t_ent,    t_loss,     t_acc,     epoch                                   \n",
      " -1.61e+00,  7.01e-01,  1.61e+00,  6.99e-01,  8.00e+00\n",
      "    tr_ent,   tr_loss,     t_ent,    t_loss,     t_acc,     epoch                                   \n",
      " -1.61e+00,  6.99e-01,  1.61e+00,  6.97e-01,  9.00e+00\n",
      "    tr_ent,   tr_loss,     t_ent,    t_loss,     t_acc,     epoch                                   \n",
      " -1.61e+00,  6.98e-01,  1.61e+00,  6.97e-01,  1.00e+01\n",
      "    tr_ent,   tr_loss,     t_ent,    t_loss,     t_acc,     epoch                                   \n",
      " -1.61e+00,  6.96e-01,  1.61e+00,  6.96e-01,  1.10e+01\n",
      "    tr_ent,   tr_loss,     t_ent,    t_loss,     t_acc,     epoch                                   \n",
      " -1.61e+00,  6.96e-01,  1.61e+00,  6.97e-01,  1.20e+01\n",
      "    tr_ent,   tr_loss,     t_ent,    t_loss,     t_acc,     epoch                                   \n",
      " -1.61e+00,  6.96e-01,  1.61e+00,  6.96e-01,  1.30e+01\n",
      "    tr_ent,   tr_loss,     t_ent,    t_loss,     t_acc,     epoch                                   \n",
      " -1.61e+00,  6.97e-01,  1.61e+00,  6.96e-01,  1.40e+01\n",
      "    tr_ent,   tr_loss,     t_ent,    t_loss,     t_acc,     epoch                                   \n",
      " -1.61e+00,  6.95e-01,  1.61e+00,  6.96e-01,  1.50e+01\n",
      "    tr_ent,   tr_loss,     t_ent,    t_loss,     t_acc,     epoch                                   \n",
      " -1.61e+00,  6.97e-01,  1.61e+00,  6.97e-01,  1.60e+01\n",
      "    tr_ent,   tr_loss,     t_ent,    t_loss,     t_acc,     epoch                                   \n",
      " -1.61e+00,  6.95e-01,  1.61e+00,  6.95e-01,  1.70e+01\n",
      "    tr_ent,   tr_loss,     t_ent,    t_loss,     t_acc,     epoch                                   \n",
      " -1.61e+00,  6.96e-01,  1.61e+00,  6.96e-01,  1.80e+01\n",
      "    tr_ent,   tr_loss,     t_ent,    t_loss,     t_acc,     epoch                                   \n",
      " -1.61e+00,  6.97e-01,  1.61e+00,  6.97e-01,  1.90e+01\n",
      "    tr_ent,   tr_loss,     t_ent,    t_loss,     t_acc,     epoch                                   \n",
      " -1.61e+00,  6.98e-01,  1.61e+00,  6.97e-01,  2.00e+01\n",
      "    tr_ent,   tr_loss,     t_ent,    t_loss,     t_acc,     epoch                                   \n",
      " -1.61e+00,  6.98e-01,  1.61e+00,  6.97e-01,  2.10e+01\n",
      "    tr_ent,   tr_loss,     t_ent,    t_loss,     t_acc,     epoch                                   \n",
      " -1.61e+00,  6.97e-01,  1.61e+00,  6.96e-01,  2.20e+01\n",
      "    tr_ent,   tr_loss,     t_ent,    t_loss,     t_acc,     epoch                                   \n",
      " -1.61e+00,  6.95e-01,  1.61e+00,  6.96e-01,  2.30e+01\n",
      "    tr_ent,   tr_loss,     t_ent,    t_loss,     t_acc,     epoch                                   \n",
      " -1.61e+00,  6.96e-01,  1.61e+00,  6.96e-01,  2.40e+01\n",
      "    tr_ent,   tr_loss,     t_ent,    t_loss,     t_acc,     epoch                                   \n",
      " -1.61e+00,  6.96e-01,  1.61e+00,  6.96e-01,  2.50e+01\n",
      "    tr_ent,   tr_loss,     t_ent,    t_loss,     t_acc,     epoch                                   \n",
      " -1.61e+00,  6.96e-01,  1.61e+00,  6.96e-01,  2.60e+01\n",
      "    tr_ent,   tr_loss,     t_ent,    t_loss,     t_acc,     epoch                                   \n",
      " -1.61e+00,  6.95e-01,  1.61e+00,  6.96e-01,  2.70e+01\n",
      "    tr_ent,   tr_loss,     t_ent,    t_loss,     t_acc,     epoch                                   \n",
      " -1.61e+00,  6.95e-01,  1.61e+00,  6.97e-01,  2.80e+01\n",
      "    tr_ent,   tr_loss,     t_ent,    t_loss,     t_acc,     epoch                                   \n",
      " -1.61e+00,  6.98e-01,  1.61e+00,  6.95e-01,  2.90e+01\n",
      "    tr_ent,   tr_loss,     t_ent,    t_loss,     t_acc,     epoch                                   \n",
      " -1.61e+00,  6.95e-01,  1.61e+00,  6.96e-01,  3.00e+01\n",
      "    tr_ent,   tr_loss,     t_ent,    t_loss,     t_acc,     epoch                                   \n",
      " -1.61e+00,  6.96e-01,  1.61e+00,  6.96e-01,  3.10e+01\n",
      "    tr_ent,   tr_loss,     t_ent,    t_loss,     t_acc,     epoch                                   \n",
      " -1.61e+00,  6.97e-01,  1.61e+00,  6.96e-01,  3.20e+01\n",
      "    tr_ent,   tr_loss,     t_ent,    t_loss,     t_acc,     epoch                                   \n",
      " -1.61e+00,  6.95e-01,  1.61e+00,  6.97e-01,  3.30e+01\n",
      "    tr_ent,   tr_loss,     t_ent,    t_loss,     t_acc,     epoch                                   \n",
      " -1.61e+00,  6.96e-01,  1.61e+00,  6.96e-01,  3.40e+01\n",
      "    tr_ent,   tr_loss,     t_ent,    t_loss,     t_acc,     epoch                                   \n",
      " -1.61e+00,  6.97e-01,  1.61e+00,  6.96e-01,  3.50e+01\n",
      "    tr_ent,   tr_loss,     t_ent,    t_loss,     t_acc,     epoch                                   \n",
      " -1.61e+00,  6.96e-01,  1.61e+00,  6.96e-01,  3.60e+01\n",
      "    tr_ent,   tr_loss,     t_ent,    t_loss,     t_acc,     epoch                                   \n",
      " -1.61e+00,  6.95e-01,  1.61e+00,  6.96e-01,  3.70e+01\n",
      "    tr_ent,   tr_loss,     t_ent,    t_loss,     t_acc,     epoch                                   \n",
      " -1.61e+00,  6.98e-01,  1.61e+00,  6.96e-01,  3.80e+01\n",
      "    tr_ent,   tr_loss,     t_ent,    t_loss,     t_acc,     epoch                                   \n",
      " -1.61e+00,  6.98e-01,  1.61e+00,  6.97e-01,  3.90e+01\n",
      "    tr_ent,   tr_loss,     t_ent,    t_loss,     t_acc,     epoch                                   \n",
      " -1.61e+00,  6.95e-01,  1.61e+00,  6.96e-01,  4.00e+01\n",
      "    tr_ent,   tr_loss,     t_ent,    t_loss,     t_acc,     epoch                                   \n",
      " -1.61e+00,  6.95e-01,  1.61e+00,  6.95e-01,  4.10e+01\n",
      "    tr_ent,   tr_loss,     t_ent,    t_loss,     t_acc,     epoch                                   \n",
      " -1.61e+00,  6.95e-01,  1.61e+00,  6.97e-01,  4.20e+01\n",
      "    tr_ent,   tr_loss,     t_ent,    t_loss,     t_acc,     epoch                                   \n",
      " -1.61e+00,  6.96e-01,  1.61e+00,  6.96e-01,  4.30e+01\n",
      "    tr_ent,   tr_loss,     t_ent,    t_loss,     t_acc,     epoch                                   \n",
      " -1.61e+00,  6.94e-01,  1.61e+00,  6.96e-01,  4.40e+01\n",
      "    tr_ent,   tr_loss,     t_ent,    t_loss,     t_acc,     epoch                                   \n",
      " -1.61e+00,  6.97e-01,  1.61e+00,  6.96e-01,  4.50e+01\n",
      "    tr_ent,   tr_loss,     t_ent,    t_loss,     t_acc,     epoch                                   \n",
      " -1.61e+00,  6.96e-01,  1.61e+00,  6.96e-01,  4.60e+01\n",
      "    tr_ent,   tr_loss,     t_ent,    t_loss,     t_acc,     epoch                                   \n",
      " -1.61e+00,  6.96e-01,  1.61e+00,  6.96e-01,  4.70e+01\n",
      "    tr_ent,   tr_loss,     t_ent,    t_loss,     t_acc,     epoch                                   \n",
      " -1.61e+00,  6.96e-01,  1.61e+00,  6.95e-01,  4.80e+01\n",
      "    tr_ent,   tr_loss,     t_ent,    t_loss,     t_acc,     epoch                                   \n",
      " -1.61e+00,  6.95e-01,  1.61e+00,  6.96e-01,  4.90e+01\n",
      "    tr_ent,   tr_loss,     t_ent,    t_loss,     t_acc,     epoch                                   \n",
      " -1.61e+00,  6.95e-01,  1.61e+00,  6.96e-01,  5.00e+01\n",
      "model trained\n",
      "plotting\n"
     ]
    },
    {
     "data": {
      "image/png": "[encoded data removed]",
      "text/plain": [
       "<matplotlib.figure.Figure at 0x7fd1c757fe10>"
      ]
     },
     "metadata": {},
     "output_type": "display_data"
    },
    {
     "name": "stdout",
     "output_type": "stream",
     "text": [
      "i is 499\n",
      "scatter plot drawn\n"
     ]
    },
    {
     "data": {
      "image/png": "[encoded data removed]",
      "text/plain": [
       "<matplotlib.figure.Figure at 0x7fd1cbabf710>"
      ]
     },
     "metadata": {},
     "output_type": "display_data"
    },
    {
     "name": "stdout",
     "output_type": "stream",
     "text": [
      "i is 499\n",
      "scatter plot drawn\n"
     ]
    }
   ],
   "source": [
    "from gmvae_model import GMVAE\n",
    "from utils import *\n",
    "plot = True\n",
    "k = 5\n",
    "n_x = X.shape[1]\n",
    "n_z = 5\n",
    "n_epochs=50\n",
    "model = GMVAE(k=k, n_x=n_x, n_z=n_z)\n",
    "saver = tf.train.Saver(keep_checkpoint_every_n_hours=4)\n",
    "with tf.Session() as sess:\n",
    "    sess.run(tf.global_variables_initializer())\n",
    "    # TRAINING\n",
    "    sess_info = (sess, saver)\n",
    "    print(\"init\")\n",
    "    # For some reason we can't save when running on jupyter notebook, hence the last parameter\n",
    "    # When we want to save our parameters, maybe just run a python script from a terminal instead?\n",
    "    history = model.train('logs/gmvae_k={:d}.log'.format(k), dataset, sess_info, epochs=n_epochs, save_parameters = False)\n",
    "    print(\"model trained\")\n",
    "    distrs, distrs_spectra = get_corcoeffs(X, k, sess, model)\n",
    "    if (plot):\n",
    "        print(\"plotting\")\n",
    "        X_sample, Y_sample = sample_random_subset(X,Y,size=500)\n",
    "        plot_z(sess, X_sample.as_matrix(), Y_sample.as_matrix(), model, k, n_z, True)\n",
    "        plot_gmvae_output(sess, X_sample.as_matrix(), Y_sample.as_matrix(), model, k)\n"
   ]
  },
  {
   "cell_type": "code",
   "execution_count": 28,
   "metadata": {},
   "outputs": [
    {
     "name": "stdout",
     "output_type": "stream",
     "text": [
      "distribution  0\n",
      "\n",
      "Top 3 associated variables for Latent Variable z0:\n",
      "('X107', 0.28491453275137923)\n",
      "('X106', 0.2844639913434755)\n",
      "('X105', 0.2835256196501819)\n",
      "\n",
      "Top 3 associated variables for Latent Variable z1:\n",
      "('X105', -0.9491242166437447)\n",
      "('X106', -0.9426823180495527)\n",
      "('X107', -0.9299665686082099)\n",
      "\n",
      "Top 3 associated variables for Latent Variable z2:\n",
      "('X53', 0.7644979959266758)\n",
      "('X52', 0.7578742706808447)\n",
      "('X166', 0.7574486064346522)\n",
      "\n",
      "Top 3 associated variables for Latent Variable z3:\n",
      "('X53', -0.4832359143562408)\n",
      "('X52', -0.4752865259998586)\n",
      "('X166', -0.4747991768240142)\n",
      "\n",
      "Top 3 associated variables for Latent Variable z4:\n",
      "('X49', -1.0)\n",
      "('X15', -1.0)\n",
      "('X50', -1.0)\n",
      "distribution  1\n",
      "\n",
      "Top 3 associated variables for Latent Variable z0:\n",
      "('X48', 1.0)\n",
      "('X31', 1.0)\n",
      "('X59', 1.0)\n",
      "\n",
      "Top 3 associated variables for Latent Variable z1:\n",
      "('X178', -1.0)\n",
      "('X150', -1.0)\n",
      "('X139', -1.0)\n",
      "\n",
      "Top 3 associated variables for Latent Variable z2:\n",
      "('X1', 1.0)\n",
      "('X55', 1.0)\n",
      "('X25', 1.0)\n",
      "\n",
      "Top 3 associated variables for Latent Variable z3:\n",
      "('X48', -1.0)\n",
      "('X32', -1.0)\n",
      "('X137', -1.0)\n",
      "\n",
      "Top 3 associated variables for Latent Variable z4:\n",
      "('X49', -1.0)\n",
      "('X15', -1.0)\n",
      "('X50', -1.0)\n",
      "distribution  2\n",
      "\n",
      "Top 3 associated variables for Latent Variable z0:\n",
      "('X48', 1.0)\n",
      "('X31', 1.0)\n",
      "('X59', 1.0)\n",
      "\n",
      "Top 3 associated variables for Latent Variable z1:\n",
      "('X178', -1.0)\n",
      "('X150', -1.0)\n",
      "('X139', -1.0)\n",
      "\n",
      "Top 3 associated variables for Latent Variable z2:\n",
      "('X1', 1.0)\n",
      "('X55', 1.0)\n",
      "('X25', 1.0)\n",
      "\n",
      "Top 3 associated variables for Latent Variable z3:\n",
      "('X48', -1.0)\n",
      "('X32', -1.0)\n",
      "('X137', -1.0)\n",
      "\n",
      "Top 3 associated variables for Latent Variable z4:\n",
      "('X49', -1.0)\n",
      "('X15', -1.0)\n",
      "('X50', -1.0)\n",
      "distribution  3\n",
      "\n",
      "Top 3 associated variables for Latent Variable z0:\n",
      "('X48', 1.0)\n",
      "('X31', 1.0)\n",
      "('X59', 1.0)\n",
      "\n",
      "Top 3 associated variables for Latent Variable z1:\n",
      "('X178', -1.0)\n",
      "('X150', -1.0)\n",
      "('X139', -1.0)\n",
      "\n",
      "Top 3 associated variables for Latent Variable z2:\n",
      "('X1', 1.0)\n",
      "('X55', 1.0)\n",
      "('X25', 1.0)\n",
      "\n",
      "Top 3 associated variables for Latent Variable z3:\n",
      "('X48', -1.0)\n",
      "('X32', -1.0)\n",
      "('X137', -1.0)\n",
      "\n",
      "Top 3 associated variables for Latent Variable z4:\n",
      "('X49', -1.0)\n",
      "('X15', -1.0)\n",
      "('X50', -1.0)\n",
      "distribution  4\n",
      "\n",
      "Top 3 associated variables for Latent Variable z0:\n",
      "('X48', 1.0)\n",
      "('X31', 1.0)\n",
      "('X59', 1.0)\n",
      "\n",
      "Top 3 associated variables for Latent Variable z1:\n",
      "('X178', -1.0)\n",
      "('X150', -1.0)\n",
      "('X139', -1.0)\n",
      "\n",
      "Top 3 associated variables for Latent Variable z2:\n",
      "('X1', 1.0)\n",
      "('X55', 1.0)\n",
      "('X25', 1.0)\n",
      "\n",
      "Top 3 associated variables for Latent Variable z3:\n",
      "('X48', -1.0)\n",
      "('X32', -1.0)\n",
      "('X137', -1.0)\n",
      "\n",
      "Top 3 associated variables for Latent Variable z4:\n",
      "('X49', -1.0)\n",
      "('X15', -1.0)\n",
      "('X50', -1.0)\n"
     ]
    }
   ],
   "source": [
    "names = list(X.columns)\n",
    "n = 3\n",
    "for y, latent_var_spectra in enumerate(distrs_spectra):\n",
    "    print (\"distribution \",y)\n",
    "    for i in range(n_z):\n",
    "        latent_name = \"z\" + str(i)\n",
    "        print('\\nTop {} associated variables for Latent Variable {}:'.format(n, latent_name))\n",
    "        top_n_associated_indxs = np.argsort(np.abs(latent_var_spectra[latent_name]))[::-1][:n]\n",
    "        for association in zip(np.array(names)[top_n_associated_indxs], \n",
    "                               latent_var_spectra[latent_name][top_n_associated_indxs]):\n",
    "            print(association)"
   ]
  },
  {
   "cell_type": "markdown",
   "metadata": {},
   "source": [
    "## Plot spectra for each y"
   ]
  },
  {
   "cell_type": "code",
   "execution_count": 29,
   "metadata": {},
   "outputs": [
    {
     "data": {
      "image/png": "[encoded data removed]",
      "text/plain": [
       "<matplotlib.figure.Figure at 0x7fd1f8203ef0>"
      ]
     },
     "metadata": {},
     "output_type": "display_data"
    },
    {
     "data": {
      "image/png": "[encoded data removed]",
      "text/plain": [
       "<matplotlib.figure.Figure at 0x7fd200b7e898>"
      ]
     },
     "metadata": {},
     "output_type": "display_data"
    },
    {
     "data": {
      "image/png": "[encoded data removed]",
      "text/plain": [
       "<matplotlib.figure.Figure at 0x7fd20021af28>"
      ]
     },
     "metadata": {},
     "output_type": "display_data"
    },
    {
     "data": {
      "image/png": "[encoded data removed]",
      "text/plain": [
       "<matplotlib.figure.Figure at 0x7fd200953e80>"
      ]
     },
     "metadata": {},
     "output_type": "display_data"
    },
    {
     "data": {
      "image/png": "[encoded data removed]",
      "text/plain": [
       "<matplotlib.figure.Figure at 0x7fd200c5ae10>"
      ]
     },
     "metadata": {},
     "output_type": "display_data"
    }
   ],
   "source": [
    "for y, latent_var_spectra in enumerate(distrs_spectra):\n",
    "    for i in range(n_z):  # For each latent variable...\n",
    "        plt.plot(latent_var_spectra[\"z\" + str(i)], label=\"z\" + str(i))\n",
    "    plt.xlabel('Original Variable Index')\n",
    "    plt.ylabel('Correlation with Latent Variable')\n",
    "    plt.title('GMVAE Latent Variable Correlations for distribution '+str(y))\n",
    "    plt.legend(loc='upper right')\n",
    "    plt.show()"
   ]
  },
  {
   "cell_type": "code",
   "execution_count": null,
   "metadata": {},
   "outputs": [],
   "source": []
  },
  {
   "cell_type": "code",
   "execution_count": null,
   "metadata": {},
   "outputs": [],
   "source": []
  }
 ],
 "metadata": {
  "anaconda-cloud": {},
  "kernelspec": {
   "display_name": "Python 3",
   "language": "python",
   "name": "python3"
  },
  "language_info": {
   "codemirror_mode": {
    "name": "ipython",
    "version": 3
   },
   "file_extension": ".py",
   "mimetype": "text/x-python",
   "name": "python",
   "nbconvert_exporter": "python",
   "pygments_lexer": "ipython3",
   "version": "3.6.3"
  }
 },
 "nbformat": 4,
 "nbformat_minor": 2
}
