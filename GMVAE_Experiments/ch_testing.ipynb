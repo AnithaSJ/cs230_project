{
 "cells": [
  {
   "cell_type": "code",
   "execution_count": 1,
   "metadata": {},
   "outputs": [
    {
     "name": "stderr",
     "output_type": "stream",
     "text": [
      "/usr/local/lib/python3.6/site-packages/h5py/__init__.py:36: FutureWarning: Conversion of the second argument of issubdtype from `float` to `np.floating` is deprecated. In future, it will be treated as `np.float64 == np.dtype(float).type`.\n",
      "  from ._conv import register_converters as _register_converters\n"
     ]
    }
   ],
   "source": [
    "import tensorflow as tf\n",
    "import numpy as np\n",
    "from sklearn.metrics import calinski_harabaz_score"
   ]
  },
  {
   "cell_type": "code",
   "execution_count": 2,
   "metadata": {},
   "outputs": [],
   "source": [
    "def sample(parameters, N=1000):\n",
    "    \"\"\"\n",
    "    Samples N latent variables using parameters\n",
    "    \"\"\"\n",
    "    k = parameters['k']\n",
    "    n_z = parameters['n_z']\n",
    "    samples = np.zeros((N,n_z))\n",
    "    labels = np.zeros(N)\n",
    "    for i in range(N):\n",
    "        q = np.random.randint(k)\n",
    "        mu = parameters['mu_' + str(q)]\n",
    "        sigma = parameters['sigma_' + str(q)]\n",
    "        epsilon = np.random.randn(2)\n",
    "        x = mu + epsilon*sigma\n",
    "        samples[i] = x\n",
    "        labels[i] = q\n",
    "    return samples, labels"
   ]
  },
  {
   "cell_type": "code",
   "execution_count": 3,
   "metadata": {},
   "outputs": [],
   "source": [
    "def calinksi_harabaz_index(parameters):\n",
    "    \"\"\"\n",
    "    Computes the exact Calinski Harabaz Index (N -> inf)\n",
    "    Ignores (N-k)/(k-1) because N -> inf\n",
    "    http://scikit-learn.org/stable/modules/clustering.html#calinski-harabaz-index\n",
    "    \"\"\"\n",
    "    k = parameters['k']\n",
    "    n_z = parameters['n_z']\n",
    "    w_k = 0\n",
    "    b_k = 0\n",
    "    mu = np.zeros(n_z)\n",
    "    for q in range(k):\n",
    "        w_k += np.sum(parameters['sigma_' + str(q)]**2)\n",
    "        mu += parameters['mu_' + str(q)]\n",
    "    mu /= k\n",
    "    for q in range(k):\n",
    "        mu_q = parameters['mu_' + str(q)]\n",
    "        b_k += (mu_q-mu).T.dot(mu_q-mu)\n",
    "    return b_k/w_k"
   ]
  },
  {
   "cell_type": "code",
   "execution_count": 4,
   "metadata": {},
   "outputs": [],
   "source": [
    "k = 2\n",
    "n_x = 2\n",
    "n_z = 2"
   ]
  },
  {
   "cell_type": "code",
   "execution_count": 5,
   "metadata": {},
   "outputs": [],
   "source": [
    "mu_0 = np.array([-2,-2])\n",
    "mu_1 = np.array([3,3])\n",
    "sigma_0 = np.array([2,2])\n",
    "sigma_1 = np.array([3,3])\n",
    "parameters = {}\n",
    "parameters['n_z'] = 2\n",
    "parameters['k'] = 2\n",
    "parameters['mu_0'] = mu_0\n",
    "parameters['mu_1'] = mu_1\n",
    "parameters['sigma_0'] = sigma_0\n",
    "parameters['sigma_1'] = sigma_1"
   ]
  },
  {
   "cell_type": "code",
   "execution_count": 9,
   "metadata": {},
   "outputs": [
    {
     "name": "stdout",
     "output_type": "stream",
     "text": [
      "sklearn: 0.9522406651796289\n",
      "my: 0.9615384615384616\n"
     ]
    }
   ],
   "source": [
    "# Experiment to see that my algorithm gives same result as sklearn\n",
    "N = 10000\n",
    "samples, labels = sample(parameters,N)\n",
    "sklearn_score = (k-1)/(N-k)*calinski_harabaz_score(samples, labels)\n",
    "print('sklearn: ' + str(sklearn_score))\n",
    "my_score = calinksi_harabaz_index(parameters)\n",
    "print('my: ' + str(my_score))"
   ]
  }
 ],
 "metadata": {
  "anaconda-cloud": {},
  "kernelspec": {
   "display_name": "Python 3",
   "language": "python",
   "name": "python3"
  },
  "language_info": {
   "codemirror_mode": {
    "name": "ipython",
    "version": 3
   },
   "file_extension": ".py",
   "mimetype": "text/x-python",
   "name": "python",
   "nbconvert_exporter": "python",
   "pygments_lexer": "ipython3",
   "version": "3.6.4"
  }
 },
 "nbformat": 4,
 "nbformat_minor": 2
}
